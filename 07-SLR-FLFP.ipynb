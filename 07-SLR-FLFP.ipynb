{
 "cells": [
  {
   "cell_type": "markdown",
   "id": "844435e8",
   "metadata": {},
   "source": [
    "# Penguins Dataset Simple Linear Regression - Fitting Linear Feature Predictions"
   ]
  },
  {
   "cell_type": "markdown",
   "id": "c6dc97bb",
   "metadata": {},
   "source": [
    "### [Penguins Dataset](https://seaborn.pydata.org/tutorial/introduction.html)\n",
    "\n",
    "Author: [Kevin Thomas](mailto:ket189@pitt.edu)"
   ]
  },
  {
   "cell_type": "markdown",
   "id": "0600d4b0",
   "metadata": {},
   "source": [
    "## Citation"
   ]
  },
  {
   "cell_type": "markdown",
   "id": "ec57b3f7",
   "metadata": {},
   "source": [
    "[1] Allison Horst, https://github.com/allisonhorst/palmerpenguins"
   ]
  },
  {
   "cell_type": "markdown",
   "id": "2281e96c",
   "metadata": {},
   "source": [
    "## Import Modules"
   ]
  },
  {
   "cell_type": "code",
   "execution_count": 1,
   "id": "4d6f2076",
   "metadata": {},
   "outputs": [],
   "source": [
    "import numpy as np\n",
    "import pandas as pd\n",
    "import matplotlib.pyplot as plt\n",
    "import seaborn as sns\n",
    "import statsmodels.formula.api as smf"
   ]
  },
  {
   "cell_type": "markdown",
   "id": "4c514e3a",
   "metadata": {},
   "source": [
    "## Load Dataset"
   ]
  },
  {
   "cell_type": "code",
   "execution_count": 2,
   "id": "66ef5697",
   "metadata": {},
   "outputs": [],
   "source": [
    "df = sns.load_dataset('penguins')"
   ]
  },
  {
   "cell_type": "markdown",
   "id": "5163b8a3",
   "metadata": {},
   "source": [
    "## Perform Essential Exploration & Data Cleaning"
   ]
  },
  {
   "cell_type": "markdown",
   "id": "a1590e07",
   "metadata": {},
   "source": [
    "#### Display the initial number of rows and columns."
   ]
  },
  {
   "cell_type": "code",
   "execution_count": 3,
   "id": "b8f077b4",
   "metadata": {},
   "outputs": [
    {
     "data": {
      "text/plain": [
       "(344, 7)"
      ]
     },
     "execution_count": 3,
     "metadata": {},
     "output_type": "execute_result"
    }
   ],
   "source": [
    "df.shape"
   ]
  },
  {
   "cell_type": "markdown",
   "id": "685417c9",
   "metadata": {},
   "source": [
    "#### Display the initial variable names and their associated data types."
   ]
  },
  {
   "cell_type": "code",
   "execution_count": 4,
   "id": "13c65303",
   "metadata": {},
   "outputs": [
    {
     "data": {
      "text/plain": [
       "species               object\n",
       "island                object\n",
       "bill_length_mm       float64\n",
       "bill_depth_mm        float64\n",
       "flipper_length_mm    float64\n",
       "body_mass_g          float64\n",
       "sex                   object\n",
       "dtype: object"
      ]
     },
     "execution_count": 4,
     "metadata": {},
     "output_type": "execute_result"
    }
   ],
   "source": [
    "df.dtypes"
   ]
  },
  {
   "cell_type": "markdown",
   "id": "02b99681",
   "metadata": {},
   "source": [
    "#### Display the number of missing values for each column, remove the missing values and create a clean copy of the dataset."
   ]
  },
  {
   "cell_type": "code",
   "execution_count": 5,
   "id": "84e422e2",
   "metadata": {},
   "outputs": [
    {
     "data": {
      "text/plain": [
       "species               0\n",
       "island                0\n",
       "bill_length_mm        2\n",
       "bill_depth_mm         2\n",
       "flipper_length_mm     2\n",
       "body_mass_g           2\n",
       "sex                  11\n",
       "dtype: int64"
      ]
     },
     "execution_count": 5,
     "metadata": {},
     "output_type": "execute_result"
    }
   ],
   "source": [
    "df.isna().sum()"
   ]
  },
  {
   "cell_type": "code",
   "execution_count": 6,
   "id": "1b2cb9b6",
   "metadata": {},
   "outputs": [],
   "source": [
    "df_clean = df.dropna().copy()"
   ]
  },
  {
   "cell_type": "code",
   "execution_count": 7,
   "id": "de1a645c",
   "metadata": {},
   "outputs": [
    {
     "data": {
      "text/plain": [
       "species              0\n",
       "island               0\n",
       "bill_length_mm       0\n",
       "bill_depth_mm        0\n",
       "flipper_length_mm    0\n",
       "body_mass_g          0\n",
       "sex                  0\n",
       "dtype: int64"
      ]
     },
     "execution_count": 7,
     "metadata": {},
     "output_type": "execute_result"
    }
   ],
   "source": [
    "df_clean.isna().sum()"
   ]
  },
  {
   "cell_type": "markdown",
   "id": "cff95f5e",
   "metadata": {},
   "source": [
    "#### Display the number of unique values for each column after removing missing data and before initial exploration."
   ]
  },
  {
   "cell_type": "code",
   "execution_count": 8,
   "id": "e66f53c5",
   "metadata": {},
   "outputs": [
    {
     "data": {
      "text/plain": [
       "species                3\n",
       "island                 3\n",
       "bill_length_mm       163\n",
       "bill_depth_mm         79\n",
       "flipper_length_mm     54\n",
       "body_mass_g           93\n",
       "sex                    2\n",
       "dtype: int64"
      ]
     },
     "execution_count": 8,
     "metadata": {},
     "output_type": "execute_result"
    }
   ],
   "source": [
    "df_clean.nunique()"
   ]
  },
  {
   "cell_type": "markdown",
   "id": "a87dd02c",
   "metadata": {},
   "source": [
    "#### Display the number of unique values for the categorical variables after removing missing data and before initial exploration."
   ]
  },
  {
   "cell_type": "code",
   "execution_count": 9,
   "id": "f1f0cf3e",
   "metadata": {},
   "outputs": [
    {
     "data": {
      "text/plain": [
       "species    3\n",
       "island     3\n",
       "sex        2\n",
       "dtype: int64"
      ]
     },
     "execution_count": 9,
     "metadata": {},
     "output_type": "execute_result"
    }
   ],
   "source": [
    "df_clean.select_dtypes(exclude='number').nunique()"
   ]
  },
  {
   "cell_type": "markdown",
   "id": "f8fa0f40",
   "metadata": {},
   "source": [
    "#### Display the number of unique values for the continuous variables after removing missing data and before initial exploration."
   ]
  },
  {
   "cell_type": "code",
   "execution_count": 10,
   "id": "3e14cb3f",
   "metadata": {},
   "outputs": [
    {
     "data": {
      "text/plain": [
       "bill_length_mm       163\n",
       "bill_depth_mm         79\n",
       "flipper_length_mm     54\n",
       "body_mass_g           93\n",
       "dtype: int64"
      ]
     },
     "execution_count": 10,
     "metadata": {},
     "output_type": "execute_result"
    }
   ],
   "source": [
    "df_clean.select_dtypes(include='number').nunique()"
   ]
  },
  {
   "cell_type": "markdown",
   "id": "af68bc7c",
   "metadata": {},
   "source": [
    "## Fitting a Linear Feature"
   ]
  },
  {
   "cell_type": "markdown",
   "id": "d03f4088",
   "metadata": {},
   "source": [
    "#### We will fit a linear model between the input `flipper_length_mm` and the output `body_mass_g` assuming a linear relationship between the trend and the input."
   ]
  },
  {
   "cell_type": "markdown",
   "id": "ec06ba02",
   "metadata": {},
   "source": [
    "$\\mu = \\beta_0 + \\beta_1 \\times x$\n",
    "\n",
    "$\\mu$ **predicted trend**\n",
    "\n",
    "$\\beta_0$ **intercept**: value of $\\mu$ when $x = 0$\n",
    "\n",
    "$\\beta_1$ **slope**: change in $\\mu$ for a one-unit increase in $x$\n",
    "\n",
    "$x$ **feature** or **input variable**: independent variable used to predict $\\mu$"
   ]
  },
  {
   "cell_type": "code",
   "execution_count": null,
   "id": "18548ba7",
   "metadata": {},
   "outputs": [],
   "source": [
    "lm_fit = smf.ols(formula='body_mass_g ~ flipper_length_mm', \n",
    "                 data=df_clean). \\\n",
    "                 fit()"
   ]
  },
  {
   "cell_type": "code",
   "execution_count": null,
   "id": "d64dbe93",
   "metadata": {},
   "outputs": [
    {
     "data": {
      "text/html": [
       "<table class=\"simpletable\">\n",
       "<caption>OLS Regression Results</caption>\n",
       "<tr>\n",
       "  <th>Dep. Variable:</th>       <td>body_mass_g</td>   <th>  R-squared:         </th> <td>   0.762</td> \n",
       "</tr>\n",
       "<tr>\n",
       "  <th>Model:</th>                   <td>OLS</td>       <th>  Adj. R-squared:    </th> <td>   0.761</td> \n",
       "</tr>\n",
       "<tr>\n",
       "  <th>Method:</th>             <td>Least Squares</td>  <th>  F-statistic:       </th> <td>   1060.</td> \n",
       "</tr>\n",
       "<tr>\n",
       "  <th>Date:</th>             <td>Tue, 26 Aug 2025</td> <th>  Prob (F-statistic):</th> <td>3.13e-105</td>\n",
       "</tr>\n",
       "<tr>\n",
       "  <th>Time:</th>                 <td>19:54:26</td>     <th>  Log-Likelihood:    </th> <td> -2461.1</td> \n",
       "</tr>\n",
       "<tr>\n",
       "  <th>No. Observations:</th>      <td>   333</td>      <th>  AIC:               </th> <td>   4926.</td> \n",
       "</tr>\n",
       "<tr>\n",
       "  <th>Df Residuals:</th>          <td>   331</td>      <th>  BIC:               </th> <td>   4934.</td> \n",
       "</tr>\n",
       "<tr>\n",
       "  <th>Df Model:</th>              <td>     1</td>      <th>                     </th>     <td> </td>    \n",
       "</tr>\n",
       "<tr>\n",
       "  <th>Covariance Type:</th>      <td>nonrobust</td>    <th>                     </th>     <td> </td>    \n",
       "</tr>\n",
       "</table>\n",
       "<table class=\"simpletable\">\n",
       "<tr>\n",
       "          <td></td>             <th>coef</th>     <th>std err</th>      <th>t</th>      <th>P>|t|</th>  <th>[0.025</th>    <th>0.975]</th>  \n",
       "</tr>\n",
       "<tr>\n",
       "  <th>Intercept</th>         <td>-5872.0927</td> <td>  310.285</td> <td>  -18.925</td> <td> 0.000</td> <td>-6482.472</td> <td>-5261.713</td>\n",
       "</tr>\n",
       "<tr>\n",
       "  <th>flipper_length_mm</th> <td>   50.1533</td> <td>    1.540</td> <td>   32.562</td> <td> 0.000</td> <td>   47.123</td> <td>   53.183</td>\n",
       "</tr>\n",
       "</table>\n",
       "<table class=\"simpletable\">\n",
       "<tr>\n",
       "  <th>Omnibus:</th>       <td> 5.922</td> <th>  Durbin-Watson:     </th> <td>   2.102</td>\n",
       "</tr>\n",
       "<tr>\n",
       "  <th>Prob(Omnibus):</th> <td> 0.052</td> <th>  Jarque-Bera (JB):  </th> <td>   5.876</td>\n",
       "</tr>\n",
       "<tr>\n",
       "  <th>Skew:</th>          <td> 0.325</td> <th>  Prob(JB):          </th> <td>  0.0530</td>\n",
       "</tr>\n",
       "<tr>\n",
       "  <th>Kurtosis:</th>      <td> 3.025</td> <th>  Cond. No.          </th> <td>2.90e+03</td>\n",
       "</tr>\n",
       "</table><br/><br/>Notes:<br/>[1] Standard Errors assume that the covariance matrix of the errors is correctly specified.<br/>[2] The condition number is large, 2.9e+03. This might indicate that there are<br/>strong multicollinearity or other numerical problems."
      ],
      "text/latex": [
       "\\begin{center}\n",
       "\\begin{tabular}{lclc}\n",
       "\\toprule\n",
       "\\textbf{Dep. Variable:}      &  body\\_mass\\_g   & \\textbf{  R-squared:         } &     0.762   \\\\\n",
       "\\textbf{Model:}              &       OLS        & \\textbf{  Adj. R-squared:    } &     0.761   \\\\\n",
       "\\textbf{Method:}             &  Least Squares   & \\textbf{  F-statistic:       } &     1060.   \\\\\n",
       "\\textbf{Date:}               & Tue, 26 Aug 2025 & \\textbf{  Prob (F-statistic):} & 3.13e-105   \\\\\n",
       "\\textbf{Time:}               &     19:54:26     & \\textbf{  Log-Likelihood:    } &   -2461.1   \\\\\n",
       "\\textbf{No. Observations:}   &         333      & \\textbf{  AIC:               } &     4926.   \\\\\n",
       "\\textbf{Df Residuals:}       &         331      & \\textbf{  BIC:               } &     4934.   \\\\\n",
       "\\textbf{Df Model:}           &           1      & \\textbf{                     } &             \\\\\n",
       "\\textbf{Covariance Type:}    &    nonrobust     & \\textbf{                     } &             \\\\\n",
       "\\bottomrule\n",
       "\\end{tabular}\n",
       "\\begin{tabular}{lcccccc}\n",
       "                             & \\textbf{coef} & \\textbf{std err} & \\textbf{t} & \\textbf{P$> |$t$|$} & \\textbf{[0.025} & \\textbf{0.975]}  \\\\\n",
       "\\midrule\n",
       "\\textbf{Intercept}           &   -5872.0927  &      310.285     &   -18.925  &         0.000        &    -6482.472    &    -5261.713     \\\\\n",
       "\\textbf{flipper\\_length\\_mm} &      50.1533  &        1.540     &    32.562  &         0.000        &       47.123    &       53.183     \\\\\n",
       "\\bottomrule\n",
       "\\end{tabular}\n",
       "\\begin{tabular}{lclc}\n",
       "\\textbf{Omnibus:}       &  5.922 & \\textbf{  Durbin-Watson:     } &    2.102  \\\\\n",
       "\\textbf{Prob(Omnibus):} &  0.052 & \\textbf{  Jarque-Bera (JB):  } &    5.876  \\\\\n",
       "\\textbf{Skew:}          &  0.325 & \\textbf{  Prob(JB):          } &   0.0530  \\\\\n",
       "\\textbf{Kurtosis:}      &  3.025 & \\textbf{  Cond. No.          } & 2.90e+03  \\\\\n",
       "\\bottomrule\n",
       "\\end{tabular}\n",
       "%\\caption{OLS Regression Results}\n",
       "\\end{center}\n",
       "\n",
       "Notes: \\newline\n",
       " [1] Standard Errors assume that the covariance matrix of the errors is correctly specified. \\newline\n",
       " [2] The condition number is large, 2.9e+03. This might indicate that there are \\newline\n",
       " strong multicollinearity or other numerical problems."
      ],
      "text/plain": [
       "<class 'statsmodels.iolib.summary.Summary'>\n",
       "\"\"\"\n",
       "                            OLS Regression Results                            \n",
       "==============================================================================\n",
       "Dep. Variable:            body_mass_g   R-squared:                       0.762\n",
       "Model:                            OLS   Adj. R-squared:                  0.761\n",
       "Method:                 Least Squares   F-statistic:                     1060.\n",
       "Date:                Tue, 26 Aug 2025   Prob (F-statistic):          3.13e-105\n",
       "Time:                        19:54:26   Log-Likelihood:                -2461.1\n",
       "No. Observations:                 333   AIC:                             4926.\n",
       "Df Residuals:                     331   BIC:                             4934.\n",
       "Df Model:                           1                                         \n",
       "Covariance Type:            nonrobust                                         \n",
       "=====================================================================================\n",
       "                        coef    std err          t      P>|t|      [0.025      0.975]\n",
       "-------------------------------------------------------------------------------------\n",
       "Intercept         -5872.0927    310.285    -18.925      0.000   -6482.472   -5261.713\n",
       "flipper_length_mm    50.1533      1.540     32.562      0.000      47.123      53.183\n",
       "==============================================================================\n",
       "Omnibus:                        5.922   Durbin-Watson:                   2.102\n",
       "Prob(Omnibus):                  0.052   Jarque-Bera (JB):                5.876\n",
       "Skew:                           0.325   Prob(JB):                       0.0530\n",
       "Kurtosis:                       3.025   Cond. No.                     2.90e+03\n",
       "==============================================================================\n",
       "\n",
       "Notes:\n",
       "[1] Standard Errors assume that the covariance matrix of the errors is correctly specified.\n",
       "[2] The condition number is large, 2.9e+03. This might indicate that there are\n",
       "strong multicollinearity or other numerical problems.\n",
       "\"\"\""
      ]
     },
     "execution_count": 17,
     "metadata": {},
     "output_type": "execute_result"
    }
   ],
   "source": [
    "lm_fit.summary()"
   ]
  },
  {
   "cell_type": "markdown",
   "id": "8129d9d3",
   "metadata": {},
   "source": [
    "#### The `.params` attribute stores the coefficient estimates as they minimize the sum of squared errors."
   ]
  },
  {
   "cell_type": "markdown",
   "id": "19a84cb2",
   "metadata": {},
   "source": [
    "* The **slope**, 50.15, describes how much the predicted body mass changes for each additional millimeter of flipper length.\n",
    "  \n",
    "* The **intercept**, -5872.09, is a mathematical result that helps position the regression line but isn’t physically meaningful for penguins, since the data doesn’t include flipper lengths near zero."
   ]
  },
  {
   "cell_type": "code",
   "execution_count": null,
   "id": "2c9f4e8a",
   "metadata": {},
   "outputs": [
    {
     "data": {
      "text/plain": [
       "Intercept           -5872.092683\n",
       "flipper_length_mm      50.153266\n",
       "dtype: float64"
      ]
     },
     "execution_count": 18,
     "metadata": {},
     "output_type": "execute_result"
    }
   ],
   "source": [
    "lm_fit.params"
   ]
  },
  {
   "cell_type": "markdown",
   "id": "f4495e5d",
   "metadata": {},
   "source": [
    "#### The standard error on the estimate is contained in the `.bse` attribute."
   ]
  },
  {
   "cell_type": "markdown",
   "id": "c9412aa6",
   "metadata": {},
   "source": [
    "* The **standard error** for the **intercept**, 310.29, indicates that, if we repeatedly sampled penguins and fit the same model, the estimated starting body mass, -5872.09, would typically vary by about 310 grams between samples, showing the precision of this baseline estimate.\n",
    "\n",
    "* The **standard error** for the flipper length coefficient, 1.54, means our estimate that each additional millimeter of flipper length increases a penguin’s body mass by 50.15 grams is quite precise, with typical variation of only 1.54 grams across samples.\n",
    "\n",
    "* These small **standard errors** demonstrate that, for the penguins in the dataset, both the baseline body mass and the effect of flipper length are estimated with high statistical confidence.\n",
    "\n",
    "* They are considered to have high statistical confidence because the **standard errors** for both the **intercept**, 310.29, and the flipper length coefficient, 1.54, are small relative to the estimated values, –5872.09 and 50.15, respectively. \n",
    "  \n",
    "* This means that if you repeatedly sampled penguins and fit the same regression model, the estimates for the intercept and slope would vary only slightly from sample to sample."
   ]
  },
  {
   "cell_type": "code",
   "execution_count": null,
   "id": "15a5eae4",
   "metadata": {},
   "outputs": [
    {
     "data": {
      "text/plain": [
       "Intercept            310.285155\n",
       "flipper_length_mm      1.540231\n",
       "dtype: float64"
      ]
     },
     "execution_count": 19,
     "metadata": {},
     "output_type": "execute_result"
    }
   ],
   "source": [
    "lm_fit.bse"
   ]
  },
  {
   "cell_type": "markdown",
   "id": "03b9a882",
   "metadata": {},
   "source": [
    "#### We can use the $\\pm1$ and $\\pm2$ standard error intervals to know how trustworthy the estimate is."
   ]
  },
  {
   "cell_type": "markdown",
   "id": "ea6125fb",
   "metadata": {},
   "source": [
    "* The most common standard error interval is the $\\pm2$ standard error interval because that is approximately equal to the 95% confidence interval.\n",
    "\n",
    "* We are 95% confident that the coefficient is somewhere between 47 and 53.\n",
    "\n",
    "* The below are approximations as we will get the exact values with `.conf_int()`."
   ]
  },
  {
   "cell_type": "code",
   "execution_count": null,
   "id": "1b369cae",
   "metadata": {},
   "outputs": [
    {
     "data": {
      "text/plain": [
       "Intercept           -6492.662994\n",
       "flipper_length_mm      47.072804\n",
       "dtype: float64"
      ]
     },
     "execution_count": 20,
     "metadata": {},
     "output_type": "execute_result"
    }
   ],
   "source": [
    "lm_fit.params - 2 * lm_fit.bse"
   ]
  },
  {
   "cell_type": "code",
   "execution_count": null,
   "id": "005452af",
   "metadata": {},
   "outputs": [
    {
     "data": {
      "text/plain": [
       "Intercept           -5251.522372\n",
       "flipper_length_mm      53.233728\n",
       "dtype: float64"
      ]
     },
     "execution_count": 21,
     "metadata": {},
     "output_type": "execute_result"
    }
   ],
   "source": [
    "lm_fit.params + 2 * lm_fit.bse"
   ]
  },
  {
   "cell_type": "code",
   "execution_count": null,
   "id": "0592f109",
   "metadata": {},
   "outputs": [
    {
     "data": {
      "text/html": [
       "<div>\n",
       "<style scoped>\n",
       "    .dataframe tbody tr th:only-of-type {\n",
       "        vertical-align: middle;\n",
       "    }\n",
       "\n",
       "    .dataframe tbody tr th {\n",
       "        vertical-align: top;\n",
       "    }\n",
       "\n",
       "    .dataframe thead th {\n",
       "        text-align: right;\n",
       "    }\n",
       "</style>\n",
       "<table border=\"1\" class=\"dataframe\">\n",
       "  <thead>\n",
       "    <tr style=\"text-align: right;\">\n",
       "      <th></th>\n",
       "      <th>ci_lwr</th>\n",
       "      <th>ci_upr</th>\n",
       "    </tr>\n",
       "  </thead>\n",
       "  <tbody>\n",
       "    <tr>\n",
       "      <th>Intercept</th>\n",
       "      <td>-6482.472236</td>\n",
       "      <td>-5261.713130</td>\n",
       "    </tr>\n",
       "    <tr>\n",
       "      <th>flipper_length_mm</th>\n",
       "      <td>47.123390</td>\n",
       "      <td>53.183142</td>\n",
       "    </tr>\n",
       "  </tbody>\n",
       "</table>\n",
       "</div>"
      ],
      "text/plain": [
       "                        ci_lwr       ci_upr\n",
       "Intercept         -6482.472236 -5261.713130\n",
       "flipper_length_mm    47.123390    53.183142"
      ]
     },
     "execution_count": 22,
     "metadata": {},
     "output_type": "execute_result"
    }
   ],
   "source": [
    "lm_fit.conf_int(). \\\n",
    "       rename(columns={0: 'ci_lwr',\n",
    "                       1: 'ci_upr'})"
   ]
  },
  {
   "cell_type": "markdown",
   "id": "c46a8977",
   "metadata": {},
   "source": [
    "#### The P-values for the coefficients are used to identify the **statistically significant** of the input."
   ]
  },
  {
   "cell_type": "markdown",
   "id": "e74646ed",
   "metadata": {},
   "source": [
    "* A **statistically significent** input one that has a **p-value** less than 0.05 which means if this is the case, we have a **statistically significient** input or feature.\n",
    "\n",
    "* These values are extremely small and much lower than 0.05 so they indicate very strong **statistical significance** for both parameters. "
   ]
  },
  {
   "cell_type": "code",
   "execution_count": null,
   "id": "7fd18408",
   "metadata": {},
   "outputs": [
    {
     "data": {
      "text/plain": [
       "Intercept             1.183941e-54\n",
       "flipper_length_mm    3.132836e-105\n",
       "dtype: float64"
      ]
     },
     "execution_count": 23,
     "metadata": {},
     "output_type": "execute_result"
    }
   ],
   "source": [
    "lm_fit.pvalues"
   ]
  },
  {
   "cell_type": "code",
   "execution_count": null,
   "id": "dee983dd",
   "metadata": {},
   "outputs": [
    {
     "data": {
      "text/plain": [
       "Intercept            True\n",
       "flipper_length_mm    True\n",
       "dtype: bool"
      ]
     },
     "execution_count": 24,
     "metadata": {},
     "output_type": "execute_result"
    }
   ],
   "source": [
    "lm_fit.pvalues < 0.05"
   ]
  },
  {
   "cell_type": "markdown",
   "id": "2bcc3ebd",
   "metadata": {},
   "source": [
    "#### Visualize the coefficient estimates as markers in a scatter plot and the confidence intervals as error bars. "
   ]
  },
  {
   "cell_type": "markdown",
   "id": "dfce87a3",
   "metadata": {},
   "source": [
    "* We are confident that the 95% confidence interval does NOT contain zero as both `flipper_length_mm` and the **intercept** are not touching the zero grey dotted line.\n",
    "\n",
    "* The **intercept** is **statistically significantly negative**; the **slope** is negative, and the `flipper_length_mm` is **statistically significantly positive**; the **slope** is positive.\n",
    "\n",
    "* **We are confident the slope is positive for the `flipper_length_mm`, therefore we are confident that the average output is increasing as the input or feature is increasing.**"
   ]
  },
  {
   "cell_type": "code",
   "execution_count": null,
   "id": "34950796",
   "metadata": {},
   "outputs": [],
   "source": [
    "def my_coefplot(\n",
    "    model,\n",
    "    var,\n",
    "    xerr_mult=2,\n",
    "    color='k',\n",
    "    ecolor='k',\n",
    "    elinewidth=2,\n",
    "    ms=10,\n",
    "    vline=0,\n",
    "    xlabel='coefficient value',\n",
    "    title=None,\n",
    "    figsize=(7, 2.5),\n",
    "    xlim=None):\n",
    "    \"\"\"\n",
    "    Plots a single coefficient with error bars from a statsmodels model.\n",
    "\n",
    "    Params:\n",
    "        model: fitted statsmodels model\n",
    "        var: variable name (str), e.g. 'Intercept' or 'I(flipper_length_mm ** 2)'\n",
    "        xerr_mult: multiplier for error bars (default 2)\n",
    "        color: marker color\n",
    "        ecolor: error bar color\n",
    "        elinewidth: error bar line width\n",
    "        ms: marker size\n",
    "        vline: where to draw the vertical reference line (default 0)\n",
    "        xlabel: x-axis label (default 'coefficient value')\n",
    "        title: figure title (default None, uses variable name)\n",
    "        figsize: tuple, figure size\n",
    "        xlim: tuple, x-axis limits (optional, auto if None)\n",
    "    \"\"\"\n",
    "    # Get coefficient and error values\n",
    "    coef = model.params[var]\n",
    "    err = xerr_mult * model.bse[var]\n",
    "\n",
    "    # Create the plot\n",
    "    _, ax = plt.subplots(figsize=figsize)\n",
    "    ax.errorbar(\n",
    "        y = [var],\n",
    "        x = [coef],\n",
    "        xerr = [err],\n",
    "        fmt='o',\n",
    "        color=color,\n",
    "        ecolor=ecolor,\n",
    "        elinewidth=elinewidth,\n",
    "        ms=ms\n",
    "    )\n",
    "\n",
    "    # Add vertical line for reference\n",
    "    ax.axvline(x=vline, \n",
    "               linestyle='--', \n",
    "               linewidth=4, \n",
    "               color='grey')\n",
    "    ax.set_xlabel(xlabel)\n",
    "    if title is None:\n",
    "        title = f\"Coefficient Plot for '{var}'\"\n",
    "    ax.set_title(title)\n",
    "\n",
    "    # Always include zero in xlim, and add padding around error bar\n",
    "    bar_left = min(coef - err, vline)\n",
    "    bar_right = max(coef + err, vline)\n",
    "    pad = (bar_right - bar_left) * 0.15 if (bar_right - bar_left) > 0 else 1\n",
    "    auto_xlim = (bar_left - pad, bar_right + pad)\n",
    "\n",
    "    # Set x-axis limits\n",
    "    if xlim is not None:\n",
    "        ax.set_xlim(*xlim)\n",
    "    else:\n",
    "        ax.set_xlim(*auto_xlim)\n",
    "\n",
    "    # Show the plot\n",
    "    plt.show()"
   ]
  },
  {
   "cell_type": "code",
   "execution_count": null,
   "id": "e0f9976a",
   "metadata": {},
   "outputs": [
    {
     "data": {
      "image/png": "[encoded data removed]",
      "text/plain": [
       "<Figure size 700x250 with 1 Axes>"
      ]
     },
     "metadata": {},
     "output_type": "display_data"
    }
   ],
   "source": [
    "my_coefplot(lm_fit, var='Intercept')"
   ]
  },
  {
   "cell_type": "code",
   "execution_count": null,
   "id": "41aaabe8",
   "metadata": {},
   "outputs": [
    {
     "data": {
      "image/png": "[encoded data removed]",
      "text/plain": [
       "<Figure size 700x250 with 1 Axes>"
      ]
     },
     "metadata": {},
     "output_type": "display_data"
    }
   ],
   "source": [
    "my_coefplot(lm_fit, var='flipper_length_mm')"
   ]
  },
  {
   "cell_type": "markdown",
   "id": "f841d2f8",
   "metadata": {},
   "source": [
    "## Linear Feature Prediction"
   ]
  },
  {
   "cell_type": "code",
   "execution_count": null,
   "id": "6e1199fc",
   "metadata": {},
   "outputs": [],
   "source": [
    "x = df_clean['flipper_length_mm']\n",
    "y = df_clean['body_mass_g']"
   ]
  },
  {
   "cell_type": "code",
   "execution_count": null,
   "id": "708320dd",
   "metadata": {},
   "outputs": [],
   "source": [
    "my_slope, my_intercept = np.polyfit(x, \n",
    "                                    y, \n",
    "                                    1)"
   ]
  },
  {
   "cell_type": "code",
   "execution_count": null,
   "id": "f56e279a",
   "metadata": {},
   "outputs": [],
   "source": [
    "df_viz = df_clean.copy()"
   ]
  },
  {
   "cell_type": "code",
   "execution_count": null,
   "id": "8e658c26",
   "metadata": {},
   "outputs": [],
   "source": [
    "df_viz['trend'] = my_intercept + \\\n",
    "                  my_slope * \\\n",
    "                  df_viz['flipper_length_mm']"
   ]
  },
  {
   "cell_type": "markdown",
   "id": "55cb7550",
   "metadata": {},
   "source": [
    "#### Include the training set as a scatter plot."
   ]
  },
  {
   "cell_type": "code",
   "execution_count": null,
   "id": "e5168373",
   "metadata": {},
   "outputs": [
    {
     "data": {
      "image/png": "[encoded data removed]",
      "text/plain": [
       "<Figure size 800x600 with 1 Axes>"
      ]
     },
     "metadata": {},
     "output_type": "display_data"
    }
   ],
   "source": [
    "plt.figure(figsize=(8,6))\n",
    "plt.scatter(df_viz['flipper_length_mm'], \n",
    "            df_viz['body_mass_g'], \n",
    "            color='blue', \n",
    "            label='Actual Data')\n",
    "plt.plot(df_viz['flipper_length_mm'], \n",
    "         df_viz['trend'], \n",
    "         color='red', \n",
    "         label='Trend Line')\n",
    "plt.xlabel('flipper_length_mm')\n",
    "plt.ylabel('body_mass_g')\n",
    "plt.title('Body Mass vs Flipper Length with Trend Line')\n",
    "plt.legend()\n",
    "plt.show()"
   ]
  },
  {
   "cell_type": "markdown",
   "id": "0825b0de",
   "metadata": {},
   "source": [
    "#### We will not know the true relationship therefore we must include the confidence intervals on the predicted trend as we must always represent the uncertainty on the trend given the fitted data."
   ]
  },
  {
   "cell_type": "code",
   "execution_count": null,
   "id": "92f82bb6",
   "metadata": {},
   "outputs": [],
   "source": [
    "predictions = lm_fit.get_prediction(df_viz)"
   ]
  },
  {
   "cell_type": "code",
   "execution_count": null,
   "id": "719d0e19",
   "metadata": {},
   "outputs": [],
   "source": [
    "lm_pred_summary = predictions.summary_frame()"
   ]
  },
  {
   "cell_type": "code",
   "execution_count": null,
   "id": "e7305f13",
   "metadata": {},
   "outputs": [
    {
     "data": {
      "text/html": [
       "<div>\n",
       "<style scoped>\n",
       "    .dataframe tbody tr th:only-of-type {\n",
       "        vertical-align: middle;\n",
       "    }\n",
       "\n",
       "    .dataframe tbody tr th {\n",
       "        vertical-align: top;\n",
       "    }\n",
       "\n",
       "    .dataframe thead th {\n",
       "        text-align: right;\n",
       "    }\n",
       "</style>\n",
       "<table border=\"1\" class=\"dataframe\">\n",
       "  <thead>\n",
       "    <tr style=\"text-align: right;\">\n",
       "      <th></th>\n",
       "      <th>mean</th>\n",
       "      <th>mean_se</th>\n",
       "      <th>mean_ci_lower</th>\n",
       "      <th>mean_ci_upper</th>\n",
       "      <th>obs_ci_lower</th>\n",
       "      <th>obs_ci_upper</th>\n",
       "    </tr>\n",
       "  </thead>\n",
       "  <tbody>\n",
       "    <tr>\n",
       "      <th>0</th>\n",
       "      <td>3205.648453</td>\n",
       "      <td>37.555479</td>\n",
       "      <td>3131.770937</td>\n",
       "      <td>3279.525968</td>\n",
       "      <td>2428.361760</td>\n",
       "      <td>3982.935146</td>\n",
       "    </tr>\n",
       "    <tr>\n",
       "      <th>1</th>\n",
       "      <td>3456.414782</td>\n",
       "      <td>31.560151</td>\n",
       "      <td>3394.331017</td>\n",
       "      <td>3518.498548</td>\n",
       "      <td>2680.160243</td>\n",
       "      <td>4232.669322</td>\n",
       "    </tr>\n",
       "    <tr>\n",
       "      <th>2</th>\n",
       "      <td>3907.794176</td>\n",
       "      <td>23.432601</td>\n",
       "      <td>3861.698575</td>\n",
       "      <td>3953.889777</td>\n",
       "      <td>3132.654498</td>\n",
       "      <td>4682.933854</td>\n",
       "    </tr>\n",
       "    <tr>\n",
       "      <th>3</th>\n",
       "      <td>3807.487644</td>\n",
       "      <td>24.803187</td>\n",
       "      <td>3758.695887</td>\n",
       "      <td>3856.279401</td>\n",
       "      <td>3032.182961</td>\n",
       "      <td>4582.792327</td>\n",
       "    </tr>\n",
       "    <tr>\n",
       "      <th>4</th>\n",
       "      <td>3657.027846</td>\n",
       "      <td>27.385208</td>\n",
       "      <td>3603.156847</td>\n",
       "      <td>3710.898845</td>\n",
       "      <td>2881.386950</td>\n",
       "      <td>4432.668743</td>\n",
       "    </tr>\n",
       "    <tr>\n",
       "      <th>...</th>\n",
       "      <td>...</td>\n",
       "      <td>...</td>\n",
       "      <td>...</td>\n",
       "      <td>...</td>\n",
       "      <td>...</td>\n",
       "      <td>...</td>\n",
       "    </tr>\n",
       "    <tr>\n",
       "      <th>328</th>\n",
       "      <td>4860.706229</td>\n",
       "      <td>29.454747</td>\n",
       "      <td>4802.764124</td>\n",
       "      <td>4918.648334</td>\n",
       "      <td>4084.771951</td>\n",
       "      <td>5636.640507</td>\n",
       "    </tr>\n",
       "    <tr>\n",
       "      <th>329</th>\n",
       "      <td>4910.859495</td>\n",
       "      <td>30.525256</td>\n",
       "      <td>4850.811531</td>\n",
       "      <td>4970.907459</td>\n",
       "      <td>4134.765123</td>\n",
       "      <td>5686.953867</td>\n",
       "    </tr>\n",
       "    <tr>\n",
       "      <th>330</th>\n",
       "      <td>5261.932356</td>\n",
       "      <td>38.911498</td>\n",
       "      <td>5185.387339</td>\n",
       "      <td>5338.477374</td>\n",
       "      <td>4484.387595</td>\n",
       "      <td>6039.477118</td>\n",
       "    </tr>\n",
       "    <tr>\n",
       "      <th>331</th>\n",
       "      <td>4760.399697</td>\n",
       "      <td>27.448091</td>\n",
       "      <td>4706.404999</td>\n",
       "      <td>4814.394395</td>\n",
       "      <td>3984.750199</td>\n",
       "      <td>5536.049195</td>\n",
       "    </tr>\n",
       "    <tr>\n",
       "      <th>332</th>\n",
       "      <td>4810.552963</td>\n",
       "      <td>28.427409</td>\n",
       "      <td>4754.631792</td>\n",
       "      <td>4866.474134</td>\n",
       "      <td>4034.766979</td>\n",
       "      <td>5586.338947</td>\n",
       "    </tr>\n",
       "  </tbody>\n",
       "</table>\n",
       "<p>333 rows × 6 columns</p>\n",
       "</div>"
      ],
      "text/plain": [
       "            mean    mean_se  mean_ci_lower  mean_ci_upper  obs_ci_lower  \\\n",
       "0    3205.648453  37.555479    3131.770937    3279.525968   2428.361760   \n",
       "1    3456.414782  31.560151    3394.331017    3518.498548   2680.160243   \n",
       "2    3907.794176  23.432601    3861.698575    3953.889777   3132.654498   \n",
       "3    3807.487644  24.803187    3758.695887    3856.279401   3032.182961   \n",
       "4    3657.027846  27.385208    3603.156847    3710.898845   2881.386950   \n",
       "..           ...        ...            ...            ...           ...   \n",
       "328  4860.706229  29.454747    4802.764124    4918.648334   4084.771951   \n",
       "329  4910.859495  30.525256    4850.811531    4970.907459   4134.765123   \n",
       "330  5261.932356  38.911498    5185.387339    5338.477374   4484.387595   \n",
       "331  4760.399697  27.448091    4706.404999    4814.394395   3984.750199   \n",
       "332  4810.552963  28.427409    4754.631792    4866.474134   4034.766979   \n",
       "\n",
       "     obs_ci_upper  \n",
       "0     3982.935146  \n",
       "1     4232.669322  \n",
       "2     4682.933854  \n",
       "3     4582.792327  \n",
       "4     4432.668743  \n",
       "..            ...  \n",
       "328   5636.640507  \n",
       "329   5686.953867  \n",
       "330   6039.477118  \n",
       "331   5536.049195  \n",
       "332   5586.338947  \n",
       "\n",
       "[333 rows x 6 columns]"
      ]
     },
     "execution_count": 35,
     "metadata": {},
     "output_type": "execute_result"
    }
   ],
   "source": [
    "lm_pred_summary"
   ]
  },
  {
   "cell_type": "markdown",
   "id": "74e79eb6",
   "metadata": {},
   "source": [
    "#### Visualize the 95% confidence interval and 95% prediction interval."
   ]
  },
  {
   "cell_type": "markdown",
   "id": "eaa28411",
   "metadata": {},
   "source": [
    "* **Confidence Interval (CI) for the Mean Prediction (Grey Band):**\n",
    "  * Shows uncertainty in the estimate of the average value (the regression line) for a given x.\n",
    "  * Typically narrow; with enough data, the mean can be estimated precisely.\n",
    "  * 95% CI means: \"We are 95% confident the true average response falls within this band for each x-value.\"\n",
    "  * Most data points will not fall inside this band; it is only about the mean.\n",
    "\n",
    "* **Prediction Interval (PI) for Individual Observations (Orange Band):**\n",
    "  * Shows where we expect 95% of future individual data points to fall, at each value of x.\n",
    "  * Much wider than the CI, because it includes both the uncertainty in the mean and the natural scatter (variance) of the data.\n",
    "  * 95% PI means: \"If we observe a new data point at a given x, there is a 95% chance it will fall inside this band.\"\n",
    "\n",
    "* **Key Differences:**\n",
    "  * CI is about the uncertainty in the average (regression line).\n",
    "  * PI is about the uncertainty in predicting a single new data point.\n",
    "\n",
    "* **In the plot:**\n",
    "  * The grey band is the 95% CI for the mean prediction.\n",
    "  * The orange band is the 95% PI for individual body mass measurements given flipper length.\n",
    "  * The black dots are your actual data points.\n",
    "\n",
    "* Most dots fall inside the orange PI band (as expected), but only a few will fall inside the narrow grey CI band.\n",
    "\n",
    "* Use the PI to show the expected spread of new data.\n",
    "  \n",
    "* Use the CI to show uncertainty in the estimated average."
   ]
  },
  {
   "cell_type": "code",
   "execution_count": null,
   "id": "d65b7631",
   "metadata": {},
   "outputs": [
    {
     "data": {
      "image/png": "[encoded data removed]",
      "text/plain": [
       "<Figure size 640x480 with 1 Axes>"
      ]
     },
     "metadata": {},
     "output_type": "display_data"
    }
   ],
   "source": [
    "# Generate x values over the full data range\n",
    "flipper_range = np.linspace(df_clean.flipper_length_mm.min(), \n",
    "                            df_clean.flipper_length_mm.max(), \n",
    "                            200)\n",
    "df_pred = pd.DataFrame({'flipper_length_mm': flipper_range})\n",
    "lm_pred_summary_full = lm_fit.get_prediction(df_pred).summary_frame()\n",
    "\n",
    "# Create the figure and axis\n",
    "fig, ax = plt.subplots()\n",
    "\n",
    "# Prediction interval - the uncertainty on a single measurement (observation)\n",
    "ax.fill_between(flipper_range,\n",
    "                lm_pred_summary_full.obs_ci_lower, \n",
    "                lm_pred_summary_full.obs_ci_upper,\n",
    "                facecolor='orange', \n",
    "                alpha=0.75, \n",
    "                edgecolor='orange')\n",
    "\n",
    "# Confidence interval - the uncertainty on the mean output\n",
    "ax.fill_between(flipper_range,\n",
    "                lm_pred_summary_full.mean_ci_lower, \n",
    "                lm_pred_summary_full.mean_ci_upper,\n",
    "                facecolor='grey', \n",
    "                edgecolor='grey')\n",
    "\n",
    "# Output mean - the predictive trend - the best fit line\n",
    "ax.plot(flipper_range, \n",
    "        lm_pred_summary_full['mean'], \n",
    "        color='k', \n",
    "        linewidth=1.5)\n",
    "\n",
    "# Include the training data\n",
    "ax.scatter(df_clean.flipper_length_mm, \n",
    "           df_clean.body_mass_g, \n",
    "           color='k', \n",
    "           s=10)\n",
    "\n",
    "# Set the labels\n",
    "ax.set_xlabel('Flipper Length (mm)')\n",
    "ax.set_ylabel('Body Mass (g)')\n",
    "\n",
    "# Show the plot\n",
    "plt.show()"
   ]
  }
 ],
 "metadata": {
  "kernelspec": {
   "display_name": "prod",
   "language": "python",
   "name": "python3"
  },
  "language_info": {
   "codemirror_mode": {
    "name": "ipython",
    "version": 3
   },
   "file_extension": ".py",
   "mimetype": "text/x-python",
   "name": "python",
   "nbconvert_exporter": "python",
   "pygments_lexer": "ipython3",
   "version": "3.12.7"
  }
 },
 "nbformat": 4,
 "nbformat_minor": 5
}

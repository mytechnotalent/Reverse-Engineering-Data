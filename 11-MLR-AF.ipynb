{
 "cells": [
  {
   "cell_type": "markdown",
   "id": "844435e8",
   "metadata": {},
   "source": [
    "# Multiple Linear Regression - Additive Features"
   ]
  },
  {
   "cell_type": "markdown",
   "id": "c6dc97bb",
   "metadata": {},
   "source": [
    "Author: [Kevin Thomas](mailto:ket189@pitt.edu)"
   ]
  },
  {
   "cell_type": "markdown",
   "id": "2281e96c",
   "metadata": {},
   "source": [
    "## Import Modules"
   ]
  },
  {
   "cell_type": "code",
   "execution_count": 38,
   "id": "4d6f2076",
   "metadata": {},
   "outputs": [],
   "source": [
    "import numpy as np\n",
    "import pandas as pd\n",
    "import matplotlib.pyplot as plt\n",
    "import seaborn as sns\n"
   ]
  },
  {
   "cell_type": "markdown",
   "id": "64bbe653",
   "metadata": {},
   "source": [
    "## Multiple Linear Regression - Understanding How Additive Features Affect Data"
   ]
  },
  {
   "cell_type": "markdown",
   "id": "b4fae40d",
   "metadata": {},
   "source": [
    "### **Additive** features add the effect of input 2 to the effect of input 1."
   ]
  },
  {
   "cell_type": "markdown",
   "id": "6e399dc1",
   "metadata": {},
   "source": [
    "$\\mu = \\beta_0 + \\beta_1 \\times x_1 + \\beta_2 \\times x_2$\n",
    "\n",
    "$\\mu$ **predicted trend**\n",
    "\n",
    "$\\beta_0$ **intercept**: value of $\\mu$ when $x = 0$\n",
    "\n",
    "$\\beta_1$ **slope**: change in $\\mu$ for a one-unit increase in $x_1$\n",
    "\n",
    "$x_1$ **feature** or **input variable**: one of the independent variables used to predict $\\mu$\n",
    "\n",
    "$\\beta_2$ **slope**: change in $\\mu$ for a one-unit increase in $x_2$\n",
    "\n",
    "$x_2$ **feature** or **input variable**: one of the independent variables used to predict $\\mu$"
   ]
  },
  {
   "cell_type": "markdown",
   "id": "7e33c14a",
   "metadata": {},
   "source": [
    "### Additive linear relationships is where we calculate the average output or trend given input 1 and input 2 and the 3 regression coefficients as we will create a funciton that will allow visualization of the trend with respect to input 1."
   ]
  },
  {
   "cell_type": "code",
   "execution_count": 39,
   "id": "a1ceb25b",
   "metadata": {},
   "outputs": [],
   "source": [
    "def calc_trend_wrt_x1(x1, \n",
    "                      x2, \n",
    "                      b0, \n",
    "                      b1, \n",
    "                      b2):\n",
    "    \"\"\"\n",
    "    Calculates the linear trend based on two independent variables x1 and x2, using the provided coefficients.\n",
    "    \n",
    "    Args:\n",
    "        x1 (array-like): Values for the first independent variable.\n",
    "        x2 (array-like): Values for the second independent variable.\n",
    "        b0 (float): Intercept coefficient.\n",
    "        b1 (float): Coefficient for x1.\n",
    "        b2 (float): Coefficient for x2.\n",
    "    \n",
    "    Returns:\n",
    "        pandas.DataFrame: DataFrame containing columns for x1, x2, and the calculated trend.\n",
    "    \"\"\"\n",
    "    res_df = pd.DataFrame({'x1': x1})\n",
    "    res_df['x2'] = x2\n",
    "    res_df['trend'] = b0 + b1 * res_df.x1 + b2 * res_df.x2\n",
    "    return res_df"
   ]
  },
  {
   "cell_type": "markdown",
   "id": "20cdd018",
   "metadata": {},
   "source": [
    "### To demonstrate the relationships, let's define the following coefficients."
   ]
  },
  {
   "cell_type": "code",
   "execution_count": 40,
   "id": "3d35e0a3",
   "metadata": {},
   "outputs": [],
   "source": [
    "b0 = -0.25\n",
    "b1 = 1.95\n",
    "b2 = 0.2"
   ]
  },
  {
   "cell_type": "markdown",
   "id": "6407e61f",
   "metadata": {},
   "source": [
    "### Let's define 101 evenly or uniformly spaced values of `x1` between -3 and 3."
   ]
  },
  {
   "cell_type": "code",
   "execution_count": 41,
   "id": "63ecef22",
   "metadata": {},
   "outputs": [],
   "source": [
    "x1_values = np.linspace(-3, \n",
    "                        3, \n",
    "                        101)"
   ]
  },
  {
   "cell_type": "code",
   "execution_count": 42,
   "id": "6136ddc9",
   "metadata": {},
   "outputs": [
    {
     "data": {
      "text/plain": [
       "array([-3.  , -2.94, -2.88, -2.82, -2.76, -2.7 , -2.64, -2.58, -2.52,\n",
       "       -2.46, -2.4 , -2.34, -2.28, -2.22, -2.16, -2.1 , -2.04, -1.98,\n",
       "       -1.92, -1.86, -1.8 , -1.74, -1.68, -1.62, -1.56, -1.5 , -1.44,\n",
       "       -1.38, -1.32, -1.26, -1.2 , -1.14, -1.08, -1.02, -0.96, -0.9 ,\n",
       "       -0.84, -0.78, -0.72, -0.66, -0.6 , -0.54, -0.48, -0.42, -0.36,\n",
       "       -0.3 , -0.24, -0.18, -0.12, -0.06,  0.  ,  0.06,  0.12,  0.18,\n",
       "        0.24,  0.3 ,  0.36,  0.42,  0.48,  0.54,  0.6 ,  0.66,  0.72,\n",
       "        0.78,  0.84,  0.9 ,  0.96,  1.02,  1.08,  1.14,  1.2 ,  1.26,\n",
       "        1.32,  1.38,  1.44,  1.5 ,  1.56,  1.62,  1.68,  1.74,  1.8 ,\n",
       "        1.86,  1.92,  1.98,  2.04,  2.1 ,  2.16,  2.22,  2.28,  2.34,\n",
       "        2.4 ,  2.46,  2.52,  2.58,  2.64,  2.7 ,  2.76,  2.82,  2.88,\n",
       "        2.94,  3.  ])"
      ]
     },
     "execution_count": 42,
     "metadata": {},
     "output_type": "execute_result"
    }
   ],
   "source": [
    "x1_values"
   ]
  },
  {
   "cell_type": "code",
   "execution_count": 43,
   "id": "8cd76735",
   "metadata": {},
   "outputs": [
    {
     "data": {
      "text/plain": [
       "101"
      ]
     },
     "execution_count": 43,
     "metadata": {},
     "output_type": "execute_result"
    }
   ],
   "source": [
    "x1_values.size"
   ]
  },
  {
   "cell_type": "code",
   "execution_count": 44,
   "id": "0f729547",
   "metadata": {},
   "outputs": [
    {
     "data": {
      "text/plain": [
       "1"
      ]
     },
     "execution_count": 44,
     "metadata": {},
     "output_type": "execute_result"
    }
   ],
   "source": [
    "x1_values.ndim"
   ]
  },
  {
   "cell_type": "markdown",
   "id": "a67adb01",
   "metadata": {},
   "source": [
    "### Let's calculate the average output for a single value of `x2` at 0 where `x2` has 1 unique value 0, and it appears 101 times."
   ]
  },
  {
   "cell_type": "code",
   "execution_count": 45,
   "id": "95d00bc5",
   "metadata": {},
   "outputs": [
    {
     "data": {
      "text/html": [
       "<div>\n",
       "<style scoped>\n",
       "    .dataframe tbody tr th:only-of-type {\n",
       "        vertical-align: middle;\n",
       "    }\n",
       "\n",
       "    .dataframe tbody tr th {\n",
       "        vertical-align: top;\n",
       "    }\n",
       "\n",
       "    .dataframe thead th {\n",
       "        text-align: right;\n",
       "    }\n",
       "</style>\n",
       "<table border=\"1\" class=\"dataframe\">\n",
       "  <thead>\n",
       "    <tr style=\"text-align: right;\">\n",
       "      <th></th>\n",
       "      <th>x1</th>\n",
       "      <th>x2</th>\n",
       "      <th>trend</th>\n",
       "    </tr>\n",
       "  </thead>\n",
       "  <tbody>\n",
       "    <tr>\n",
       "      <th>0</th>\n",
       "      <td>-3.00</td>\n",
       "      <td>0</td>\n",
       "      <td>-6.100</td>\n",
       "    </tr>\n",
       "    <tr>\n",
       "      <th>1</th>\n",
       "      <td>-2.94</td>\n",
       "      <td>0</td>\n",
       "      <td>-5.983</td>\n",
       "    </tr>\n",
       "    <tr>\n",
       "      <th>2</th>\n",
       "      <td>-2.88</td>\n",
       "      <td>0</td>\n",
       "      <td>-5.866</td>\n",
       "    </tr>\n",
       "    <tr>\n",
       "      <th>3</th>\n",
       "      <td>-2.82</td>\n",
       "      <td>0</td>\n",
       "      <td>-5.749</td>\n",
       "    </tr>\n",
       "    <tr>\n",
       "      <th>4</th>\n",
       "      <td>-2.76</td>\n",
       "      <td>0</td>\n",
       "      <td>-5.632</td>\n",
       "    </tr>\n",
       "    <tr>\n",
       "      <th>...</th>\n",
       "      <td>...</td>\n",
       "      <td>...</td>\n",
       "      <td>...</td>\n",
       "    </tr>\n",
       "    <tr>\n",
       "      <th>96</th>\n",
       "      <td>2.76</td>\n",
       "      <td>0</td>\n",
       "      <td>5.132</td>\n",
       "    </tr>\n",
       "    <tr>\n",
       "      <th>97</th>\n",
       "      <td>2.82</td>\n",
       "      <td>0</td>\n",
       "      <td>5.249</td>\n",
       "    </tr>\n",
       "    <tr>\n",
       "      <th>98</th>\n",
       "      <td>2.88</td>\n",
       "      <td>0</td>\n",
       "      <td>5.366</td>\n",
       "    </tr>\n",
       "    <tr>\n",
       "      <th>99</th>\n",
       "      <td>2.94</td>\n",
       "      <td>0</td>\n",
       "      <td>5.483</td>\n",
       "    </tr>\n",
       "    <tr>\n",
       "      <th>100</th>\n",
       "      <td>3.00</td>\n",
       "      <td>0</td>\n",
       "      <td>5.600</td>\n",
       "    </tr>\n",
       "  </tbody>\n",
       "</table>\n",
       "<p>101 rows × 3 columns</p>\n",
       "</div>"
      ],
      "text/plain": [
       "       x1  x2  trend\n",
       "0   -3.00   0 -6.100\n",
       "1   -2.94   0 -5.983\n",
       "2   -2.88   0 -5.866\n",
       "3   -2.82   0 -5.749\n",
       "4   -2.76   0 -5.632\n",
       "..    ...  ..    ...\n",
       "96   2.76   0  5.132\n",
       "97   2.82   0  5.249\n",
       "98   2.88   0  5.366\n",
       "99   2.94   0  5.483\n",
       "100  3.00   0  5.600\n",
       "\n",
       "[101 rows x 3 columns]"
      ]
     },
     "execution_count": 45,
     "metadata": {},
     "output_type": "execute_result"
    }
   ],
   "source": [
    "calc_trend_wrt_x1(x1_values, \n",
    "                  0, \n",
    "                  b0, \n",
    "                  b1, \n",
    "                  b2)"
   ]
  },
  {
   "cell_type": "code",
   "execution_count": 46,
   "id": "19d74142",
   "metadata": {},
   "outputs": [
    {
     "data": {
      "text/plain": [
       "x2\n",
       "0    101\n",
       "Name: count, dtype: int64"
      ]
     },
     "execution_count": 46,
     "metadata": {},
     "output_type": "execute_result"
    }
   ],
   "source": [
    "calc_trend_wrt_x1(x1_values, \n",
    "                  0, \n",
    "                  b0, \n",
    "                  b1, \n",
    "                  b2). \\\n",
    "                 x2.value_counts()"
   ]
  },
  {
   "cell_type": "markdown",
   "id": "dc90798c",
   "metadata": {},
   "source": [
    "### Let's visualize the relationship between the average output and input 1 where the average output has roughtly a change of 2 on the trend for a 1 unit change on the input as the slope is how much does the output change on average for a one unit change of the input."
   ]
  },
  {
   "cell_type": "code",
   "execution_count": 47,
   "id": "060f2623",
   "metadata": {},
   "outputs": [
    {
     "data": {
      "image/png": "[encoded data removed]",
      "text/plain": [
       "<Figure size 500x500 with 1 Axes>"
      ]
     },
     "metadata": {},
     "output_type": "display_data"
    }
   ],
   "source": [
    "sns.relplot(data=calc_trend_wrt_x1(x1_values, \n",
    "                                   0, \n",
    "                                   b0, \n",
    "                                   b1, \n",
    "                                   b2), \n",
    "                                   x='x1', \n",
    "                                   y='trend', \n",
    "                                   kind='line')\n",
    "plt.show()"
   ]
  },
  {
   "cell_type": "markdown",
   "id": "23872406",
   "metadata": {},
   "source": [
    "### Now we will change `x2` from 0 to -2 as we can visualize the new trend as a 1 unit change in the input produces an almost 2 unit change on the trend but it is hard to see any difference from the prior graphic."
   ]
  },
  {
   "cell_type": "code",
   "execution_count": 48,
   "id": "5c4dd37e",
   "metadata": {},
   "outputs": [
    {
     "data": {
      "text/html": [
       "<div>\n",
       "<style scoped>\n",
       "    .dataframe tbody tr th:only-of-type {\n",
       "        vertical-align: middle;\n",
       "    }\n",
       "\n",
       "    .dataframe tbody tr th {\n",
       "        vertical-align: top;\n",
       "    }\n",
       "\n",
       "    .dataframe thead th {\n",
       "        text-align: right;\n",
       "    }\n",
       "</style>\n",
       "<table border=\"1\" class=\"dataframe\">\n",
       "  <thead>\n",
       "    <tr style=\"text-align: right;\">\n",
       "      <th></th>\n",
       "      <th>x1</th>\n",
       "      <th>x2</th>\n",
       "      <th>trend</th>\n",
       "    </tr>\n",
       "  </thead>\n",
       "  <tbody>\n",
       "    <tr>\n",
       "      <th>0</th>\n",
       "      <td>-3.00</td>\n",
       "      <td>-2</td>\n",
       "      <td>-6.500</td>\n",
       "    </tr>\n",
       "    <tr>\n",
       "      <th>1</th>\n",
       "      <td>-2.94</td>\n",
       "      <td>-2</td>\n",
       "      <td>-6.383</td>\n",
       "    </tr>\n",
       "    <tr>\n",
       "      <th>2</th>\n",
       "      <td>-2.88</td>\n",
       "      <td>-2</td>\n",
       "      <td>-6.266</td>\n",
       "    </tr>\n",
       "    <tr>\n",
       "      <th>3</th>\n",
       "      <td>-2.82</td>\n",
       "      <td>-2</td>\n",
       "      <td>-6.149</td>\n",
       "    </tr>\n",
       "    <tr>\n",
       "      <th>4</th>\n",
       "      <td>-2.76</td>\n",
       "      <td>-2</td>\n",
       "      <td>-6.032</td>\n",
       "    </tr>\n",
       "    <tr>\n",
       "      <th>...</th>\n",
       "      <td>...</td>\n",
       "      <td>...</td>\n",
       "      <td>...</td>\n",
       "    </tr>\n",
       "    <tr>\n",
       "      <th>96</th>\n",
       "      <td>2.76</td>\n",
       "      <td>-2</td>\n",
       "      <td>4.732</td>\n",
       "    </tr>\n",
       "    <tr>\n",
       "      <th>97</th>\n",
       "      <td>2.82</td>\n",
       "      <td>-2</td>\n",
       "      <td>4.849</td>\n",
       "    </tr>\n",
       "    <tr>\n",
       "      <th>98</th>\n",
       "      <td>2.88</td>\n",
       "      <td>-2</td>\n",
       "      <td>4.966</td>\n",
       "    </tr>\n",
       "    <tr>\n",
       "      <th>99</th>\n",
       "      <td>2.94</td>\n",
       "      <td>-2</td>\n",
       "      <td>5.083</td>\n",
       "    </tr>\n",
       "    <tr>\n",
       "      <th>100</th>\n",
       "      <td>3.00</td>\n",
       "      <td>-2</td>\n",
       "      <td>5.200</td>\n",
       "    </tr>\n",
       "  </tbody>\n",
       "</table>\n",
       "<p>101 rows × 3 columns</p>\n",
       "</div>"
      ],
      "text/plain": [
       "       x1  x2  trend\n",
       "0   -3.00  -2 -6.500\n",
       "1   -2.94  -2 -6.383\n",
       "2   -2.88  -2 -6.266\n",
       "3   -2.82  -2 -6.149\n",
       "4   -2.76  -2 -6.032\n",
       "..    ...  ..    ...\n",
       "96   2.76  -2  4.732\n",
       "97   2.82  -2  4.849\n",
       "98   2.88  -2  4.966\n",
       "99   2.94  -2  5.083\n",
       "100  3.00  -2  5.200\n",
       "\n",
       "[101 rows x 3 columns]"
      ]
     },
     "execution_count": 48,
     "metadata": {},
     "output_type": "execute_result"
    }
   ],
   "source": [
    "calc_trend_wrt_x1(x1_values, \n",
    "                  -2, \n",
    "                  b0, \n",
    "                  b1, \n",
    "                  b2)"
   ]
  },
  {
   "cell_type": "code",
   "execution_count": 49,
   "id": "36e3a298",
   "metadata": {},
   "outputs": [
    {
     "data": {
      "image/png": "[encoded data removed]",
      "text/plain": [
       "<Figure size 500x500 with 1 Axes>"
      ]
     },
     "metadata": {},
     "output_type": "display_data"
    }
   ],
   "source": [
    "sns.relplot(data=calc_trend_wrt_x1(x1_values, \n",
    "                                   -2, \n",
    "                                   b0, \n",
    "                                   b1, \n",
    "                                   b2), \n",
    "                                   x='x1', \n",
    "                                   y='trend', \n",
    "                                   kind='line')\n",
    "plt.show()"
   ]
  },
  {
   "cell_type": "markdown",
   "id": "bc3670b3",
   "metadata": {},
   "source": [
    "### Let's repeat or replicate calculating the trend with respect to `x1` for different values of `x2`."
   ]
  },
  {
   "cell_type": "code",
   "execution_count": null,
   "id": "77f8883e",
   "metadata": {},
   "outputs": [],
   "source": [
    "x2_values = np.linspace(-3, \n",
    "                        3, \n",
    "                        9)"
   ]
  },
  {
   "cell_type": "code",
   "execution_count": 51,
   "id": "bbd11a7c",
   "metadata": {},
   "outputs": [
    {
     "data": {
      "text/plain": [
       "array([-3.  , -2.25, -1.5 , -0.75,  0.  ,  0.75,  1.5 ,  2.25,  3.  ])"
      ]
     },
     "execution_count": 51,
     "metadata": {},
     "output_type": "execute_result"
    }
   ],
   "source": [
    "x2_values"
   ]
  },
  {
   "cell_type": "code",
   "execution_count": 52,
   "id": "cd4513cc",
   "metadata": {},
   "outputs": [],
   "source": [
    "study_wrt_x1_list = [calc_trend_wrt_x1(x1_values, x2, b0, b1, b2) for x2 in x2_values]"
   ]
  },
  {
   "cell_type": "code",
   "execution_count": 53,
   "id": "782c79a5",
   "metadata": {},
   "outputs": [
    {
     "data": {
      "text/plain": [
       "9"
      ]
     },
     "execution_count": 53,
     "metadata": {},
     "output_type": "execute_result"
    }
   ],
   "source": [
    "len(study_wrt_x1_list)"
   ]
  },
  {
   "cell_type": "code",
   "execution_count": 54,
   "id": "83715f3f",
   "metadata": {},
   "outputs": [
    {
     "data": {
      "text/html": [
       "<div>\n",
       "<style scoped>\n",
       "    .dataframe tbody tr th:only-of-type {\n",
       "        vertical-align: middle;\n",
       "    }\n",
       "\n",
       "    .dataframe tbody tr th {\n",
       "        vertical-align: top;\n",
       "    }\n",
       "\n",
       "    .dataframe thead th {\n",
       "        text-align: right;\n",
       "    }\n",
       "</style>\n",
       "<table border=\"1\" class=\"dataframe\">\n",
       "  <thead>\n",
       "    <tr style=\"text-align: right;\">\n",
       "      <th></th>\n",
       "      <th>x1</th>\n",
       "      <th>x2</th>\n",
       "      <th>trend</th>\n",
       "    </tr>\n",
       "  </thead>\n",
       "  <tbody>\n",
       "    <tr>\n",
       "      <th>0</th>\n",
       "      <td>-3.00</td>\n",
       "      <td>-3.0</td>\n",
       "      <td>-6.700</td>\n",
       "    </tr>\n",
       "    <tr>\n",
       "      <th>1</th>\n",
       "      <td>-2.94</td>\n",
       "      <td>-3.0</td>\n",
       "      <td>-6.583</td>\n",
       "    </tr>\n",
       "    <tr>\n",
       "      <th>2</th>\n",
       "      <td>-2.88</td>\n",
       "      <td>-3.0</td>\n",
       "      <td>-6.466</td>\n",
       "    </tr>\n",
       "    <tr>\n",
       "      <th>3</th>\n",
       "      <td>-2.82</td>\n",
       "      <td>-3.0</td>\n",
       "      <td>-6.349</td>\n",
       "    </tr>\n",
       "    <tr>\n",
       "      <th>4</th>\n",
       "      <td>-2.76</td>\n",
       "      <td>-3.0</td>\n",
       "      <td>-6.232</td>\n",
       "    </tr>\n",
       "    <tr>\n",
       "      <th>...</th>\n",
       "      <td>...</td>\n",
       "      <td>...</td>\n",
       "      <td>...</td>\n",
       "    </tr>\n",
       "    <tr>\n",
       "      <th>96</th>\n",
       "      <td>2.76</td>\n",
       "      <td>-3.0</td>\n",
       "      <td>4.532</td>\n",
       "    </tr>\n",
       "    <tr>\n",
       "      <th>97</th>\n",
       "      <td>2.82</td>\n",
       "      <td>-3.0</td>\n",
       "      <td>4.649</td>\n",
       "    </tr>\n",
       "    <tr>\n",
       "      <th>98</th>\n",
       "      <td>2.88</td>\n",
       "      <td>-3.0</td>\n",
       "      <td>4.766</td>\n",
       "    </tr>\n",
       "    <tr>\n",
       "      <th>99</th>\n",
       "      <td>2.94</td>\n",
       "      <td>-3.0</td>\n",
       "      <td>4.883</td>\n",
       "    </tr>\n",
       "    <tr>\n",
       "      <th>100</th>\n",
       "      <td>3.00</td>\n",
       "      <td>-3.0</td>\n",
       "      <td>5.000</td>\n",
       "    </tr>\n",
       "  </tbody>\n",
       "</table>\n",
       "<p>101 rows × 3 columns</p>\n",
       "</div>"
      ],
      "text/plain": [
       "       x1   x2  trend\n",
       "0   -3.00 -3.0 -6.700\n",
       "1   -2.94 -3.0 -6.583\n",
       "2   -2.88 -3.0 -6.466\n",
       "3   -2.82 -3.0 -6.349\n",
       "4   -2.76 -3.0 -6.232\n",
       "..    ...  ...    ...\n",
       "96   2.76 -3.0  4.532\n",
       "97   2.82 -3.0  4.649\n",
       "98   2.88 -3.0  4.766\n",
       "99   2.94 -3.0  4.883\n",
       "100  3.00 -3.0  5.000\n",
       "\n",
       "[101 rows x 3 columns]"
      ]
     },
     "execution_count": 54,
     "metadata": {},
     "output_type": "execute_result"
    }
   ],
   "source": [
    "study_wrt_x1_list[0]"
   ]
  },
  {
   "cell_type": "markdown",
   "id": "ba8a86be",
   "metadata": {},
   "source": [
    "### Combine or concat the separate DataFrames together."
   ]
  },
  {
   "cell_type": "code",
   "execution_count": 55,
   "id": "6061f2c4",
   "metadata": {},
   "outputs": [],
   "source": [
    "study_wrt_x1_df = pd.concat(study_wrt_x1_list, ignore_index=True)"
   ]
  },
  {
   "cell_type": "code",
   "execution_count": 56,
   "id": "b42a083c",
   "metadata": {},
   "outputs": [
    {
     "data": {
      "text/html": [
       "<div>\n",
       "<style scoped>\n",
       "    .dataframe tbody tr th:only-of-type {\n",
       "        vertical-align: middle;\n",
       "    }\n",
       "\n",
       "    .dataframe tbody tr th {\n",
       "        vertical-align: top;\n",
       "    }\n",
       "\n",
       "    .dataframe thead th {\n",
       "        text-align: right;\n",
       "    }\n",
       "</style>\n",
       "<table border=\"1\" class=\"dataframe\">\n",
       "  <thead>\n",
       "    <tr style=\"text-align: right;\">\n",
       "      <th></th>\n",
       "      <th>x1</th>\n",
       "      <th>x2</th>\n",
       "      <th>trend</th>\n",
       "    </tr>\n",
       "  </thead>\n",
       "  <tbody>\n",
       "    <tr>\n",
       "      <th>0</th>\n",
       "      <td>-3.00</td>\n",
       "      <td>-3.0</td>\n",
       "      <td>-6.700</td>\n",
       "    </tr>\n",
       "    <tr>\n",
       "      <th>1</th>\n",
       "      <td>-2.94</td>\n",
       "      <td>-3.0</td>\n",
       "      <td>-6.583</td>\n",
       "    </tr>\n",
       "    <tr>\n",
       "      <th>2</th>\n",
       "      <td>-2.88</td>\n",
       "      <td>-3.0</td>\n",
       "      <td>-6.466</td>\n",
       "    </tr>\n",
       "    <tr>\n",
       "      <th>3</th>\n",
       "      <td>-2.82</td>\n",
       "      <td>-3.0</td>\n",
       "      <td>-6.349</td>\n",
       "    </tr>\n",
       "    <tr>\n",
       "      <th>4</th>\n",
       "      <td>-2.76</td>\n",
       "      <td>-3.0</td>\n",
       "      <td>-6.232</td>\n",
       "    </tr>\n",
       "    <tr>\n",
       "      <th>...</th>\n",
       "      <td>...</td>\n",
       "      <td>...</td>\n",
       "      <td>...</td>\n",
       "    </tr>\n",
       "    <tr>\n",
       "      <th>904</th>\n",
       "      <td>2.76</td>\n",
       "      <td>3.0</td>\n",
       "      <td>5.732</td>\n",
       "    </tr>\n",
       "    <tr>\n",
       "      <th>905</th>\n",
       "      <td>2.82</td>\n",
       "      <td>3.0</td>\n",
       "      <td>5.849</td>\n",
       "    </tr>\n",
       "    <tr>\n",
       "      <th>906</th>\n",
       "      <td>2.88</td>\n",
       "      <td>3.0</td>\n",
       "      <td>5.966</td>\n",
       "    </tr>\n",
       "    <tr>\n",
       "      <th>907</th>\n",
       "      <td>2.94</td>\n",
       "      <td>3.0</td>\n",
       "      <td>6.083</td>\n",
       "    </tr>\n",
       "    <tr>\n",
       "      <th>908</th>\n",
       "      <td>3.00</td>\n",
       "      <td>3.0</td>\n",
       "      <td>6.200</td>\n",
       "    </tr>\n",
       "  </tbody>\n",
       "</table>\n",
       "<p>909 rows × 3 columns</p>\n",
       "</div>"
      ],
      "text/plain": [
       "       x1   x2  trend\n",
       "0   -3.00 -3.0 -6.700\n",
       "1   -2.94 -3.0 -6.583\n",
       "2   -2.88 -3.0 -6.466\n",
       "3   -2.82 -3.0 -6.349\n",
       "4   -2.76 -3.0 -6.232\n",
       "..    ...  ...    ...\n",
       "904  2.76  3.0  5.732\n",
       "905  2.82  3.0  5.849\n",
       "906  2.88  3.0  5.966\n",
       "907  2.94  3.0  6.083\n",
       "908  3.00  3.0  6.200\n",
       "\n",
       "[909 rows x 3 columns]"
      ]
     },
     "execution_count": 56,
     "metadata": {},
     "output_type": "execute_result"
    }
   ],
   "source": [
    "study_wrt_x1_df"
   ]
  },
  {
   "cell_type": "code",
   "execution_count": 57,
   "id": "c556e8db",
   "metadata": {},
   "outputs": [
    {
     "data": {
      "text/plain": [
       "x2\n",
       "-3.00    101\n",
       "-2.25    101\n",
       "-1.50    101\n",
       "-0.75    101\n",
       " 0.00    101\n",
       " 0.75    101\n",
       " 1.50    101\n",
       " 2.25    101\n",
       " 3.00    101\n",
       "Name: count, dtype: int64"
      ]
     },
     "execution_count": 57,
     "metadata": {},
     "output_type": "execute_result"
    }
   ],
   "source": [
    "study_wrt_x1_df.x2.value_counts()"
   ]
  },
  {
   "cell_type": "markdown",
   "id": "69efde67",
   "metadata": {},
   "source": [
    "### Visualize the trend or average output with respect to `x1` for each unique value of `x2` as a line chart as it will include the 95% confidence interval as this is a summation of the data."
   ]
  },
  {
   "cell_type": "code",
   "execution_count": 58,
   "id": "1228cc6c",
   "metadata": {},
   "outputs": [
    {
     "data": {
      "image/png": "[encoded data removed]",
      "text/plain": [
       "<Figure size 500x500 with 1 Axes>"
      ]
     },
     "metadata": {},
     "output_type": "display_data"
    }
   ],
   "source": [
    "sns.relplot(data=study_wrt_x1_df,\n",
    "            x='x1',\n",
    "            y='trend',\n",
    "            kind='line')\n",
    "plt.show()"
   ]
  },
  {
   "cell_type": "markdown",
   "id": "4b9d5502",
   "metadata": {},
   "source": [
    "### Visualize the raw data."
   ]
  },
  {
   "cell_type": "code",
   "execution_count": 59,
   "id": "bdb08509",
   "metadata": {},
   "outputs": [
    {
     "data": {
      "image/png": "[encoded data removed]",
      "text/plain": [
       "<Figure size 500x500 with 1 Axes>"
      ]
     },
     "metadata": {},
     "output_type": "display_data"
    }
   ],
   "source": [
    "sns.relplot(data=study_wrt_x1_df,\n",
    "            x='x1',\n",
    "            y='trend',\n",
    "            kind='scatter')\n",
    "plt.show()"
   ]
  },
  {
   "cell_type": "markdown",
   "id": "2d9f1337",
   "metadata": {},
   "source": [
    "### We need to disable Seaborn's default line chart averaging."
   ]
  },
  {
   "cell_type": "code",
   "execution_count": 60,
   "id": "e329dac8",
   "metadata": {},
   "outputs": [
    {
     "data": {
      "image/png": "[encoded data removed]",
      "text/plain": [
       "<Figure size 500x500 with 1 Axes>"
      ]
     },
     "metadata": {},
     "output_type": "display_data"
    }
   ],
   "source": [
    "sns.relplot(data=study_wrt_x1_df,\n",
    "            x='x1',\n",
    "            y='trend',\n",
    "            kind='line',\n",
    "            estimator=None,\n",
    "            units='x2')\n",
    "plt.show()"
   ]
  },
  {
   "cell_type": "markdown",
   "id": "fa60e0be",
   "metadata": {},
   "source": [
    "### We can associate the line color to `x2` via the `hue` argument."
   ]
  },
  {
   "cell_type": "code",
   "execution_count": 61,
   "id": "9c08d9ce",
   "metadata": {},
   "outputs": [
    {
     "data": {
      "image/png": "[encoded data removed]",
      "text/plain": [
       "<Figure size 570.5x500 with 1 Axes>"
      ]
     },
     "metadata": {},
     "output_type": "display_data"
    }
   ],
   "source": [
    "sns.relplot(data=study_wrt_x1_df,\n",
    "            x='x1',\n",
    "            y='trend',\n",
    "            hue='x2',\n",
    "            kind='line',\n",
    "            palette='coolwarm',\n",
    "            estimator=None,\n",
    "            units='x2')\n",
    "plt.show()"
   ]
  },
  {
   "cell_type": "markdown",
   "id": "fd319d62",
   "metadata": {},
   "source": [
    "### **WHEN WE HAVE ADDITIVE FEATURES WHICH ARE ADDING THE EFFECT OF INPUT 2 TO THE EFFECT OF INPUT 1, WE ARE LITERALLY SHIFTING THE LINE UP OR DOWN.**"
   ]
  },
  {
   "cell_type": "markdown",
   "id": "ab046323",
   "metadata": {},
   "source": [
    "### Additive features add the effect of one input to the other and if the inputs have the same magnitude of and scale, the magnitude of the slope tells you which input causes the greater change on the average output."
   ]
  },
  {
   "cell_type": "code",
   "execution_count": 75,
   "id": "adbbf0ff",
   "metadata": {},
   "outputs": [
    {
     "data": {
      "text/plain": [
       "1.95"
      ]
     },
     "execution_count": 75,
     "metadata": {},
     "output_type": "execute_result"
    }
   ],
   "source": [
    "b1"
   ]
  },
  {
   "cell_type": "markdown",
   "id": "e36f1ca9",
   "metadata": {},
   "source": [
    "### In the above we have the slope $\\beta_1$ very close to 2, therefore, a 1 unit change in `x1` is producing a 2 unit change in the trend or average output."
   ]
  },
  {
   "cell_type": "markdown",
   "id": "42825132",
   "metadata": {},
   "source": [
    "### Let's focus on the relationship with respect to `x2`."
   ]
  },
  {
   "cell_type": "code",
   "execution_count": 62,
   "id": "4b8d19e4",
   "metadata": {},
   "outputs": [],
   "source": [
    "def calc_trend_wrt_x2(x1, \n",
    "                      x2, \n",
    "                      b0, \n",
    "                      b1, \n",
    "                      b2):\n",
    "    \"\"\"\n",
    "    Calculates the linear trend based on two independent variables x1 and x2, using the provided coefficients.\n",
    "    \n",
    "    Args:\n",
    "        x1 (array-like): Values for the first independent variable.\n",
    "        x2 (array-like): Values for the second independent variable.\n",
    "        b0 (float): Intercept coefficient.\n",
    "        b1 (float): Coefficient for x1.\n",
    "        b2 (float): Coefficient for x2.\n",
    "    \n",
    "    Returns:\n",
    "        pandas.DataFrame: DataFrame containing columns for x1, x2, and the calculated trend.\n",
    "    \"\"\"\n",
    "    res_df = pd.DataFrame({'x2': x2})\n",
    "    res_df['x1'] = x1\n",
    "    res_df['trend'] = b0 + b1 * res_df.x1 + b2 * res_df.x2\n",
    "    return res_df"
   ]
  },
  {
   "cell_type": "markdown",
   "id": "23b2d1aa",
   "metadata": {},
   "source": [
    "### Let's define 2 new arrays so we can visualize the trends with respect to `x2` for different values of `x1`."
   ]
  },
  {
   "cell_type": "code",
   "execution_count": 63,
   "id": "d7e2c6b2",
   "metadata": {},
   "outputs": [],
   "source": [
    "x2_values_b = np.linspace(-3, 3, 101)"
   ]
  },
  {
   "cell_type": "code",
   "execution_count": 64,
   "id": "deb80780",
   "metadata": {},
   "outputs": [
    {
     "data": {
      "text/plain": [
       "(101,)"
      ]
     },
     "execution_count": 64,
     "metadata": {},
     "output_type": "execute_result"
    }
   ],
   "source": [
    "x2_values_b.shape"
   ]
  },
  {
   "cell_type": "code",
   "execution_count": 65,
   "id": "1e0dd52f",
   "metadata": {},
   "outputs": [],
   "source": [
    "x1_values_b = np.linspace(-3, 3, 9)"
   ]
  },
  {
   "cell_type": "code",
   "execution_count": 66,
   "id": "3b774948",
   "metadata": {},
   "outputs": [
    {
     "data": {
      "text/plain": [
       "(9,)"
      ]
     },
     "execution_count": 66,
     "metadata": {},
     "output_type": "execute_result"
    }
   ],
   "source": [
    "x1_values_b.shape"
   ]
  },
  {
   "cell_type": "markdown",
   "id": "beb5bbc3",
   "metadata": {},
   "source": [
    "### Iterate over values `x1`."
   ]
  },
  {
   "cell_type": "code",
   "execution_count": 69,
   "id": "bbaf5cea",
   "metadata": {},
   "outputs": [],
   "source": [
    "study_wrt_x2_list = [calc_trend_wrt_x2(x1, x2_values_b, b0, b1, b2) for x1 in x1_values_b]"
   ]
  },
  {
   "cell_type": "code",
   "execution_count": 70,
   "id": "3e27756b",
   "metadata": {},
   "outputs": [
    {
     "data": {
      "text/plain": [
       "9"
      ]
     },
     "execution_count": 70,
     "metadata": {},
     "output_type": "execute_result"
    }
   ],
   "source": [
    "len(study_wrt_x2_list)"
   ]
  },
  {
   "cell_type": "code",
   "execution_count": 71,
   "id": "b42eadaa",
   "metadata": {},
   "outputs": [],
   "source": [
    "study_wrt_x2_df = pd.concat(study_wrt_x2_list, ignore_index=True)"
   ]
  },
  {
   "cell_type": "code",
   "execution_count": 72,
   "id": "f71a6c45",
   "metadata": {},
   "outputs": [
    {
     "data": {
      "text/html": [
       "<div>\n",
       "<style scoped>\n",
       "    .dataframe tbody tr th:only-of-type {\n",
       "        vertical-align: middle;\n",
       "    }\n",
       "\n",
       "    .dataframe tbody tr th {\n",
       "        vertical-align: top;\n",
       "    }\n",
       "\n",
       "    .dataframe thead th {\n",
       "        text-align: right;\n",
       "    }\n",
       "</style>\n",
       "<table border=\"1\" class=\"dataframe\">\n",
       "  <thead>\n",
       "    <tr style=\"text-align: right;\">\n",
       "      <th></th>\n",
       "      <th>x2</th>\n",
       "      <th>x1</th>\n",
       "      <th>trend</th>\n",
       "    </tr>\n",
       "  </thead>\n",
       "  <tbody>\n",
       "    <tr>\n",
       "      <th>0</th>\n",
       "      <td>-3.00</td>\n",
       "      <td>-3.0</td>\n",
       "      <td>-6.700</td>\n",
       "    </tr>\n",
       "    <tr>\n",
       "      <th>1</th>\n",
       "      <td>-2.94</td>\n",
       "      <td>-3.0</td>\n",
       "      <td>-6.688</td>\n",
       "    </tr>\n",
       "    <tr>\n",
       "      <th>2</th>\n",
       "      <td>-2.88</td>\n",
       "      <td>-3.0</td>\n",
       "      <td>-6.676</td>\n",
       "    </tr>\n",
       "    <tr>\n",
       "      <th>3</th>\n",
       "      <td>-2.82</td>\n",
       "      <td>-3.0</td>\n",
       "      <td>-6.664</td>\n",
       "    </tr>\n",
       "    <tr>\n",
       "      <th>4</th>\n",
       "      <td>-2.76</td>\n",
       "      <td>-3.0</td>\n",
       "      <td>-6.652</td>\n",
       "    </tr>\n",
       "    <tr>\n",
       "      <th>...</th>\n",
       "      <td>...</td>\n",
       "      <td>...</td>\n",
       "      <td>...</td>\n",
       "    </tr>\n",
       "    <tr>\n",
       "      <th>904</th>\n",
       "      <td>2.76</td>\n",
       "      <td>3.0</td>\n",
       "      <td>6.152</td>\n",
       "    </tr>\n",
       "    <tr>\n",
       "      <th>905</th>\n",
       "      <td>2.82</td>\n",
       "      <td>3.0</td>\n",
       "      <td>6.164</td>\n",
       "    </tr>\n",
       "    <tr>\n",
       "      <th>906</th>\n",
       "      <td>2.88</td>\n",
       "      <td>3.0</td>\n",
       "      <td>6.176</td>\n",
       "    </tr>\n",
       "    <tr>\n",
       "      <th>907</th>\n",
       "      <td>2.94</td>\n",
       "      <td>3.0</td>\n",
       "      <td>6.188</td>\n",
       "    </tr>\n",
       "    <tr>\n",
       "      <th>908</th>\n",
       "      <td>3.00</td>\n",
       "      <td>3.0</td>\n",
       "      <td>6.200</td>\n",
       "    </tr>\n",
       "  </tbody>\n",
       "</table>\n",
       "<p>909 rows × 3 columns</p>\n",
       "</div>"
      ],
      "text/plain": [
       "       x2   x1  trend\n",
       "0   -3.00 -3.0 -6.700\n",
       "1   -2.94 -3.0 -6.688\n",
       "2   -2.88 -3.0 -6.676\n",
       "3   -2.82 -3.0 -6.664\n",
       "4   -2.76 -3.0 -6.652\n",
       "..    ...  ...    ...\n",
       "904  2.76  3.0  6.152\n",
       "905  2.82  3.0  6.164\n",
       "906  2.88  3.0  6.176\n",
       "907  2.94  3.0  6.188\n",
       "908  3.00  3.0  6.200\n",
       "\n",
       "[909 rows x 3 columns]"
      ]
     },
     "execution_count": 72,
     "metadata": {},
     "output_type": "execute_result"
    }
   ],
   "source": [
    "study_wrt_x2_df"
   ]
  },
  {
   "cell_type": "code",
   "execution_count": 73,
   "id": "04243b14",
   "metadata": {},
   "outputs": [
    {
     "data": {
      "text/plain": [
       "x1\n",
       "-3.00    101\n",
       "-2.25    101\n",
       "-1.50    101\n",
       "-0.75    101\n",
       " 0.00    101\n",
       " 0.75    101\n",
       " 1.50    101\n",
       " 2.25    101\n",
       " 3.00    101\n",
       "Name: count, dtype: int64"
      ]
     },
     "execution_count": 73,
     "metadata": {},
     "output_type": "execute_result"
    }
   ],
   "source": [
    "study_wrt_x2_df.x1.value_counts()"
   ]
  },
  {
   "cell_type": "markdown",
   "id": "96107d9e",
   "metadata": {},
   "source": [
    "### Visualize the trend or average output with respect to `x2` for each unique value of `x1` as we will use the diverging color palette to help distinguish `x1` values above and below the `x1` midpoint."
   ]
  },
  {
   "cell_type": "code",
   "execution_count": 76,
   "id": "9d443a3c",
   "metadata": {},
   "outputs": [
    {
     "data": {
      "text/plain": [
       "0.2"
      ]
     },
     "execution_count": 76,
     "metadata": {},
     "output_type": "execute_result"
    }
   ],
   "source": [
    "b2"
   ]
  },
  {
   "cell_type": "markdown",
   "id": "7328e183",
   "metadata": {},
   "source": [
    "### In the above we have the slope $\\beta_2$ 0.2, therefore, a 1 unit change in `x2` is producing a very small change in the trend or average output."
   ]
  },
  {
   "cell_type": "code",
   "execution_count": 74,
   "id": "d75fdc1d",
   "metadata": {},
   "outputs": [
    {
     "data": {
      "image/png": "[encoded data removed]",
      "text/plain": [
       "<Figure size 570.5x500 with 1 Axes>"
      ]
     },
     "metadata": {},
     "output_type": "display_data"
    }
   ],
   "source": [
    "sns.relplot(data=study_wrt_x2_df,\n",
    "            x='x2',\n",
    "            y='trend',\n",
    "            hue='x1',\n",
    "            kind='line',\n",
    "            palette='coolwarm',\n",
    "            estimator=None,\n",
    "            units='x1')\n",
    "plt.show()"
   ]
  }
 ],
 "metadata": {
  "kernelspec": {
   "display_name": "prod",
   "language": "python",
   "name": "python3"
  },
  "language_info": {
   "codemirror_mode": {
    "name": "ipython",
    "version": 3
   },
   "file_extension": ".py",
   "mimetype": "text/x-python",
   "name": "python",
   "nbconvert_exporter": "python",
   "pygments_lexer": "ipython3",
   "version": "3.12.7"
  }
 },
 "nbformat": 4,
 "nbformat_minor": 5
}

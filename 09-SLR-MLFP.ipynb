{
 "cells": [
  {
   "cell_type": "markdown",
   "id": "844435e8",
   "metadata": {},
   "source": [
    "# Penguins Dataset Simple Linear Regression - Measuring Linear Feature Performance"
   ]
  },
  {
   "cell_type": "markdown",
   "id": "c6dc97bb",
   "metadata": {},
   "source": [
    "### [Penguins Dataset](https://seaborn.pydata.org/tutorial/introduction.html)\n",
    "\n",
    "Author: [Kevin Thomas](mailto:ket189@pitt.edu)"
   ]
  },
  {
   "cell_type": "markdown",
   "id": "0600d4b0",
   "metadata": {},
   "source": [
    "## Citation"
   ]
  },
  {
   "cell_type": "markdown",
   "id": "ec57b3f7",
   "metadata": {},
   "source": [
    "[1] Allison Horst, https://github.com/allisonhorst/palmerpenguins"
   ]
  },
  {
   "cell_type": "markdown",
   "id": "2281e96c",
   "metadata": {},
   "source": [
    "## Import Modules"
   ]
  },
  {
   "cell_type": "code",
   "execution_count": 1,
   "id": "4d6f2076",
   "metadata": {},
   "outputs": [],
   "source": [
    "import numpy as np\n",
    "import pandas as pd\n",
    "import matplotlib.pyplot as plt\n",
    "import seaborn as sns\n",
    "from sklearn.preprocessing import StandardScaler\n",
    "import statsmodels.formula.api as smf"
   ]
  },
  {
   "cell_type": "markdown",
   "id": "4c514e3a",
   "metadata": {},
   "source": [
    "## Load Dataset"
   ]
  },
  {
   "cell_type": "code",
   "execution_count": 2,
   "id": "66ef5697",
   "metadata": {},
   "outputs": [],
   "source": [
    "df = sns.load_dataset('penguins')"
   ]
  },
  {
   "cell_type": "markdown",
   "id": "5163b8a3",
   "metadata": {},
   "source": [
    "## Perform Essential Exploration & Data Cleaning"
   ]
  },
  {
   "cell_type": "markdown",
   "id": "a1590e07",
   "metadata": {},
   "source": [
    "### Display the initial number of rows and columns."
   ]
  },
  {
   "cell_type": "code",
   "execution_count": 3,
   "id": "b8f077b4",
   "metadata": {},
   "outputs": [
    {
     "data": {
      "text/plain": [
       "(344, 7)"
      ]
     },
     "execution_count": 3,
     "metadata": {},
     "output_type": "execute_result"
    }
   ],
   "source": [
    "df.shape"
   ]
  },
  {
   "cell_type": "markdown",
   "id": "685417c9",
   "metadata": {},
   "source": [
    "### Display the initial variable names and their associated data types."
   ]
  },
  {
   "cell_type": "code",
   "execution_count": 4,
   "id": "13c65303",
   "metadata": {},
   "outputs": [
    {
     "data": {
      "text/plain": [
       "species               object\n",
       "island                object\n",
       "bill_length_mm       float64\n",
       "bill_depth_mm        float64\n",
       "flipper_length_mm    float64\n",
       "body_mass_g          float64\n",
       "sex                   object\n",
       "dtype: object"
      ]
     },
     "execution_count": 4,
     "metadata": {},
     "output_type": "execute_result"
    }
   ],
   "source": [
    "df.dtypes"
   ]
  },
  {
   "cell_type": "markdown",
   "id": "02b99681",
   "metadata": {},
   "source": [
    "### Display the number of missing values for each column, remove the missing values and create a clean copy of the dataset."
   ]
  },
  {
   "cell_type": "code",
   "execution_count": 5,
   "id": "84e422e2",
   "metadata": {},
   "outputs": [
    {
     "data": {
      "text/plain": [
       "species               0\n",
       "island                0\n",
       "bill_length_mm        2\n",
       "bill_depth_mm         2\n",
       "flipper_length_mm     2\n",
       "body_mass_g           2\n",
       "sex                  11\n",
       "dtype: int64"
      ]
     },
     "execution_count": 5,
     "metadata": {},
     "output_type": "execute_result"
    }
   ],
   "source": [
    "df.isna().sum()"
   ]
  },
  {
   "cell_type": "code",
   "execution_count": 6,
   "id": "1b2cb9b6",
   "metadata": {},
   "outputs": [],
   "source": [
    "df_clean = df.dropna().copy()"
   ]
  },
  {
   "cell_type": "code",
   "execution_count": 7,
   "id": "de1a645c",
   "metadata": {},
   "outputs": [
    {
     "data": {
      "text/plain": [
       "species              0\n",
       "island               0\n",
       "bill_length_mm       0\n",
       "bill_depth_mm        0\n",
       "flipper_length_mm    0\n",
       "body_mass_g          0\n",
       "sex                  0\n",
       "dtype: int64"
      ]
     },
     "execution_count": 7,
     "metadata": {},
     "output_type": "execute_result"
    }
   ],
   "source": [
    "df_clean.isna().sum()"
   ]
  },
  {
   "cell_type": "markdown",
   "id": "cff95f5e",
   "metadata": {},
   "source": [
    "### Display the number of unique values for each column after removing missing data and before initial exploration."
   ]
  },
  {
   "cell_type": "code",
   "execution_count": 8,
   "id": "e66f53c5",
   "metadata": {},
   "outputs": [
    {
     "data": {
      "text/plain": [
       "species                3\n",
       "island                 3\n",
       "bill_length_mm       163\n",
       "bill_depth_mm         79\n",
       "flipper_length_mm     54\n",
       "body_mass_g           93\n",
       "sex                    2\n",
       "dtype: int64"
      ]
     },
     "execution_count": 8,
     "metadata": {},
     "output_type": "execute_result"
    }
   ],
   "source": [
    "df_clean.nunique()"
   ]
  },
  {
   "cell_type": "markdown",
   "id": "a87dd02c",
   "metadata": {},
   "source": [
    "### Display the number of unique values for the categorical variables after removing missing data and before initial exploration."
   ]
  },
  {
   "cell_type": "code",
   "execution_count": 9,
   "id": "f1f0cf3e",
   "metadata": {},
   "outputs": [
    {
     "data": {
      "text/plain": [
       "species    3\n",
       "island     3\n",
       "sex        2\n",
       "dtype: int64"
      ]
     },
     "execution_count": 9,
     "metadata": {},
     "output_type": "execute_result"
    }
   ],
   "source": [
    "df_clean.select_dtypes(exclude='number').nunique()"
   ]
  },
  {
   "cell_type": "markdown",
   "id": "f8fa0f40",
   "metadata": {},
   "source": [
    "### Display the number of unique values for the continuous variables after removing missing data and before initial exploration."
   ]
  },
  {
   "cell_type": "code",
   "execution_count": 10,
   "id": "3e14cb3f",
   "metadata": {},
   "outputs": [
    {
     "data": {
      "text/plain": [
       "bill_length_mm       163\n",
       "bill_depth_mm         79\n",
       "flipper_length_mm     54\n",
       "body_mass_g           93\n",
       "dtype: int64"
      ]
     },
     "execution_count": 10,
     "metadata": {},
     "output_type": "execute_result"
    }
   ],
   "source": [
    "df_clean.select_dtypes(include='number').nunique()"
   ]
  },
  {
   "cell_type": "markdown",
   "id": "dc3eb43a",
   "metadata": {},
   "source": [
    "## Data Standardization"
   ]
  },
  {
   "cell_type": "markdown",
   "id": "7cdec1c1",
   "metadata": {},
   "source": [
    "### Examine raw numeric features magnitude and scale."
   ]
  },
  {
   "cell_type": "markdown",
   "id": "04b49c75",
   "metadata": {},
   "source": [
    "The actual values in the boxplot represent the distributions of the penguin dataset’s numeric features: bill length (mm), bill depth (mm), flipper length (mm), and body mass (g). The plot shows that body mass is on a much larger scale than the other features, indicating that its values are much higher (in grams) compared to the millimeter measurements of the other features, which is important for understanding feature scaling and the need for standardization in data analysis."
   ]
  },
  {
   "cell_type": "code",
   "execution_count": 11,
   "id": "ea628af4",
   "metadata": {},
   "outputs": [
    {
     "data": {
      "text/html": [
       "<div>\n",
       "<style scoped>\n",
       "    .dataframe tbody tr th:only-of-type {\n",
       "        vertical-align: middle;\n",
       "    }\n",
       "\n",
       "    .dataframe tbody tr th {\n",
       "        vertical-align: top;\n",
       "    }\n",
       "\n",
       "    .dataframe thead th {\n",
       "        text-align: right;\n",
       "    }\n",
       "</style>\n",
       "<table border=\"1\" class=\"dataframe\">\n",
       "  <thead>\n",
       "    <tr style=\"text-align: right;\">\n",
       "      <th></th>\n",
       "      <th>bill_length_mm</th>\n",
       "      <th>bill_depth_mm</th>\n",
       "      <th>flipper_length_mm</th>\n",
       "      <th>body_mass_g</th>\n",
       "    </tr>\n",
       "  </thead>\n",
       "  <tbody>\n",
       "    <tr>\n",
       "      <th>count</th>\n",
       "      <td>333.000000</td>\n",
       "      <td>333.000000</td>\n",
       "      <td>333.000000</td>\n",
       "      <td>333.000000</td>\n",
       "    </tr>\n",
       "    <tr>\n",
       "      <th>mean</th>\n",
       "      <td>43.992793</td>\n",
       "      <td>17.164865</td>\n",
       "      <td>200.966967</td>\n",
       "      <td>4207.057057</td>\n",
       "    </tr>\n",
       "    <tr>\n",
       "      <th>std</th>\n",
       "      <td>5.468668</td>\n",
       "      <td>1.969235</td>\n",
       "      <td>14.015765</td>\n",
       "      <td>805.215802</td>\n",
       "    </tr>\n",
       "    <tr>\n",
       "      <th>min</th>\n",
       "      <td>32.100000</td>\n",
       "      <td>13.100000</td>\n",
       "      <td>172.000000</td>\n",
       "      <td>2700.000000</td>\n",
       "    </tr>\n",
       "    <tr>\n",
       "      <th>25%</th>\n",
       "      <td>39.500000</td>\n",
       "      <td>15.600000</td>\n",
       "      <td>190.000000</td>\n",
       "      <td>3550.000000</td>\n",
       "    </tr>\n",
       "    <tr>\n",
       "      <th>50%</th>\n",
       "      <td>44.500000</td>\n",
       "      <td>17.300000</td>\n",
       "      <td>197.000000</td>\n",
       "      <td>4050.000000</td>\n",
       "    </tr>\n",
       "    <tr>\n",
       "      <th>75%</th>\n",
       "      <td>48.600000</td>\n",
       "      <td>18.700000</td>\n",
       "      <td>213.000000</td>\n",
       "      <td>4775.000000</td>\n",
       "    </tr>\n",
       "    <tr>\n",
       "      <th>max</th>\n",
       "      <td>59.600000</td>\n",
       "      <td>21.500000</td>\n",
       "      <td>231.000000</td>\n",
       "      <td>6300.000000</td>\n",
       "    </tr>\n",
       "  </tbody>\n",
       "</table>\n",
       "</div>"
      ],
      "text/plain": [
       "       bill_length_mm  bill_depth_mm  flipper_length_mm  body_mass_g\n",
       "count      333.000000     333.000000         333.000000   333.000000\n",
       "mean        43.992793      17.164865         200.966967  4207.057057\n",
       "std          5.468668       1.969235          14.015765   805.215802\n",
       "min         32.100000      13.100000         172.000000  2700.000000\n",
       "25%         39.500000      15.600000         190.000000  3550.000000\n",
       "50%         44.500000      17.300000         197.000000  4050.000000\n",
       "75%         48.600000      18.700000         213.000000  4775.000000\n",
       "max         59.600000      21.500000         231.000000  6300.000000"
      ]
     },
     "execution_count": 11,
     "metadata": {},
     "output_type": "execute_result"
    }
   ],
   "source": [
    "df_clean.describe()"
   ]
  },
  {
   "cell_type": "code",
   "execution_count": 12,
   "id": "90b5696b",
   "metadata": {},
   "outputs": [
    {
     "data": {
      "image/png": "[encoded data removed]",
      "text/plain": [
       "<Figure size 1000x500 with 1 Axes>"
      ]
     },
     "metadata": {},
     "output_type": "display_data"
    }
   ],
   "source": [
    "sns.catplot(data=df_clean, \n",
    "            kind='box', \n",
    "            aspect=2)\n",
    "plt.show()"
   ]
  },
  {
   "cell_type": "markdown",
   "id": "0efb3b08",
   "metadata": {},
   "source": [
    "### Prepare the dataset by extracting our numeric features."
   ]
  },
  {
   "cell_type": "code",
   "execution_count": 13,
   "id": "be3e8e5e",
   "metadata": {},
   "outputs": [],
   "source": [
    "df_clean_features = df_clean.select_dtypes('number').copy()"
   ]
  },
  {
   "cell_type": "markdown",
   "id": "26ff147d",
   "metadata": {},
   "source": [
    "### Standardize the numeric features."
   ]
  },
  {
   "cell_type": "code",
   "execution_count": 14,
   "id": "648f58cd",
   "metadata": {},
   "outputs": [],
   "source": [
    "X = StandardScaler().fit_transform(df_clean_features)"
   ]
  },
  {
   "cell_type": "markdown",
   "id": "52804504",
   "metadata": {},
   "source": [
    "### Examine standarized numeric features magnitude and scale."
   ]
  },
  {
   "cell_type": "markdown",
   "id": "4ad8c2ab",
   "metadata": {},
   "source": [
    "After standardization, all numeric features (bill length, bill depth, flipper length, and body mass) have similar distributions centered around zero with comparable spread, indicating that differences in scale have been removed and the features are now suitable for clustering and other analyses that assume equal variance."
   ]
  },
  {
   "cell_type": "code",
   "execution_count": 15,
   "id": "846a156e",
   "metadata": {},
   "outputs": [
    {
     "data": {
      "image/png": "[encoded data removed]",
      "text/plain": [
       "<Figure size 1000x500 with 1 Axes>"
      ]
     },
     "metadata": {},
     "output_type": "display_data"
    }
   ],
   "source": [
    "sns.catplot(data=pd.DataFrame(X, \n",
    "                              columns=df_clean_features.columns), \n",
    "                              kind='box', \n",
    "                              aspect=2)\n",
    "plt.show()"
   ]
  },
  {
   "cell_type": "markdown",
   "id": "af68bc7c",
   "metadata": {},
   "source": [
    "## Simple Linear Regression - Fitting a Linear Feature"
   ]
  },
  {
   "cell_type": "markdown",
   "id": "d03f4088",
   "metadata": {},
   "source": [
    "### We will fit a linear model between the input `flipper_length_mm` and the output `body_mass_g` assuming a linear relationship between the trend and the input."
   ]
  },
  {
   "cell_type": "markdown",
   "id": "ec06ba02",
   "metadata": {},
   "source": [
    "$\\mu = \\beta_0 + \\beta_1 \\times x$\n",
    "\n",
    "$\\mu$ **predicted trend**\n",
    "\n",
    "$\\beta_0$ **intercept**: value of $\\mu$ when $x = 0$\n",
    "\n",
    "$\\beta_1$ **slope**: change in $\\mu$ for a one-unit increase in $x$\n",
    "\n",
    "$x$ **feature** or **input variable**: independent variable used to predict $\\mu$"
   ]
  },
  {
   "cell_type": "code",
   "execution_count": 16,
   "id": "18548ba7",
   "metadata": {},
   "outputs": [],
   "source": [
    "lm_fit = smf.ols(formula='body_mass_g ~ flipper_length_mm', \n",
    "                 data=df_clean). \\\n",
    "                 fit()"
   ]
  },
  {
   "cell_type": "code",
   "execution_count": 17,
   "id": "d64dbe93",
   "metadata": {},
   "outputs": [
    {
     "data": {
      "text/html": [
       "<table class=\"simpletable\">\n",
       "<caption>OLS Regression Results</caption>\n",
       "<tr>\n",
       "  <th>Dep. Variable:</th>       <td>body_mass_g</td>   <th>  R-squared:         </th> <td>   0.762</td> \n",
       "</tr>\n",
       "<tr>\n",
       "  <th>Model:</th>                   <td>OLS</td>       <th>  Adj. R-squared:    </th> <td>   0.761</td> \n",
       "</tr>\n",
       "<tr>\n",
       "  <th>Method:</th>             <td>Least Squares</td>  <th>  F-statistic:       </th> <td>   1060.</td> \n",
       "</tr>\n",
       "<tr>\n",
       "  <th>Date:</th>             <td>Wed, 27 Aug 2025</td> <th>  Prob (F-statistic):</th> <td>3.13e-105</td>\n",
       "</tr>\n",
       "<tr>\n",
       "  <th>Time:</th>                 <td>08:47:58</td>     <th>  Log-Likelihood:    </th> <td> -2461.1</td> \n",
       "</tr>\n",
       "<tr>\n",
       "  <th>No. Observations:</th>      <td>   333</td>      <th>  AIC:               </th> <td>   4926.</td> \n",
       "</tr>\n",
       "<tr>\n",
       "  <th>Df Residuals:</th>          <td>   331</td>      <th>  BIC:               </th> <td>   4934.</td> \n",
       "</tr>\n",
       "<tr>\n",
       "  <th>Df Model:</th>              <td>     1</td>      <th>                     </th>     <td> </td>    \n",
       "</tr>\n",
       "<tr>\n",
       "  <th>Covariance Type:</th>      <td>nonrobust</td>    <th>                     </th>     <td> </td>    \n",
       "</tr>\n",
       "</table>\n",
       "<table class=\"simpletable\">\n",
       "<tr>\n",
       "          <td></td>             <th>coef</th>     <th>std err</th>      <th>t</th>      <th>P>|t|</th>  <th>[0.025</th>    <th>0.975]</th>  \n",
       "</tr>\n",
       "<tr>\n",
       "  <th>Intercept</th>         <td>-5872.0927</td> <td>  310.285</td> <td>  -18.925</td> <td> 0.000</td> <td>-6482.472</td> <td>-5261.713</td>\n",
       "</tr>\n",
       "<tr>\n",
       "  <th>flipper_length_mm</th> <td>   50.1533</td> <td>    1.540</td> <td>   32.562</td> <td> 0.000</td> <td>   47.123</td> <td>   53.183</td>\n",
       "</tr>\n",
       "</table>\n",
       "<table class=\"simpletable\">\n",
       "<tr>\n",
       "  <th>Omnibus:</th>       <td> 5.922</td> <th>  Durbin-Watson:     </th> <td>   2.102</td>\n",
       "</tr>\n",
       "<tr>\n",
       "  <th>Prob(Omnibus):</th> <td> 0.052</td> <th>  Jarque-Bera (JB):  </th> <td>   5.876</td>\n",
       "</tr>\n",
       "<tr>\n",
       "  <th>Skew:</th>          <td> 0.325</td> <th>  Prob(JB):          </th> <td>  0.0530</td>\n",
       "</tr>\n",
       "<tr>\n",
       "  <th>Kurtosis:</th>      <td> 3.025</td> <th>  Cond. No.          </th> <td>2.90e+03</td>\n",
       "</tr>\n",
       "</table><br/><br/>Notes:<br/>[1] Standard Errors assume that the covariance matrix of the errors is correctly specified.<br/>[2] The condition number is large, 2.9e+03. This might indicate that there are<br/>strong multicollinearity or other numerical problems."
      ],
      "text/latex": [
       "\\begin{center}\n",
       "\\begin{tabular}{lclc}\n",
       "\\toprule\n",
       "\\textbf{Dep. Variable:}      &  body\\_mass\\_g   & \\textbf{  R-squared:         } &     0.762   \\\\\n",
       "\\textbf{Model:}              &       OLS        & \\textbf{  Adj. R-squared:    } &     0.761   \\\\\n",
       "\\textbf{Method:}             &  Least Squares   & \\textbf{  F-statistic:       } &     1060.   \\\\\n",
       "\\textbf{Date:}               & Wed, 27 Aug 2025 & \\textbf{  Prob (F-statistic):} & 3.13e-105   \\\\\n",
       "\\textbf{Time:}               &     08:47:58     & \\textbf{  Log-Likelihood:    } &   -2461.1   \\\\\n",
       "\\textbf{No. Observations:}   &         333      & \\textbf{  AIC:               } &     4926.   \\\\\n",
       "\\textbf{Df Residuals:}       &         331      & \\textbf{  BIC:               } &     4934.   \\\\\n",
       "\\textbf{Df Model:}           &           1      & \\textbf{                     } &             \\\\\n",
       "\\textbf{Covariance Type:}    &    nonrobust     & \\textbf{                     } &             \\\\\n",
       "\\bottomrule\n",
       "\\end{tabular}\n",
       "\\begin{tabular}{lcccccc}\n",
       "                             & \\textbf{coef} & \\textbf{std err} & \\textbf{t} & \\textbf{P$> |$t$|$} & \\textbf{[0.025} & \\textbf{0.975]}  \\\\\n",
       "\\midrule\n",
       "\\textbf{Intercept}           &   -5872.0927  &      310.285     &   -18.925  &         0.000        &    -6482.472    &    -5261.713     \\\\\n",
       "\\textbf{flipper\\_length\\_mm} &      50.1533  &        1.540     &    32.562  &         0.000        &       47.123    &       53.183     \\\\\n",
       "\\bottomrule\n",
       "\\end{tabular}\n",
       "\\begin{tabular}{lclc}\n",
       "\\textbf{Omnibus:}       &  5.922 & \\textbf{  Durbin-Watson:     } &    2.102  \\\\\n",
       "\\textbf{Prob(Omnibus):} &  0.052 & \\textbf{  Jarque-Bera (JB):  } &    5.876  \\\\\n",
       "\\textbf{Skew:}          &  0.325 & \\textbf{  Prob(JB):          } &   0.0530  \\\\\n",
       "\\textbf{Kurtosis:}      &  3.025 & \\textbf{  Cond. No.          } & 2.90e+03  \\\\\n",
       "\\bottomrule\n",
       "\\end{tabular}\n",
       "%\\caption{OLS Regression Results}\n",
       "\\end{center}\n",
       "\n",
       "Notes: \\newline\n",
       " [1] Standard Errors assume that the covariance matrix of the errors is correctly specified. \\newline\n",
       " [2] The condition number is large, 2.9e+03. This might indicate that there are \\newline\n",
       " strong multicollinearity or other numerical problems."
      ],
      "text/plain": [
       "<class 'statsmodels.iolib.summary.Summary'>\n",
       "\"\"\"\n",
       "                            OLS Regression Results                            \n",
       "==============================================================================\n",
       "Dep. Variable:            body_mass_g   R-squared:                       0.762\n",
       "Model:                            OLS   Adj. R-squared:                  0.761\n",
       "Method:                 Least Squares   F-statistic:                     1060.\n",
       "Date:                Wed, 27 Aug 2025   Prob (F-statistic):          3.13e-105\n",
       "Time:                        08:47:58   Log-Likelihood:                -2461.1\n",
       "No. Observations:                 333   AIC:                             4926.\n",
       "Df Residuals:                     331   BIC:                             4934.\n",
       "Df Model:                           1                                         \n",
       "Covariance Type:            nonrobust                                         \n",
       "=====================================================================================\n",
       "                        coef    std err          t      P>|t|      [0.025      0.975]\n",
       "-------------------------------------------------------------------------------------\n",
       "Intercept         -5872.0927    310.285    -18.925      0.000   -6482.472   -5261.713\n",
       "flipper_length_mm    50.1533      1.540     32.562      0.000      47.123      53.183\n",
       "==============================================================================\n",
       "Omnibus:                        5.922   Durbin-Watson:                   2.102\n",
       "Prob(Omnibus):                  0.052   Jarque-Bera (JB):                5.876\n",
       "Skew:                           0.325   Prob(JB):                       0.0530\n",
       "Kurtosis:                       3.025   Cond. No.                     2.90e+03\n",
       "==============================================================================\n",
       "\n",
       "Notes:\n",
       "[1] Standard Errors assume that the covariance matrix of the errors is correctly specified.\n",
       "[2] The condition number is large, 2.9e+03. This might indicate that there are\n",
       "strong multicollinearity or other numerical problems.\n",
       "\"\"\""
      ]
     },
     "execution_count": 17,
     "metadata": {},
     "output_type": "execute_result"
    }
   ],
   "source": [
    "lm_fit.summary()"
   ]
  },
  {
   "cell_type": "markdown",
   "id": "8129d9d3",
   "metadata": {},
   "source": [
    "### The `.params` attribute stores the coefficient estimates as they minimize the sum of squared errors."
   ]
  },
  {
   "cell_type": "markdown",
   "id": "19a84cb2",
   "metadata": {},
   "source": [
    "* The **slope**, 50.15, describes how much the predicted body mass changes for each additional millimeter of flipper length.\n",
    "  \n",
    "* The **intercept**, -5872.09, is a mathematical result that helps position the regression line but isn’t physically meaningful for penguins, since the data doesn’t include flipper lengths near zero."
   ]
  },
  {
   "cell_type": "code",
   "execution_count": 18,
   "id": "2c9f4e8a",
   "metadata": {},
   "outputs": [
    {
     "data": {
      "text/plain": [
       "Intercept           -5872.092683\n",
       "flipper_length_mm      50.153266\n",
       "dtype: float64"
      ]
     },
     "execution_count": 18,
     "metadata": {},
     "output_type": "execute_result"
    }
   ],
   "source": [
    "lm_fit.params"
   ]
  },
  {
   "cell_type": "markdown",
   "id": "f4495e5d",
   "metadata": {},
   "source": [
    "### The standard error on the estimate is contained in the `.bse` attribute."
   ]
  },
  {
   "cell_type": "markdown",
   "id": "c9412aa6",
   "metadata": {},
   "source": [
    "* The **standard error** for the **intercept**, 310.29, indicates that, if we repeatedly sampled penguins and fit the same model, the estimated starting body mass, -5872.09, would typically vary by about 310 grams between samples, showing the precision of this baseline estimate.\n",
    "\n",
    "* The **standard error** for the flipper length coefficient, 1.54, means our estimate that each additional millimeter of flipper length increases a penguin’s body mass by 50.15 grams is quite precise, with typical variation of only 1.54 grams across samples.\n",
    "\n",
    "* These small **standard errors** demonstrate that, for the penguins in the dataset, both the baseline body mass and the effect of flipper length are estimated with high statistical confidence.\n",
    "\n",
    "* They are considered to have high statistical confidence because the **standard errors** for both the **intercept**, 310.29, and the flipper length coefficient, 1.54, are small relative to the estimated values, –5872.09 and 50.15, respectively. \n",
    "  \n",
    "* This means that if you repeatedly sampled penguins and fit the same regression model, the estimates for the intercept and slope would vary only slightly from sample to sample."
   ]
  },
  {
   "cell_type": "code",
   "execution_count": 19,
   "id": "15a5eae4",
   "metadata": {},
   "outputs": [
    {
     "data": {
      "text/plain": [
       "Intercept            310.285155\n",
       "flipper_length_mm      1.540231\n",
       "dtype: float64"
      ]
     },
     "execution_count": 19,
     "metadata": {},
     "output_type": "execute_result"
    }
   ],
   "source": [
    "lm_fit.bse"
   ]
  },
  {
   "cell_type": "markdown",
   "id": "03b9a882",
   "metadata": {},
   "source": [
    "### We can use the $\\pm1$ and $\\pm2$ standard error intervals to know how trustworthy the estimate is."
   ]
  },
  {
   "cell_type": "markdown",
   "id": "ea6125fb",
   "metadata": {},
   "source": [
    "* The most common standard error interval is the $\\pm2$ standard error interval because that is approximately equal to the 95% confidence interval.\n",
    "\n",
    "* We are 95% confident that the coefficient is somewhere between 47 and 53.\n",
    "\n",
    "* The below are approximations as we will get the exact values with `.conf_int()`."
   ]
  },
  {
   "cell_type": "code",
   "execution_count": 20,
   "id": "1b369cae",
   "metadata": {},
   "outputs": [
    {
     "data": {
      "text/plain": [
       "Intercept           -6492.662994\n",
       "flipper_length_mm      47.072804\n",
       "dtype: float64"
      ]
     },
     "execution_count": 20,
     "metadata": {},
     "output_type": "execute_result"
    }
   ],
   "source": [
    "lm_fit.params - 2 * lm_fit.bse"
   ]
  },
  {
   "cell_type": "code",
   "execution_count": 21,
   "id": "005452af",
   "metadata": {},
   "outputs": [
    {
     "data": {
      "text/plain": [
       "Intercept           -5251.522372\n",
       "flipper_length_mm      53.233728\n",
       "dtype: float64"
      ]
     },
     "execution_count": 21,
     "metadata": {},
     "output_type": "execute_result"
    }
   ],
   "source": [
    "lm_fit.params + 2 * lm_fit.bse"
   ]
  },
  {
   "cell_type": "code",
   "execution_count": 22,
   "id": "0592f109",
   "metadata": {},
   "outputs": [
    {
     "data": {
      "text/html": [
       "<div>\n",
       "<style scoped>\n",
       "    .dataframe tbody tr th:only-of-type {\n",
       "        vertical-align: middle;\n",
       "    }\n",
       "\n",
       "    .dataframe tbody tr th {\n",
       "        vertical-align: top;\n",
       "    }\n",
       "\n",
       "    .dataframe thead th {\n",
       "        text-align: right;\n",
       "    }\n",
       "</style>\n",
       "<table border=\"1\" class=\"dataframe\">\n",
       "  <thead>\n",
       "    <tr style=\"text-align: right;\">\n",
       "      <th></th>\n",
       "      <th>ci_lwr</th>\n",
       "      <th>ci_upr</th>\n",
       "    </tr>\n",
       "  </thead>\n",
       "  <tbody>\n",
       "    <tr>\n",
       "      <th>Intercept</th>\n",
       "      <td>-6482.472236</td>\n",
       "      <td>-5261.713130</td>\n",
       "    </tr>\n",
       "    <tr>\n",
       "      <th>flipper_length_mm</th>\n",
       "      <td>47.123390</td>\n",
       "      <td>53.183142</td>\n",
       "    </tr>\n",
       "  </tbody>\n",
       "</table>\n",
       "</div>"
      ],
      "text/plain": [
       "                        ci_lwr       ci_upr\n",
       "Intercept         -6482.472236 -5261.713130\n",
       "flipper_length_mm    47.123390    53.183142"
      ]
     },
     "execution_count": 22,
     "metadata": {},
     "output_type": "execute_result"
    }
   ],
   "source": [
    "lm_fit.conf_int(). \\\n",
    "       rename(columns={0: 'ci_lwr',\n",
    "                       1: 'ci_upr'})"
   ]
  },
  {
   "cell_type": "markdown",
   "id": "c46a8977",
   "metadata": {},
   "source": [
    "### The P-values for the coefficients are used to identify the **statistically significant** of the input."
   ]
  },
  {
   "cell_type": "markdown",
   "id": "e74646ed",
   "metadata": {},
   "source": [
    "* A **statistically significent** input one that has a **p-value** less than 0.05 which means if this is the case, we have a **statistically significient** input or feature.\n",
    "\n",
    "* These values are extremely small and much lower than 0.05 so they indicate very strong **statistical significance** for both parameters. "
   ]
  },
  {
   "cell_type": "code",
   "execution_count": 23,
   "id": "7fd18408",
   "metadata": {},
   "outputs": [
    {
     "data": {
      "text/plain": [
       "Intercept             1.183941e-54\n",
       "flipper_length_mm    3.132836e-105\n",
       "dtype: float64"
      ]
     },
     "execution_count": 23,
     "metadata": {},
     "output_type": "execute_result"
    }
   ],
   "source": [
    "lm_fit.pvalues"
   ]
  },
  {
   "cell_type": "code",
   "execution_count": 24,
   "id": "dee983dd",
   "metadata": {},
   "outputs": [
    {
     "data": {
      "text/plain": [
       "Intercept            True\n",
       "flipper_length_mm    True\n",
       "dtype: bool"
      ]
     },
     "execution_count": 24,
     "metadata": {},
     "output_type": "execute_result"
    }
   ],
   "source": [
    "lm_fit.pvalues < 0.05"
   ]
  },
  {
   "cell_type": "markdown",
   "id": "2bcc3ebd",
   "metadata": {},
   "source": [
    "### Visualize the coefficient estimates as markers in a scatter plot and the confidence intervals as error bars. "
   ]
  },
  {
   "cell_type": "markdown",
   "id": "dfce87a3",
   "metadata": {},
   "source": [
    "* We are confident that the 95% confidence interval does NOT contain zero as both `flipper_length_mm` and the **intercept** are not touching the zero grey dotted line.\n",
    "\n",
    "* The **intercept** is **statistically significantly negative**; the **slope** is negative, and the `flipper_length_mm` is **statistically significantly positive**; the **slope** is positive.\n",
    "\n",
    "* **We are confident the slope is positive for the `flipper_length_mm`, therefore we are confident that the average output is increasing as the input or feature is increasing.**"
   ]
  },
  {
   "cell_type": "code",
   "execution_count": 25,
   "id": "34950796",
   "metadata": {},
   "outputs": [],
   "source": [
    "def my_coefplot(\n",
    "    model,\n",
    "    var,\n",
    "    xerr_mult=2,\n",
    "    color='k',\n",
    "    ecolor='k',\n",
    "    elinewidth=2,\n",
    "    ms=10,\n",
    "    vline=0,\n",
    "    xlabel='coefficient value',\n",
    "    title=None,\n",
    "    figsize=(7, 2.5),\n",
    "    xlim=None):\n",
    "    \"\"\"\n",
    "    Plots a single coefficient with error bars from a statsmodels model.\n",
    "\n",
    "    Params:\n",
    "        model: fitted statsmodels model\n",
    "        var: variable name (str), e.g. 'Intercept' or 'I(flipper_length_mm ** 2)'\n",
    "        xerr_mult: multiplier for error bars (default 2)\n",
    "        color: marker color\n",
    "        ecolor: error bar color\n",
    "        elinewidth: error bar line width\n",
    "        ms: marker size\n",
    "        vline: where to draw the vertical reference line (default 0)\n",
    "        xlabel: x-axis label (default 'coefficient value')\n",
    "        title: figure title (default None, uses variable name)\n",
    "        figsize: tuple, figure size\n",
    "        xlim: tuple, x-axis limits (optional, auto if None)\n",
    "    \"\"\"\n",
    "    # Get coefficient and error values\n",
    "    coef = model.params[var]\n",
    "    err = xerr_mult * model.bse[var]\n",
    "\n",
    "    # Create the plot\n",
    "    _, ax = plt.subplots(figsize=figsize)\n",
    "    ax.errorbar(\n",
    "        y = [var],\n",
    "        x = [coef],\n",
    "        xerr = [err],\n",
    "        fmt='o',\n",
    "        color=color,\n",
    "        ecolor=ecolor,\n",
    "        elinewidth=elinewidth,\n",
    "        ms=ms\n",
    "    )\n",
    "\n",
    "    # Add vertical line for reference\n",
    "    ax.axvline(x=vline, \n",
    "               linestyle='--', \n",
    "               linewidth=4, \n",
    "               color='grey')\n",
    "    ax.set_xlabel(xlabel)\n",
    "    if title is None:\n",
    "        title = f\"Coefficient Plot for '{var}'\"\n",
    "    ax.set_title(title)\n",
    "\n",
    "    # Always include zero in xlim, and add padding around error bar\n",
    "    bar_left = min(coef - err, vline)\n",
    "    bar_right = max(coef + err, vline)\n",
    "    pad = (bar_right - bar_left) * 0.15 if (bar_right - bar_left) > 0 else 1\n",
    "    auto_xlim = (bar_left - pad, bar_right + pad)\n",
    "\n",
    "    # Set x-axis limits\n",
    "    if xlim is not None:\n",
    "        ax.set_xlim(*xlim)\n",
    "    else:\n",
    "        ax.set_xlim(*auto_xlim)\n",
    "\n",
    "    # Show the plot\n",
    "    plt.show()"
   ]
  },
  {
   "cell_type": "code",
   "execution_count": 26,
   "id": "e0f9976a",
   "metadata": {},
   "outputs": [
    {
     "data": {
      "image/png": "[encoded data removed]",
      "text/plain": [
       "<Figure size 700x250 with 1 Axes>"
      ]
     },
     "metadata": {},
     "output_type": "display_data"
    }
   ],
   "source": [
    "my_coefplot(lm_fit, var='Intercept')"
   ]
  },
  {
   "cell_type": "code",
   "execution_count": 27,
   "id": "41aaabe8",
   "metadata": {},
   "outputs": [
    {
     "data": {
      "image/png": "[encoded data removed]",
      "text/plain": [
       "<Figure size 700x250 with 1 Axes>"
      ]
     },
     "metadata": {},
     "output_type": "display_data"
    }
   ],
   "source": [
    "my_coefplot(lm_fit, var='flipper_length_mm')"
   ]
  },
  {
   "cell_type": "markdown",
   "id": "f841d2f8",
   "metadata": {},
   "source": [
    "## Simple Linear Regression - Measure Linear Feature Performance"
   ]
  },
  {
   "cell_type": "code",
   "execution_count": 28,
   "id": "c64e9928",
   "metadata": {},
   "outputs": [
    {
     "data": {
      "text/plain": [
       "0      3205.648453\n",
       "1      3456.414782\n",
       "2      3907.794176\n",
       "4      3807.487644\n",
       "5      3657.027846\n",
       "          ...     \n",
       "338    4860.706229\n",
       "340    4910.859495\n",
       "341    5261.932356\n",
       "342    4760.399697\n",
       "343    4810.552963\n",
       "Length: 333, dtype: float64"
      ]
     },
     "execution_count": 28,
     "metadata": {},
     "output_type": "execute_result"
    }
   ],
   "source": [
    "lm_fit.fittedvalues"
   ]
  },
  {
   "cell_type": "markdown",
   "id": "f34f3478",
   "metadata": {},
   "source": [
    "### Visually compare the model fitted values or training predictions to the observed outputs."
   ]
  },
  {
   "cell_type": "code",
   "execution_count": 29,
   "id": "06f6727f",
   "metadata": {},
   "outputs": [],
   "source": [
    "df_clean_copy = df_clean.loc[:, \n",
    "                             ['flipper_length_mm',\n",
    "                             'body_mass_g']]. \\\n",
    "                             copy()"
   ]
  },
  {
   "cell_type": "code",
   "execution_count": 30,
   "id": "dfe5b09a",
   "metadata": {},
   "outputs": [
    {
     "data": {
      "text/html": [
       "<div>\n",
       "<style scoped>\n",
       "    .dataframe tbody tr th:only-of-type {\n",
       "        vertical-align: middle;\n",
       "    }\n",
       "\n",
       "    .dataframe tbody tr th {\n",
       "        vertical-align: top;\n",
       "    }\n",
       "\n",
       "    .dataframe thead th {\n",
       "        text-align: right;\n",
       "    }\n",
       "</style>\n",
       "<table border=\"1\" class=\"dataframe\">\n",
       "  <thead>\n",
       "    <tr style=\"text-align: right;\">\n",
       "      <th></th>\n",
       "      <th>flipper_length_mm</th>\n",
       "      <th>body_mass_g</th>\n",
       "    </tr>\n",
       "  </thead>\n",
       "  <tbody>\n",
       "    <tr>\n",
       "      <th>0</th>\n",
       "      <td>181.0</td>\n",
       "      <td>3750.0</td>\n",
       "    </tr>\n",
       "    <tr>\n",
       "      <th>1</th>\n",
       "      <td>186.0</td>\n",
       "      <td>3800.0</td>\n",
       "    </tr>\n",
       "    <tr>\n",
       "      <th>2</th>\n",
       "      <td>195.0</td>\n",
       "      <td>3250.0</td>\n",
       "    </tr>\n",
       "    <tr>\n",
       "      <th>4</th>\n",
       "      <td>193.0</td>\n",
       "      <td>3450.0</td>\n",
       "    </tr>\n",
       "    <tr>\n",
       "      <th>5</th>\n",
       "      <td>190.0</td>\n",
       "      <td>3650.0</td>\n",
       "    </tr>\n",
       "    <tr>\n",
       "      <th>...</th>\n",
       "      <td>...</td>\n",
       "      <td>...</td>\n",
       "    </tr>\n",
       "    <tr>\n",
       "      <th>338</th>\n",
       "      <td>214.0</td>\n",
       "      <td>4925.0</td>\n",
       "    </tr>\n",
       "    <tr>\n",
       "      <th>340</th>\n",
       "      <td>215.0</td>\n",
       "      <td>4850.0</td>\n",
       "    </tr>\n",
       "    <tr>\n",
       "      <th>341</th>\n",
       "      <td>222.0</td>\n",
       "      <td>5750.0</td>\n",
       "    </tr>\n",
       "    <tr>\n",
       "      <th>342</th>\n",
       "      <td>212.0</td>\n",
       "      <td>5200.0</td>\n",
       "    </tr>\n",
       "    <tr>\n",
       "      <th>343</th>\n",
       "      <td>213.0</td>\n",
       "      <td>5400.0</td>\n",
       "    </tr>\n",
       "  </tbody>\n",
       "</table>\n",
       "<p>333 rows × 2 columns</p>\n",
       "</div>"
      ],
      "text/plain": [
       "     flipper_length_mm  body_mass_g\n",
       "0                181.0       3750.0\n",
       "1                186.0       3800.0\n",
       "2                195.0       3250.0\n",
       "4                193.0       3450.0\n",
       "5                190.0       3650.0\n",
       "..                 ...          ...\n",
       "338              214.0       4925.0\n",
       "340              215.0       4850.0\n",
       "341              222.0       5750.0\n",
       "342              212.0       5200.0\n",
       "343              213.0       5400.0\n",
       "\n",
       "[333 rows x 2 columns]"
      ]
     },
     "execution_count": 30,
     "metadata": {},
     "output_type": "execute_result"
    }
   ],
   "source": [
    "df_clean_copy"
   ]
  },
  {
   "cell_type": "code",
   "execution_count": 31,
   "id": "7268d434",
   "metadata": {},
   "outputs": [],
   "source": [
    "df_clean_copy['fitted'] = lm_fit.fittedvalues"
   ]
  },
  {
   "cell_type": "code",
   "execution_count": 32,
   "id": "29d4965a",
   "metadata": {},
   "outputs": [
    {
     "data": {
      "text/html": [
       "<div>\n",
       "<style scoped>\n",
       "    .dataframe tbody tr th:only-of-type {\n",
       "        vertical-align: middle;\n",
       "    }\n",
       "\n",
       "    .dataframe tbody tr th {\n",
       "        vertical-align: top;\n",
       "    }\n",
       "\n",
       "    .dataframe thead th {\n",
       "        text-align: right;\n",
       "    }\n",
       "</style>\n",
       "<table border=\"1\" class=\"dataframe\">\n",
       "  <thead>\n",
       "    <tr style=\"text-align: right;\">\n",
       "      <th></th>\n",
       "      <th>flipper_length_mm</th>\n",
       "      <th>body_mass_g</th>\n",
       "      <th>fitted</th>\n",
       "    </tr>\n",
       "  </thead>\n",
       "  <tbody>\n",
       "    <tr>\n",
       "      <th>0</th>\n",
       "      <td>181.0</td>\n",
       "      <td>3750.0</td>\n",
       "      <td>3205.648453</td>\n",
       "    </tr>\n",
       "    <tr>\n",
       "      <th>1</th>\n",
       "      <td>186.0</td>\n",
       "      <td>3800.0</td>\n",
       "      <td>3456.414782</td>\n",
       "    </tr>\n",
       "    <tr>\n",
       "      <th>2</th>\n",
       "      <td>195.0</td>\n",
       "      <td>3250.0</td>\n",
       "      <td>3907.794176</td>\n",
       "    </tr>\n",
       "    <tr>\n",
       "      <th>4</th>\n",
       "      <td>193.0</td>\n",
       "      <td>3450.0</td>\n",
       "      <td>3807.487644</td>\n",
       "    </tr>\n",
       "    <tr>\n",
       "      <th>5</th>\n",
       "      <td>190.0</td>\n",
       "      <td>3650.0</td>\n",
       "      <td>3657.027846</td>\n",
       "    </tr>\n",
       "    <tr>\n",
       "      <th>...</th>\n",
       "      <td>...</td>\n",
       "      <td>...</td>\n",
       "      <td>...</td>\n",
       "    </tr>\n",
       "    <tr>\n",
       "      <th>338</th>\n",
       "      <td>214.0</td>\n",
       "      <td>4925.0</td>\n",
       "      <td>4860.706229</td>\n",
       "    </tr>\n",
       "    <tr>\n",
       "      <th>340</th>\n",
       "      <td>215.0</td>\n",
       "      <td>4850.0</td>\n",
       "      <td>4910.859495</td>\n",
       "    </tr>\n",
       "    <tr>\n",
       "      <th>341</th>\n",
       "      <td>222.0</td>\n",
       "      <td>5750.0</td>\n",
       "      <td>5261.932356</td>\n",
       "    </tr>\n",
       "    <tr>\n",
       "      <th>342</th>\n",
       "      <td>212.0</td>\n",
       "      <td>5200.0</td>\n",
       "      <td>4760.399697</td>\n",
       "    </tr>\n",
       "    <tr>\n",
       "      <th>343</th>\n",
       "      <td>213.0</td>\n",
       "      <td>5400.0</td>\n",
       "      <td>4810.552963</td>\n",
       "    </tr>\n",
       "  </tbody>\n",
       "</table>\n",
       "<p>333 rows × 3 columns</p>\n",
       "</div>"
      ],
      "text/plain": [
       "     flipper_length_mm  body_mass_g       fitted\n",
       "0                181.0       3750.0  3205.648453\n",
       "1                186.0       3800.0  3456.414782\n",
       "2                195.0       3250.0  3907.794176\n",
       "4                193.0       3450.0  3807.487644\n",
       "5                190.0       3650.0  3657.027846\n",
       "..                 ...          ...          ...\n",
       "338              214.0       4925.0  4860.706229\n",
       "340              215.0       4850.0  4910.859495\n",
       "341              222.0       5750.0  5261.932356\n",
       "342              212.0       5200.0  4760.399697\n",
       "343              213.0       5400.0  4810.552963\n",
       "\n",
       "[333 rows x 3 columns]"
      ]
     },
     "execution_count": 32,
     "metadata": {},
     "output_type": "execute_result"
    }
   ],
   "source": [
    "df_clean_copy"
   ]
  },
  {
   "cell_type": "markdown",
   "id": "d4e60f97",
   "metadata": {},
   "source": [
    "### Visualize the predictions."
   ]
  },
  {
   "cell_type": "code",
   "execution_count": 33,
   "id": "bbdf0029",
   "metadata": {},
   "outputs": [
    {
     "data": {
      "image/png": "[encoded data removed]",
      "text/plain": [
       "<Figure size 500x500 with 1 Axes>"
      ]
     },
     "metadata": {},
     "output_type": "display_data"
    }
   ],
   "source": [
    "sns.relplot(data=df_clean_copy, \n",
    "            x='flipper_length_mm', \n",
    "            y='fitted')\n",
    "plt.show()"
   ]
  },
  {
   "cell_type": "markdown",
   "id": "41a1d563",
   "metadata": {},
   "source": [
    "### Compare the observed output to the model fits by overlaying the obserserved output vs the input with the predicted trend or fitted values with the input."
   ]
  },
  {
   "cell_type": "code",
   "execution_count": 34,
   "id": "09a22cc5",
   "metadata": {},
   "outputs": [
    {
     "data": {
      "image/png": "[encoded data removed]",
      "text/plain": [
       "<Figure size 640x480 with 1 Axes>"
      ]
     },
     "metadata": {},
     "output_type": "display_data"
    }
   ],
   "source": [
    "fig, ax = plt.subplots()\n",
    "sns.scatterplot(data=df_clean_copy, \n",
    "                x='flipper_length_mm', \n",
    "                y='fitted', \n",
    "                ax=ax)\n",
    "sns.scatterplot(data=df_clean_copy, \n",
    "                x='flipper_length_mm', \n",
    "                y='body_mass_g', \n",
    "                ax=ax)\n",
    "plt.show()"
   ]
  },
  {
   "cell_type": "markdown",
   "id": "5f4f3f59",
   "metadata": {},
   "source": [
    "### Directly relate the observed output and the model fits or the predicted vs observed figure."
   ]
  },
  {
   "cell_type": "code",
   "execution_count": 35,
   "id": "9d5267b5",
   "metadata": {},
   "outputs": [
    {
     "data": {
      "image/png": "[encoded data removed]",
      "text/plain": [
       "<Figure size 500x500 with 1 Axes>"
      ]
     },
     "metadata": {},
     "output_type": "display_data"
    }
   ],
   "source": [
    "sns.relplot(data=df_clean_copy,\n",
    "            x='body_mass_g',\n",
    "            y='fitted')\n",
    "plt.show()"
   ]
  },
  {
   "cell_type": "markdown",
   "id": "2cad4798",
   "metadata": {},
   "source": [
    "### Include a \"45 degree\" reference line with our predicted vs observed figure."
   ]
  },
  {
   "cell_type": "code",
   "execution_count": 36,
   "id": "9839fab1",
   "metadata": {},
   "outputs": [
    {
     "data": {
      "image/png": "[encoded data removed]",
      "text/plain": [
       "<Figure size 640x480 with 1 Axes>"
      ]
     },
     "metadata": {},
     "output_type": "display_data"
    }
   ],
   "source": [
    "fig, ax = plt.subplots()\n",
    "sns.scatterplot(data=df_clean_copy,\n",
    "                x='body_mass_g',\n",
    "                y='fitted',\n",
    "                ax=ax)\n",
    "sns.lineplot(data=df_clean_copy,\n",
    "             x='body_mass_g',\n",
    "             y='body_mass_g',\n",
    "             color='red',\n",
    "             ax=ax)\n",
    "plt.show()"
   ]
  },
  {
   "cell_type": "markdown",
   "id": "2694421e",
   "metadata": {},
   "source": [
    "### Often we want a number or quantative metric for the coorelation between the model predictions and the observed outputs by calculating the correlation coefficient between the fits and the observed output."
   ]
  },
  {
   "cell_type": "code",
   "execution_count": 37,
   "id": "8dfac100",
   "metadata": {},
   "outputs": [
    {
     "data": {
      "text/html": [
       "<div>\n",
       "<style scoped>\n",
       "    .dataframe tbody tr th:only-of-type {\n",
       "        vertical-align: middle;\n",
       "    }\n",
       "\n",
       "    .dataframe tbody tr th {\n",
       "        vertical-align: top;\n",
       "    }\n",
       "\n",
       "    .dataframe thead th {\n",
       "        text-align: right;\n",
       "    }\n",
       "</style>\n",
       "<table border=\"1\" class=\"dataframe\">\n",
       "  <thead>\n",
       "    <tr style=\"text-align: right;\">\n",
       "      <th></th>\n",
       "      <th>body_mass_g</th>\n",
       "      <th>fitted</th>\n",
       "    </tr>\n",
       "  </thead>\n",
       "  <tbody>\n",
       "    <tr>\n",
       "      <th>body_mass_g</th>\n",
       "      <td>1.000000</td>\n",
       "      <td>0.872979</td>\n",
       "    </tr>\n",
       "    <tr>\n",
       "      <th>fitted</th>\n",
       "      <td>0.872979</td>\n",
       "      <td>1.000000</td>\n",
       "    </tr>\n",
       "  </tbody>\n",
       "</table>\n",
       "</div>"
      ],
      "text/plain": [
       "             body_mass_g    fitted\n",
       "body_mass_g     1.000000  0.872979\n",
       "fitted          0.872979  1.000000"
      ]
     },
     "execution_count": 37,
     "metadata": {},
     "output_type": "execute_result"
    }
   ],
   "source": [
    "df_clean_copy.loc[:, \n",
    "                  ['body_mass_g', 'fitted']]. \\\n",
    "                    corr(numeric_only=True)"
   ]
  },
  {
   "cell_type": "code",
   "execution_count": 38,
   "id": "52d9dce4",
   "metadata": {},
   "outputs": [
    {
     "data": {
      "text/plain": [
       "0.8729788985653614"
      ]
     },
     "execution_count": 38,
     "metadata": {},
     "output_type": "execute_result"
    }
   ],
   "source": [
    "df_clean_copy.loc[:, \n",
    "                  ['body_mass_g', 'fitted']]. \\\n",
    "                    corr(numeric_only=True). \\\n",
    "                    iloc[0, 1]"
   ]
  },
  {
   "cell_type": "markdown",
   "id": "848682c7",
   "metadata": {},
   "source": [
    "### The correlation coefficient can be negative or positive so we will square it."
   ]
  },
  {
   "cell_type": "code",
   "execution_count": 39,
   "id": "a7ffb755",
   "metadata": {},
   "outputs": [
    {
     "data": {
      "text/plain": [
       "0.7620921573403915"
      ]
     },
     "execution_count": 39,
     "metadata": {},
     "output_type": "execute_result"
    }
   ],
   "source": [
    "df_clean_copy.loc[:, \n",
    "                  ['body_mass_g', 'fitted']]. \\\n",
    "                    corr(numeric_only=True). \\\n",
    "                    iloc[0, 1] ** 2"
   ]
  },
  {
   "cell_type": "markdown",
   "id": "549d14c5",
   "metadata": {},
   "source": [
    "### This calculation is called **R-Squared** as it comes from the predicted vs observed figure above as it will show whether the observed output increase or decrease with an increase or decrease of the predicted output from the model."
   ]
  },
  {
   "cell_type": "markdown",
   "id": "34174790",
   "metadata": {},
   "source": [
    "### **IF THERE IS A GENERAL LINEAR RELATIONSHIP BETWEEN THE OBSERVED AND PREDICTED OUTPUT, R-SQUARED WILL BE HIGH CLOSE TO 1.**"
   ]
  },
  {
   "cell_type": "code",
   "execution_count": 40,
   "id": "5c604f34",
   "metadata": {},
   "outputs": [
    {
     "data": {
      "text/plain": [
       "0.7620921573403914"
      ]
     },
     "execution_count": 40,
     "metadata": {},
     "output_type": "execute_result"
    }
   ],
   "source": [
    "lm_fit.rsquared"
   ]
  },
  {
   "cell_type": "markdown",
   "id": "ce5d193f",
   "metadata": {},
   "source": [
    "### The error is the difference between the observed output and the predicted trend or fitted values as the errors can be positive or negative."
   ]
  },
  {
   "cell_type": "code",
   "execution_count": 41,
   "id": "8495fac1",
   "metadata": {},
   "outputs": [],
   "source": [
    "df_clean_copy['errors'] = df_clean_copy.body_mass_g - df_clean_copy.fitted"
   ]
  },
  {
   "cell_type": "code",
   "execution_count": 42,
   "id": "d05d2ce7",
   "metadata": {},
   "outputs": [
    {
     "data": {
      "text/html": [
       "<div>\n",
       "<style scoped>\n",
       "    .dataframe tbody tr th:only-of-type {\n",
       "        vertical-align: middle;\n",
       "    }\n",
       "\n",
       "    .dataframe tbody tr th {\n",
       "        vertical-align: top;\n",
       "    }\n",
       "\n",
       "    .dataframe thead th {\n",
       "        text-align: right;\n",
       "    }\n",
       "</style>\n",
       "<table border=\"1\" class=\"dataframe\">\n",
       "  <thead>\n",
       "    <tr style=\"text-align: right;\">\n",
       "      <th></th>\n",
       "      <th>flipper_length_mm</th>\n",
       "      <th>body_mass_g</th>\n",
       "      <th>fitted</th>\n",
       "      <th>errors</th>\n",
       "    </tr>\n",
       "  </thead>\n",
       "  <tbody>\n",
       "    <tr>\n",
       "      <th>0</th>\n",
       "      <td>181.0</td>\n",
       "      <td>3750.0</td>\n",
       "      <td>3205.648453</td>\n",
       "      <td>544.351547</td>\n",
       "    </tr>\n",
       "    <tr>\n",
       "      <th>1</th>\n",
       "      <td>186.0</td>\n",
       "      <td>3800.0</td>\n",
       "      <td>3456.414782</td>\n",
       "      <td>343.585218</td>\n",
       "    </tr>\n",
       "    <tr>\n",
       "      <th>2</th>\n",
       "      <td>195.0</td>\n",
       "      <td>3250.0</td>\n",
       "      <td>3907.794176</td>\n",
       "      <td>-657.794176</td>\n",
       "    </tr>\n",
       "    <tr>\n",
       "      <th>4</th>\n",
       "      <td>193.0</td>\n",
       "      <td>3450.0</td>\n",
       "      <td>3807.487644</td>\n",
       "      <td>-357.487644</td>\n",
       "    </tr>\n",
       "    <tr>\n",
       "      <th>5</th>\n",
       "      <td>190.0</td>\n",
       "      <td>3650.0</td>\n",
       "      <td>3657.027846</td>\n",
       "      <td>-7.027846</td>\n",
       "    </tr>\n",
       "    <tr>\n",
       "      <th>...</th>\n",
       "      <td>...</td>\n",
       "      <td>...</td>\n",
       "      <td>...</td>\n",
       "      <td>...</td>\n",
       "    </tr>\n",
       "    <tr>\n",
       "      <th>338</th>\n",
       "      <td>214.0</td>\n",
       "      <td>4925.0</td>\n",
       "      <td>4860.706229</td>\n",
       "      <td>64.293771</td>\n",
       "    </tr>\n",
       "    <tr>\n",
       "      <th>340</th>\n",
       "      <td>215.0</td>\n",
       "      <td>4850.0</td>\n",
       "      <td>4910.859495</td>\n",
       "      <td>-60.859495</td>\n",
       "    </tr>\n",
       "    <tr>\n",
       "      <th>341</th>\n",
       "      <td>222.0</td>\n",
       "      <td>5750.0</td>\n",
       "      <td>5261.932356</td>\n",
       "      <td>488.067644</td>\n",
       "    </tr>\n",
       "    <tr>\n",
       "      <th>342</th>\n",
       "      <td>212.0</td>\n",
       "      <td>5200.0</td>\n",
       "      <td>4760.399697</td>\n",
       "      <td>439.600303</td>\n",
       "    </tr>\n",
       "    <tr>\n",
       "      <th>343</th>\n",
       "      <td>213.0</td>\n",
       "      <td>5400.0</td>\n",
       "      <td>4810.552963</td>\n",
       "      <td>589.447037</td>\n",
       "    </tr>\n",
       "  </tbody>\n",
       "</table>\n",
       "<p>333 rows × 4 columns</p>\n",
       "</div>"
      ],
      "text/plain": [
       "     flipper_length_mm  body_mass_g       fitted      errors\n",
       "0                181.0       3750.0  3205.648453  544.351547\n",
       "1                186.0       3800.0  3456.414782  343.585218\n",
       "2                195.0       3250.0  3907.794176 -657.794176\n",
       "4                193.0       3450.0  3807.487644 -357.487644\n",
       "5                190.0       3650.0  3657.027846   -7.027846\n",
       "..                 ...          ...          ...         ...\n",
       "338              214.0       4925.0  4860.706229   64.293771\n",
       "340              215.0       4850.0  4910.859495  -60.859495\n",
       "341              222.0       5750.0  5261.932356  488.067644\n",
       "342              212.0       5200.0  4760.399697  439.600303\n",
       "343              213.0       5400.0  4810.552963  589.447037\n",
       "\n",
       "[333 rows x 4 columns]"
      ]
     },
     "execution_count": 42,
     "metadata": {},
     "output_type": "execute_result"
    }
   ],
   "source": [
    "df_clean_copy"
   ]
  },
  {
   "cell_type": "markdown",
   "id": "768d4810",
   "metadata": {},
   "source": [
    "### We can visualize the errors with respect to an input as ideally there should be no clear correlation between an error and an input as the errors are meant to represent unexplained variability or everything the model can't capture."
   ]
  },
  {
   "cell_type": "markdown",
   "id": "4cbd5bca",
   "metadata": {},
   "source": [
    "### **IF YOU SEE A LINEAR OR NON-LINEAR RELATIONSHIP THAT MEANS THERE IS SOME FEATURE YOU NEED TO DERIVE FROM YOUR INPUT TO BETTER CAPTURE THE OUTPUT TO INPUT RELATIONSHIP.**"
   ]
  },
  {
   "cell_type": "code",
   "execution_count": 43,
   "id": "e5d2f7b5",
   "metadata": {},
   "outputs": [
    {
     "data": {
      "image/png": "[encoded data removed]",
      "text/plain": [
       "<Figure size 500x500 with 1 Axes>"
      ]
     },
     "metadata": {},
     "output_type": "display_data"
    }
   ],
   "source": [
    "sns.relplot(data=df_clean_copy,\n",
    "            x='flipper_length_mm',\n",
    "            y='errors')\n",
    "plt.show()"
   ]
  },
  {
   "cell_type": "markdown",
   "id": "43aa9405",
   "metadata": {},
   "source": [
    "### The distribition of the errors should be Gaussian."
   ]
  },
  {
   "cell_type": "code",
   "execution_count": 44,
   "id": "740d13ef",
   "metadata": {},
   "outputs": [
    {
     "data": {
      "image/png": "[encoded data removed]",
      "text/plain": [
       "<Figure size 500x500 with 1 Axes>"
      ]
     },
     "metadata": {},
     "output_type": "display_data"
    }
   ],
   "source": [
    "sns.displot(data=df_clean_copy, \n",
    "            x='errors', \n",
    "            kind='hist', \n",
    "            kde=True)\n",
    "plt.show()"
   ]
  },
  {
   "cell_type": "markdown",
   "id": "f8e4313c",
   "metadata": {},
   "source": [
    "### The other term for the error is the residual."
   ]
  },
  {
   "cell_type": "code",
   "execution_count": 45,
   "id": "8efbad12",
   "metadata": {},
   "outputs": [
    {
     "data": {
      "text/plain": [
       "0      544.351547\n",
       "1      343.585218\n",
       "2     -657.794176\n",
       "4     -357.487644\n",
       "5       -7.027846\n",
       "          ...    \n",
       "338     64.293771\n",
       "340    -60.859495\n",
       "341    488.067644\n",
       "342    439.600303\n",
       "343    589.447037\n",
       "Length: 333, dtype: float64"
      ]
     },
     "execution_count": 45,
     "metadata": {},
     "output_type": "execute_result"
    }
   ],
   "source": [
    "lm_fit.resid"
   ]
  },
  {
   "cell_type": "code",
   "execution_count": 46,
   "id": "3c2acb62",
   "metadata": {},
   "outputs": [],
   "source": [
    "df_clean_copy['residuals'] = lm_fit.resid"
   ]
  },
  {
   "cell_type": "code",
   "execution_count": 47,
   "id": "62172fb3",
   "metadata": {},
   "outputs": [
    {
     "data": {
      "text/html": [
       "<div>\n",
       "<style scoped>\n",
       "    .dataframe tbody tr th:only-of-type {\n",
       "        vertical-align: middle;\n",
       "    }\n",
       "\n",
       "    .dataframe tbody tr th {\n",
       "        vertical-align: top;\n",
       "    }\n",
       "\n",
       "    .dataframe thead th {\n",
       "        text-align: right;\n",
       "    }\n",
       "</style>\n",
       "<table border=\"1\" class=\"dataframe\">\n",
       "  <thead>\n",
       "    <tr style=\"text-align: right;\">\n",
       "      <th></th>\n",
       "      <th>flipper_length_mm</th>\n",
       "      <th>body_mass_g</th>\n",
       "      <th>fitted</th>\n",
       "      <th>errors</th>\n",
       "      <th>residuals</th>\n",
       "    </tr>\n",
       "  </thead>\n",
       "  <tbody>\n",
       "    <tr>\n",
       "      <th>0</th>\n",
       "      <td>181.0</td>\n",
       "      <td>3750.0</td>\n",
       "      <td>3205.648453</td>\n",
       "      <td>544.351547</td>\n",
       "      <td>544.351547</td>\n",
       "    </tr>\n",
       "    <tr>\n",
       "      <th>1</th>\n",
       "      <td>186.0</td>\n",
       "      <td>3800.0</td>\n",
       "      <td>3456.414782</td>\n",
       "      <td>343.585218</td>\n",
       "      <td>343.585218</td>\n",
       "    </tr>\n",
       "    <tr>\n",
       "      <th>2</th>\n",
       "      <td>195.0</td>\n",
       "      <td>3250.0</td>\n",
       "      <td>3907.794176</td>\n",
       "      <td>-657.794176</td>\n",
       "      <td>-657.794176</td>\n",
       "    </tr>\n",
       "    <tr>\n",
       "      <th>4</th>\n",
       "      <td>193.0</td>\n",
       "      <td>3450.0</td>\n",
       "      <td>3807.487644</td>\n",
       "      <td>-357.487644</td>\n",
       "      <td>-357.487644</td>\n",
       "    </tr>\n",
       "    <tr>\n",
       "      <th>5</th>\n",
       "      <td>190.0</td>\n",
       "      <td>3650.0</td>\n",
       "      <td>3657.027846</td>\n",
       "      <td>-7.027846</td>\n",
       "      <td>-7.027846</td>\n",
       "    </tr>\n",
       "    <tr>\n",
       "      <th>...</th>\n",
       "      <td>...</td>\n",
       "      <td>...</td>\n",
       "      <td>...</td>\n",
       "      <td>...</td>\n",
       "      <td>...</td>\n",
       "    </tr>\n",
       "    <tr>\n",
       "      <th>338</th>\n",
       "      <td>214.0</td>\n",
       "      <td>4925.0</td>\n",
       "      <td>4860.706229</td>\n",
       "      <td>64.293771</td>\n",
       "      <td>64.293771</td>\n",
       "    </tr>\n",
       "    <tr>\n",
       "      <th>340</th>\n",
       "      <td>215.0</td>\n",
       "      <td>4850.0</td>\n",
       "      <td>4910.859495</td>\n",
       "      <td>-60.859495</td>\n",
       "      <td>-60.859495</td>\n",
       "    </tr>\n",
       "    <tr>\n",
       "      <th>341</th>\n",
       "      <td>222.0</td>\n",
       "      <td>5750.0</td>\n",
       "      <td>5261.932356</td>\n",
       "      <td>488.067644</td>\n",
       "      <td>488.067644</td>\n",
       "    </tr>\n",
       "    <tr>\n",
       "      <th>342</th>\n",
       "      <td>212.0</td>\n",
       "      <td>5200.0</td>\n",
       "      <td>4760.399697</td>\n",
       "      <td>439.600303</td>\n",
       "      <td>439.600303</td>\n",
       "    </tr>\n",
       "    <tr>\n",
       "      <th>343</th>\n",
       "      <td>213.0</td>\n",
       "      <td>5400.0</td>\n",
       "      <td>4810.552963</td>\n",
       "      <td>589.447037</td>\n",
       "      <td>589.447037</td>\n",
       "    </tr>\n",
       "  </tbody>\n",
       "</table>\n",
       "<p>333 rows × 5 columns</p>\n",
       "</div>"
      ],
      "text/plain": [
       "     flipper_length_mm  body_mass_g       fitted      errors   residuals\n",
       "0                181.0       3750.0  3205.648453  544.351547  544.351547\n",
       "1                186.0       3800.0  3456.414782  343.585218  343.585218\n",
       "2                195.0       3250.0  3907.794176 -657.794176 -657.794176\n",
       "4                193.0       3450.0  3807.487644 -357.487644 -357.487644\n",
       "5                190.0       3650.0  3657.027846   -7.027846   -7.027846\n",
       "..                 ...          ...          ...         ...         ...\n",
       "338              214.0       4925.0  4860.706229   64.293771   64.293771\n",
       "340              215.0       4850.0  4910.859495  -60.859495  -60.859495\n",
       "341              222.0       5750.0  5261.932356  488.067644  488.067644\n",
       "342              212.0       5200.0  4760.399697  439.600303  439.600303\n",
       "343              213.0       5400.0  4810.552963  589.447037  589.447037\n",
       "\n",
       "[333 rows x 5 columns]"
      ]
     },
     "execution_count": 47,
     "metadata": {},
     "output_type": "execute_result"
    }
   ],
   "source": [
    "df_clean_copy"
   ]
  },
  {
   "cell_type": "markdown",
   "id": "bdfd4ea2",
   "metadata": {},
   "source": [
    "### To summarize the errors or residuals across all of the data by squaring the error which will convert any negative value to a positive error or SSE, sum of squared errors."
   ]
  },
  {
   "cell_type": "code",
   "execution_count": 48,
   "id": "58e211a5",
   "metadata": {},
   "outputs": [
    {
     "data": {
      "text/plain": [
       "51211962.72968365"
      ]
     },
     "execution_count": 48,
     "metadata": {},
     "output_type": "execute_result"
    }
   ],
   "source": [
    "(lm_fit.resid ** 2).sum()"
   ]
  },
  {
   "cell_type": "markdown",
   "id": "417cc60b",
   "metadata": {},
   "source": [
    "### **THE SSE INCREASES AS THE NUMBER OF DATA POINTS INCREASES SO WE WANT THE AVERAGE OR THE MSE, MEAN SQUARED ERROR OR AVERAGE SQUARED ERROR PER DATA POINT.**"
   ]
  },
  {
   "cell_type": "code",
   "execution_count": 49,
   "id": "04f1a63c",
   "metadata": {},
   "outputs": [
    {
     "data": {
      "text/plain": [
       "153789.6778669179"
      ]
     },
     "execution_count": 49,
     "metadata": {},
     "output_type": "execute_result"
    }
   ],
   "source": [
    "(lm_fit.resid ** 2).mean()"
   ]
  },
  {
   "cell_type": "markdown",
   "id": "72859b1e",
   "metadata": {},
   "source": [
    "### The MSE is not in the same units as the output therefore we must take the square root called RMSE or root mean squared error."
   ]
  },
  {
   "cell_type": "code",
   "execution_count": 50,
   "id": "fd888650",
   "metadata": {},
   "outputs": [
    {
     "data": {
      "text/plain": [
       "392.16027063806183"
      ]
     },
     "execution_count": 50,
     "metadata": {},
     "output_type": "execute_result"
    }
   ],
   "source": [
    "np.sqrt((lm_fit.resid ** 2).mean())"
   ]
  },
  {
   "cell_type": "markdown",
   "id": "9633c59b",
   "metadata": {},
   "source": [
    "### The MAE or mean absolute error makes all values positive and is the average absolute error of the training data and is less sensitive to extreme values because its not squaring the error. "
   ]
  },
  {
   "cell_type": "code",
   "execution_count": 51,
   "id": "bb59ac3e",
   "metadata": {},
   "outputs": [
    {
     "data": {
      "text/plain": [
       "312.08474571800986"
      ]
     },
     "execution_count": 51,
     "metadata": {},
     "output_type": "execute_result"
    }
   ],
   "source": [
    "np.abs(lm_fit.resid).mean()"
   ]
  }
 ],
 "metadata": {
  "kernelspec": {
   "display_name": "prod",
   "language": "python",
   "name": "python3"
  },
  "language_info": {
   "codemirror_mode": {
    "name": "ipython",
    "version": 3
   },
   "file_extension": ".py",
   "mimetype": "text/x-python",
   "name": "python",
   "nbconvert_exporter": "python",
   "pygments_lexer": "ipython3",
   "version": "3.12.7"
  }
 },
 "nbformat": 4,
 "nbformat_minor": 5
}

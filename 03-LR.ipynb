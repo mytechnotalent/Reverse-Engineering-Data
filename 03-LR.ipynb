{
 "cells": [
  {
   "cell_type": "markdown",
   "id": "844435e8",
   "metadata": {},
   "source": [
    "# Cyber Security Attacks Dataset Logistic Regression"
   ]
  },
  {
   "cell_type": "markdown",
   "id": "c6dc97bb",
   "metadata": {},
   "source": [
    "### [Cyber Security Attacks Dataset](https://www.kaggle.com/datasets/teamincribo/cyber-security-attacks)\n",
    "\n",
    "Author: [Kevin Thomas](mailto:ket189@pitt.edu)"
   ]
  },
  {
   "cell_type": "markdown",
   "id": "0600d4b0",
   "metadata": {},
   "source": [
    "## Citation"
   ]
  },
  {
   "cell_type": "markdown",
   "id": "ec57b3f7",
   "metadata": {},
   "source": [
    "[1] Aashray Agur\n",
    "\n",
    "[2] Uma Venugopal, https://www.kaggle.com/umavenugopal"
   ]
  },
  {
   "cell_type": "markdown",
   "id": "2281e96c",
   "metadata": {},
   "source": [
    "## Import Modules"
   ]
  },
  {
   "cell_type": "code",
   "execution_count": 116,
   "id": "4d6f2076",
   "metadata": {},
   "outputs": [],
   "source": [
    "import numpy as np\n",
    "import pandas as pd\n",
    "import matplotlib.pyplot as plt\n",
    "import seaborn as sns\n",
    "from sklearn.preprocessing import StandardScaler\n",
    "from sklearn.linear_model import LogisticRegression\n",
    "from sklearn.model_selection import train_test_split\n",
    "from sklearn.metrics import precision_score, recall_score, f1_score\n",
    "from sklearn.metrics import roc_curve, roc_auc_score"
   ]
  },
  {
   "cell_type": "markdown",
   "id": "4c514e3a",
   "metadata": {},
   "source": [
    "## Load Dataset"
   ]
  },
  {
   "cell_type": "code",
   "execution_count": 117,
   "id": "66ef5697",
   "metadata": {},
   "outputs": [],
   "source": [
    "df = pd.read_csv('cybersecurity_attacks.csv')"
   ]
  },
  {
   "cell_type": "markdown",
   "id": "5163b8a3",
   "metadata": {},
   "source": [
    "## Perform Essential Exploration & Data Cleaning"
   ]
  },
  {
   "cell_type": "markdown",
   "id": "a1590e07",
   "metadata": {},
   "source": [
    "### Display the initial number of rows and columns."
   ]
  },
  {
   "cell_type": "code",
   "execution_count": 118,
   "id": "b8f077b4",
   "metadata": {},
   "outputs": [
    {
     "data": {
      "text/plain": [
       "(40000, 25)"
      ]
     },
     "execution_count": 118,
     "metadata": {},
     "output_type": "execute_result"
    }
   ],
   "source": [
    "df.shape"
   ]
  },
  {
   "cell_type": "markdown",
   "id": "685417c9",
   "metadata": {},
   "source": [
    "### Display the initial variable names and their associated data types."
   ]
  },
  {
   "cell_type": "code",
   "execution_count": 119,
   "id": "13c65303",
   "metadata": {},
   "outputs": [
    {
     "data": {
      "text/plain": [
       "Timestamp                  object\n",
       "Source IP Address          object\n",
       "Destination IP Address     object\n",
       "Source Port                 int64\n",
       "Destination Port            int64\n",
       "Protocol                   object\n",
       "Packet Length               int64\n",
       "Packet Type                object\n",
       "Traffic Type               object\n",
       "Payload Data               object\n",
       "Malware Indicators         object\n",
       "Anomaly Scores            float64\n",
       "Alerts/Warnings            object\n",
       "Attack Type                object\n",
       "Attack Signature           object\n",
       "Action Taken               object\n",
       "Severity Level             object\n",
       "User Information           object\n",
       "Device Information         object\n",
       "Network Segment            object\n",
       "Geo-location Data          object\n",
       "Proxy Information          object\n",
       "Firewall Logs              object\n",
       "IDS/IPS Alerts             object\n",
       "Log Source                 object\n",
       "dtype: object"
      ]
     },
     "execution_count": 119,
     "metadata": {},
     "output_type": "execute_result"
    }
   ],
   "source": [
    "df.dtypes"
   ]
  },
  {
   "cell_type": "markdown",
   "id": "29342fb3",
   "metadata": {},
   "source": [
    "### Create target variable."
   ]
  },
  {
   "cell_type": "code",
   "execution_count": 120,
   "id": "a2dafdac",
   "metadata": {},
   "outputs": [],
   "source": [
    "df['Malware Event'] = np.where(df['Malware Indicators'].fillna('') == 'IoC Detected', 1, 0)"
   ]
  },
  {
   "cell_type": "markdown",
   "id": "02b99681",
   "metadata": {},
   "source": [
    "### Display the number of missing values for each column, remove the missing values and create a clean copy of the dataset."
   ]
  },
  {
   "cell_type": "code",
   "execution_count": 121,
   "id": "84e422e2",
   "metadata": {},
   "outputs": [
    {
     "data": {
      "text/plain": [
       "Timestamp                     0\n",
       "Source IP Address             0\n",
       "Destination IP Address        0\n",
       "Source Port                   0\n",
       "Destination Port              0\n",
       "Protocol                      0\n",
       "Packet Length                 0\n",
       "Packet Type                   0\n",
       "Traffic Type                  0\n",
       "Payload Data                  0\n",
       "Malware Indicators        20000\n",
       "Anomaly Scores                0\n",
       "Alerts/Warnings           20067\n",
       "Attack Type                   0\n",
       "Attack Signature              0\n",
       "Action Taken                  0\n",
       "Severity Level                0\n",
       "User Information              0\n",
       "Device Information            0\n",
       "Network Segment               0\n",
       "Geo-location Data             0\n",
       "Proxy Information         19851\n",
       "Firewall Logs             19961\n",
       "IDS/IPS Alerts            20050\n",
       "Log Source                    0\n",
       "Malware Event                 0\n",
       "dtype: int64"
      ]
     },
     "execution_count": 121,
     "metadata": {},
     "output_type": "execute_result"
    }
   ],
   "source": [
    "df.isna().sum()"
   ]
  },
  {
   "cell_type": "code",
   "execution_count": 122,
   "id": "1b2cb9b6",
   "metadata": {},
   "outputs": [],
   "source": [
    "df_clean = df.dropna(subset=[col for col in df.columns if col != 'Malware Indicators']).copy()"
   ]
  },
  {
   "cell_type": "code",
   "execution_count": 123,
   "id": "de1a645c",
   "metadata": {},
   "outputs": [
    {
     "data": {
      "text/plain": [
       "Timestamp                    0\n",
       "Source IP Address            0\n",
       "Destination IP Address       0\n",
       "Source Port                  0\n",
       "Destination Port             0\n",
       "Protocol                     0\n",
       "Packet Length                0\n",
       "Packet Type                  0\n",
       "Traffic Type                 0\n",
       "Payload Data                 0\n",
       "Malware Indicators        1214\n",
       "Anomaly Scores               0\n",
       "Alerts/Warnings              0\n",
       "Attack Type                  0\n",
       "Attack Signature             0\n",
       "Action Taken                 0\n",
       "Severity Level               0\n",
       "User Information             0\n",
       "Device Information           0\n",
       "Network Segment              0\n",
       "Geo-location Data            0\n",
       "Proxy Information            0\n",
       "Firewall Logs                0\n",
       "IDS/IPS Alerts               0\n",
       "Log Source                   0\n",
       "Malware Event                0\n",
       "dtype: int64"
      ]
     },
     "execution_count": 123,
     "metadata": {},
     "output_type": "execute_result"
    }
   ],
   "source": [
    "df_clean.isna().sum()"
   ]
  },
  {
   "cell_type": "markdown",
   "id": "cff95f5e",
   "metadata": {},
   "source": [
    "### Display the number of unique values for each column after removing missing data and before initial exploration."
   ]
  },
  {
   "cell_type": "code",
   "execution_count": 124,
   "id": "e66f53c5",
   "metadata": {},
   "outputs": [
    {
     "data": {
      "text/plain": [
       "Timestamp                 2451\n",
       "Source IP Address         2451\n",
       "Destination IP Address    2451\n",
       "Source Port               2402\n",
       "Destination Port          2393\n",
       "Protocol                     3\n",
       "Packet Length             1148\n",
       "Packet Type                  2\n",
       "Traffic Type                 3\n",
       "Payload Data              2451\n",
       "Malware Indicators           1\n",
       "Anomaly Scores            2159\n",
       "Alerts/Warnings              1\n",
       "Attack Type                  3\n",
       "Attack Signature             2\n",
       "Action Taken                 3\n",
       "Severity Level               3\n",
       "User Information          2418\n",
       "Device Information        2240\n",
       "Network Segment              3\n",
       "Geo-location Data         2157\n",
       "Proxy Information         2451\n",
       "Firewall Logs                1\n",
       "IDS/IPS Alerts               1\n",
       "Log Source                   2\n",
       "Malware Event                2\n",
       "dtype: int64"
      ]
     },
     "execution_count": 124,
     "metadata": {},
     "output_type": "execute_result"
    }
   ],
   "source": [
    "df_clean.nunique()"
   ]
  },
  {
   "cell_type": "markdown",
   "id": "a87dd02c",
   "metadata": {},
   "source": [
    "### Display the number of unique values for the categorical variables after removing missing data and before initial exploration."
   ]
  },
  {
   "cell_type": "code",
   "execution_count": 125,
   "id": "f1f0cf3e",
   "metadata": {},
   "outputs": [
    {
     "data": {
      "text/plain": [
       "Timestamp                 2451\n",
       "Source IP Address         2451\n",
       "Destination IP Address    2451\n",
       "Protocol                     3\n",
       "Packet Type                  2\n",
       "Traffic Type                 3\n",
       "Payload Data              2451\n",
       "Malware Indicators           1\n",
       "Alerts/Warnings              1\n",
       "Attack Type                  3\n",
       "Attack Signature             2\n",
       "Action Taken                 3\n",
       "Severity Level               3\n",
       "User Information          2418\n",
       "Device Information        2240\n",
       "Network Segment              3\n",
       "Geo-location Data         2157\n",
       "Proxy Information         2451\n",
       "Firewall Logs                1\n",
       "IDS/IPS Alerts               1\n",
       "Log Source                   2\n",
       "dtype: int64"
      ]
     },
     "execution_count": 125,
     "metadata": {},
     "output_type": "execute_result"
    }
   ],
   "source": [
    "df_clean.select_dtypes(exclude='number').nunique()"
   ]
  },
  {
   "cell_type": "markdown",
   "id": "f8fa0f40",
   "metadata": {},
   "source": [
    "### Display the number of unique values for the continuous variables after removing missing data and before initial exploration."
   ]
  },
  {
   "cell_type": "code",
   "execution_count": 126,
   "id": "3e14cb3f",
   "metadata": {},
   "outputs": [
    {
     "data": {
      "text/plain": [
       "Source Port         2402\n",
       "Destination Port    2393\n",
       "Packet Length       1148\n",
       "Anomaly Scores      2159\n",
       "Malware Event          2\n",
       "dtype: int64"
      ]
     },
     "execution_count": 126,
     "metadata": {},
     "output_type": "execute_result"
    }
   ],
   "source": [
    "df_clean.select_dtypes(include='number').nunique()"
   ]
  },
  {
   "cell_type": "markdown",
   "id": "e97f4c3b",
   "metadata": {},
   "source": [
    "### Drop specific features not to be used in the model."
   ]
  },
  {
   "cell_type": "code",
   "execution_count": 127,
   "id": "d4e515cd",
   "metadata": {},
   "outputs": [],
   "source": [
    "df_clean = df_clean.drop(columns=['Malware Indicators'])"
   ]
  },
  {
   "cell_type": "markdown",
   "id": "4ab474dc",
   "metadata": {},
   "source": [
    "## Feature Engineering"
   ]
  },
  {
   "cell_type": "markdown",
   "id": "6424d16c",
   "metadata": {},
   "source": [
    "### Select categories where there are 3 or less unique values and make them continuous."
   ]
  },
  {
   "cell_type": "code",
   "execution_count": 128,
   "id": "aea4288b",
   "metadata": {},
   "outputs": [],
   "source": [
    "cat_cols = [col for col in df_clean.columns if df_clean[col].nunique() <= 3 and col != 'Malware Event']"
   ]
  },
  {
   "cell_type": "code",
   "execution_count": 129,
   "id": "9bcaff25",
   "metadata": {},
   "outputs": [],
   "source": [
    "cat_features = df_clean[cat_cols]. \\\n",
    "                        apply(lambda x: x.astype('category'). \\\n",
    "                        cat.codes)"
   ]
  },
  {
   "cell_type": "code",
   "execution_count": 130,
   "id": "33c63c30",
   "metadata": {},
   "outputs": [],
   "source": [
    "numeric_features = df_clean.select_dtypes('number').copy()"
   ]
  },
  {
   "cell_type": "code",
   "execution_count": 131,
   "id": "cbe9c17a",
   "metadata": {},
   "outputs": [],
   "source": [
    "df_clean_features = pd.concat([numeric_features, \n",
    "                               cat_features], \n",
    "                               axis=1)"
   ]
  },
  {
   "cell_type": "markdown",
   "id": "1a846c27",
   "metadata": {},
   "source": [
    "### Drop target from the features."
   ]
  },
  {
   "cell_type": "code",
   "execution_count": 132,
   "id": "58f80b52",
   "metadata": {},
   "outputs": [],
   "source": [
    "df_clean_features = df_clean_features.drop(columns=['Malware Event'])"
   ]
  },
  {
   "cell_type": "markdown",
   "id": "dc3eb43a",
   "metadata": {},
   "source": [
    "## Data Standardization"
   ]
  },
  {
   "cell_type": "markdown",
   "id": "7cdec1c1",
   "metadata": {},
   "source": [
    "### Examine raw numeric features magnitude and scale."
   ]
  },
  {
   "cell_type": "markdown",
   "id": "04b49c75",
   "metadata": {},
   "source": [
    "The actual values in the boxplot represent the distributions of the penguin dataset’s numeric features: bill length (mm), bill depth (mm), flipper length (mm), and body mass (g). The plot shows that body mass is on a much larger scale than the other features, indicating that its values are much higher (in grams) compared to the millimeter measurements of the other features, which is important for understanding feature scaling and the need for standardization in data analysis."
   ]
  },
  {
   "cell_type": "code",
   "execution_count": 133,
   "id": "ea628af4",
   "metadata": {},
   "outputs": [
    {
     "data": {
      "text/html": [
       "<div>\n",
       "<style scoped>\n",
       "    .dataframe tbody tr th:only-of-type {\n",
       "        vertical-align: middle;\n",
       "    }\n",
       "\n",
       "    .dataframe tbody tr th {\n",
       "        vertical-align: top;\n",
       "    }\n",
       "\n",
       "    .dataframe thead th {\n",
       "        text-align: right;\n",
       "    }\n",
       "</style>\n",
       "<table border=\"1\" class=\"dataframe\">\n",
       "  <thead>\n",
       "    <tr style=\"text-align: right;\">\n",
       "      <th></th>\n",
       "      <th>Source Port</th>\n",
       "      <th>Destination Port</th>\n",
       "      <th>Packet Length</th>\n",
       "      <th>Anomaly Scores</th>\n",
       "      <th>Malware Event</th>\n",
       "    </tr>\n",
       "  </thead>\n",
       "  <tbody>\n",
       "    <tr>\n",
       "      <th>count</th>\n",
       "      <td>2451.000000</td>\n",
       "      <td>2451.000000</td>\n",
       "      <td>2451.000000</td>\n",
       "      <td>2451.000000</td>\n",
       "      <td>2451.000000</td>\n",
       "    </tr>\n",
       "    <tr>\n",
       "      <th>mean</th>\n",
       "      <td>33575.931457</td>\n",
       "      <td>33123.212974</td>\n",
       "      <td>783.713994</td>\n",
       "      <td>49.870718</td>\n",
       "      <td>0.504692</td>\n",
       "    </tr>\n",
       "    <tr>\n",
       "      <th>std</th>\n",
       "      <td>18736.604921</td>\n",
       "      <td>18500.018876</td>\n",
       "      <td>415.370562</td>\n",
       "      <td>28.901531</td>\n",
       "      <td>0.500080</td>\n",
       "    </tr>\n",
       "    <tr>\n",
       "      <th>min</th>\n",
       "      <td>1031.000000</td>\n",
       "      <td>1041.000000</td>\n",
       "      <td>64.000000</td>\n",
       "      <td>0.030000</td>\n",
       "      <td>0.000000</td>\n",
       "    </tr>\n",
       "    <tr>\n",
       "      <th>25%</th>\n",
       "      <td>17258.500000</td>\n",
       "      <td>17201.000000</td>\n",
       "      <td>422.500000</td>\n",
       "      <td>25.455000</td>\n",
       "      <td>0.000000</td>\n",
       "    </tr>\n",
       "    <tr>\n",
       "      <th>50%</th>\n",
       "      <td>33989.000000</td>\n",
       "      <td>33005.000000</td>\n",
       "      <td>789.000000</td>\n",
       "      <td>49.850000</td>\n",
       "      <td>1.000000</td>\n",
       "    </tr>\n",
       "    <tr>\n",
       "      <th>75%</th>\n",
       "      <td>50138.500000</td>\n",
       "      <td>49590.500000</td>\n",
       "      <td>1150.000000</td>\n",
       "      <td>74.800000</td>\n",
       "      <td>1.000000</td>\n",
       "    </tr>\n",
       "    <tr>\n",
       "      <th>max</th>\n",
       "      <td>65514.000000</td>\n",
       "      <td>65496.000000</td>\n",
       "      <td>1500.000000</td>\n",
       "      <td>99.980000</td>\n",
       "      <td>1.000000</td>\n",
       "    </tr>\n",
       "  </tbody>\n",
       "</table>\n",
       "</div>"
      ],
      "text/plain": [
       "        Source Port  Destination Port  Packet Length  Anomaly Scores  \\\n",
       "count   2451.000000       2451.000000    2451.000000     2451.000000   \n",
       "mean   33575.931457      33123.212974     783.713994       49.870718   \n",
       "std    18736.604921      18500.018876     415.370562       28.901531   \n",
       "min     1031.000000       1041.000000      64.000000        0.030000   \n",
       "25%    17258.500000      17201.000000     422.500000       25.455000   \n",
       "50%    33989.000000      33005.000000     789.000000       49.850000   \n",
       "75%    50138.500000      49590.500000    1150.000000       74.800000   \n",
       "max    65514.000000      65496.000000    1500.000000       99.980000   \n",
       "\n",
       "       Malware Event  \n",
       "count    2451.000000  \n",
       "mean        0.504692  \n",
       "std         0.500080  \n",
       "min         0.000000  \n",
       "25%         0.000000  \n",
       "50%         1.000000  \n",
       "75%         1.000000  \n",
       "max         1.000000  "
      ]
     },
     "execution_count": 133,
     "metadata": {},
     "output_type": "execute_result"
    }
   ],
   "source": [
    "df_clean.describe()"
   ]
  },
  {
   "cell_type": "code",
   "execution_count": 134,
   "id": "90b5696b",
   "metadata": {},
   "outputs": [
    {
     "data": {
      "image/png": "[encoded data removed]",
      "text/plain": [
       "<Figure size 1000x500 with 1 Axes>"
      ]
     },
     "metadata": {},
     "output_type": "display_data"
    }
   ],
   "source": [
    "sns.catplot(data=df_clean, \n",
    "            kind='box', \n",
    "            aspect=2)\n",
    "plt.show()"
   ]
  },
  {
   "cell_type": "markdown",
   "id": "26ff147d",
   "metadata": {},
   "source": [
    "### Standardize the numeric features."
   ]
  },
  {
   "cell_type": "code",
   "execution_count": 135,
   "id": "648f58cd",
   "metadata": {},
   "outputs": [],
   "source": [
    "X = StandardScaler().fit_transform(df_clean_features)"
   ]
  },
  {
   "cell_type": "markdown",
   "id": "52804504",
   "metadata": {},
   "source": [
    "### Examine standarized numeric features magnitude and scale."
   ]
  },
  {
   "cell_type": "markdown",
   "id": "4ad8c2ab",
   "metadata": {},
   "source": [
    "After standardization, all numeric features (bill length, bill depth, flipper length, and body mass) have similar distributions centered around zero with comparable spread, indicating that differences in scale have been removed and the features are now suitable for clustering and other analyses that assume equal variance."
   ]
  },
  {
   "cell_type": "code",
   "execution_count": 136,
   "id": "846a156e",
   "metadata": {},
   "outputs": [
    {
     "data": {
      "image/png": "[encoded data removed]",
      "text/plain": [
       "<Figure size 500x500 with 1 Axes>"
      ]
     },
     "metadata": {},
     "output_type": "display_data"
    }
   ],
   "source": [
    "sns.catplot(data=pd.DataFrame(X, \n",
    "                              columns=df_clean_features.columns), \n",
    "                              kind='box')\n",
    "plt.xticks(rotation=90)\n",
    "plt.tight_layout()\n",
    "plt.show()\n"
   ]
  },
  {
   "cell_type": "markdown",
   "id": "af68bc7c",
   "metadata": {},
   "source": [
    "## Fit Pre-Feature Selection Logistic Regression Model"
   ]
  },
  {
   "cell_type": "markdown",
   "id": "cde1a932",
   "metadata": {},
   "source": [
    "### Create the target variable."
   ]
  },
  {
   "cell_type": "code",
   "execution_count": 137,
   "id": "ff8b51b4",
   "metadata": {},
   "outputs": [],
   "source": [
    "y = df_clean['Malware Event']"
   ]
  },
  {
   "cell_type": "markdown",
   "id": "8edade39",
   "metadata": {},
   "source": [
    "### Train-test split the data."
   ]
  },
  {
   "cell_type": "code",
   "execution_count": 138,
   "id": "824422f3",
   "metadata": {},
   "outputs": [],
   "source": [
    "X_train, X_test, y_train, y_test = train_test_split(X, \n",
    "                                                    y, \n",
    "                                                    test_size=0.2, \n",
    "                                                    random_state=42)"
   ]
  },
  {
   "cell_type": "markdown",
   "id": "447efceb",
   "metadata": {},
   "source": [
    "### Fit the model."
   ]
  },
  {
   "cell_type": "code",
   "execution_count": 139,
   "id": "83b19f1d",
   "metadata": {},
   "outputs": [],
   "source": [
    "lr = LogisticRegression(max_iter=1000)"
   ]
  },
  {
   "cell_type": "code",
   "execution_count": 140,
   "id": "76986dd8",
   "metadata": {},
   "outputs": [
    {
     "data": {
      "text/html": [
       "<style>#sk-container-id-5 {\n",
       "  /* Definition of color scheme common for light and dark mode */\n",
       "  --sklearn-color-text: black;\n",
       "  --sklearn-color-line: gray;\n",
       "  /* Definition of color scheme for unfitted estimators */\n",
       "  --sklearn-color-unfitted-level-0: #fff5e6;\n",
       "  --sklearn-color-unfitted-level-1: #f6e4d2;\n",
       "  --sklearn-color-unfitted-level-2: #ffe0b3;\n",
       "  --sklearn-color-unfitted-level-3: chocolate;\n",
       "  /* Definition of color scheme for fitted estimators */\n",
       "  --sklearn-color-fitted-level-0: #f0f8ff;\n",
       "  --sklearn-color-fitted-level-1: #d4ebff;\n",
       "  --sklearn-color-fitted-level-2: #b3dbfd;\n",
       "  --sklearn-color-fitted-level-3: cornflowerblue;\n",
       "\n",
       "  /* Specific color for light theme */\n",
       "  --sklearn-color-text-on-default-background: var(--sg-text-color, var(--theme-code-foreground, var(--jp-content-font-color1, black)));\n",
       "  --sklearn-color-background: var(--sg-background-color, var(--theme-background, var(--jp-layout-color0, white)));\n",
       "  --sklearn-color-border-box: var(--sg-text-color, var(--theme-code-foreground, var(--jp-content-font-color1, black)));\n",
       "  --sklearn-color-icon: #696969;\n",
       "\n",
       "  @media (prefers-color-scheme: dark) {\n",
       "    /* Redefinition of color scheme for dark theme */\n",
       "    --sklearn-color-text-on-default-background: var(--sg-text-color, var(--theme-code-foreground, var(--jp-content-font-color1, white)));\n",
       "    --sklearn-color-background: var(--sg-background-color, var(--theme-background, var(--jp-layout-color0, #111)));\n",
       "    --sklearn-color-border-box: var(--sg-text-color, var(--theme-code-foreground, var(--jp-content-font-color1, white)));\n",
       "    --sklearn-color-icon: #878787;\n",
       "  }\n",
       "}\n",
       "\n",
       "#sk-container-id-5 {\n",
       "  color: var(--sklearn-color-text);\n",
       "}\n",
       "\n",
       "#sk-container-id-5 pre {\n",
       "  padding: 0;\n",
       "}\n",
       "\n",
       "#sk-container-id-5 input.sk-hidden--visually {\n",
       "  border: 0;\n",
       "  clip: rect(1px 1px 1px 1px);\n",
       "  clip: rect(1px, 1px, 1px, 1px);\n",
       "  height: 1px;\n",
       "  margin: -1px;\n",
       "  overflow: hidden;\n",
       "  padding: 0;\n",
       "  position: absolute;\n",
       "  width: 1px;\n",
       "}\n",
       "\n",
       "#sk-container-id-5 div.sk-dashed-wrapped {\n",
       "  border: 1px dashed var(--sklearn-color-line);\n",
       "  margin: 0 0.4em 0.5em 0.4em;\n",
       "  box-sizing: border-box;\n",
       "  padding-bottom: 0.4em;\n",
       "  background-color: var(--sklearn-color-background);\n",
       "}\n",
       "\n",
       "#sk-container-id-5 div.sk-container {\n",
       "  /* jupyter's `normalize.less` sets `[hidden] { display: none; }`\n",
       "     but bootstrap.min.css set `[hidden] { display: none !important; }`\n",
       "     so we also need the `!important` here to be able to override the\n",
       "     default hidden behavior on the sphinx rendered scikit-learn.org.\n",
       "     See: https://github.com/scikit-learn/scikit-learn/issues/21755 */\n",
       "  display: inline-block !important;\n",
       "  position: relative;\n",
       "}\n",
       "\n",
       "#sk-container-id-5 div.sk-text-repr-fallback {\n",
       "  display: none;\n",
       "}\n",
       "\n",
       "div.sk-parallel-item,\n",
       "div.sk-serial,\n",
       "div.sk-item {\n",
       "  /* draw centered vertical line to link estimators */\n",
       "  background-image: linear-gradient(var(--sklearn-color-text-on-default-background), var(--sklearn-color-text-on-default-background));\n",
       "  background-size: 2px 100%;\n",
       "  background-repeat: no-repeat;\n",
       "  background-position: center center;\n",
       "}\n",
       "\n",
       "/* Parallel-specific style estimator block */\n",
       "\n",
       "#sk-container-id-5 div.sk-parallel-item::after {\n",
       "  content: \"\";\n",
       "  width: 100%;\n",
       "  border-bottom: 2px solid var(--sklearn-color-text-on-default-background);\n",
       "  flex-grow: 1;\n",
       "}\n",
       "\n",
       "#sk-container-id-5 div.sk-parallel {\n",
       "  display: flex;\n",
       "  align-items: stretch;\n",
       "  justify-content: center;\n",
       "  background-color: var(--sklearn-color-background);\n",
       "  position: relative;\n",
       "}\n",
       "\n",
       "#sk-container-id-5 div.sk-parallel-item {\n",
       "  display: flex;\n",
       "  flex-direction: column;\n",
       "}\n",
       "\n",
       "#sk-container-id-5 div.sk-parallel-item:first-child::after {\n",
       "  align-self: flex-end;\n",
       "  width: 50%;\n",
       "}\n",
       "\n",
       "#sk-container-id-5 div.sk-parallel-item:last-child::after {\n",
       "  align-self: flex-start;\n",
       "  width: 50%;\n",
       "}\n",
       "\n",
       "#sk-container-id-5 div.sk-parallel-item:only-child::after {\n",
       "  width: 0;\n",
       "}\n",
       "\n",
       "/* Serial-specific style estimator block */\n",
       "\n",
       "#sk-container-id-5 div.sk-serial {\n",
       "  display: flex;\n",
       "  flex-direction: column;\n",
       "  align-items: center;\n",
       "  background-color: var(--sklearn-color-background);\n",
       "  padding-right: 1em;\n",
       "  padding-left: 1em;\n",
       "}\n",
       "\n",
       "\n",
       "/* Toggleable style: style used for estimator/Pipeline/ColumnTransformer box that is\n",
       "clickable and can be expanded/collapsed.\n",
       "- Pipeline and ColumnTransformer use this feature and define the default style\n",
       "- Estimators will overwrite some part of the style using the `sk-estimator` class\n",
       "*/\n",
       "\n",
       "/* Pipeline and ColumnTransformer style (default) */\n",
       "\n",
       "#sk-container-id-5 div.sk-toggleable {\n",
       "  /* Default theme specific background. It is overwritten whether we have a\n",
       "  specific estimator or a Pipeline/ColumnTransformer */\n",
       "  background-color: var(--sklearn-color-background);\n",
       "}\n",
       "\n",
       "/* Toggleable label */\n",
       "#sk-container-id-5 label.sk-toggleable__label {\n",
       "  cursor: pointer;\n",
       "  display: block;\n",
       "  width: 100%;\n",
       "  margin-bottom: 0;\n",
       "  padding: 0.5em;\n",
       "  box-sizing: border-box;\n",
       "  text-align: center;\n",
       "}\n",
       "\n",
       "#sk-container-id-5 label.sk-toggleable__label-arrow:before {\n",
       "  /* Arrow on the left of the label */\n",
       "  content: \"▸\";\n",
       "  float: left;\n",
       "  margin-right: 0.25em;\n",
       "  color: var(--sklearn-color-icon);\n",
       "}\n",
       "\n",
       "#sk-container-id-5 label.sk-toggleable__label-arrow:hover:before {\n",
       "  color: var(--sklearn-color-text);\n",
       "}\n",
       "\n",
       "/* Toggleable content - dropdown */\n",
       "\n",
       "#sk-container-id-5 div.sk-toggleable__content {\n",
       "  max-height: 0;\n",
       "  max-width: 0;\n",
       "  overflow: hidden;\n",
       "  text-align: left;\n",
       "  /* unfitted */\n",
       "  background-color: var(--sklearn-color-unfitted-level-0);\n",
       "}\n",
       "\n",
       "#sk-container-id-5 div.sk-toggleable__content.fitted {\n",
       "  /* fitted */\n",
       "  background-color: var(--sklearn-color-fitted-level-0);\n",
       "}\n",
       "\n",
       "#sk-container-id-5 div.sk-toggleable__content pre {\n",
       "  margin: 0.2em;\n",
       "  border-radius: 0.25em;\n",
       "  color: var(--sklearn-color-text);\n",
       "  /* unfitted */\n",
       "  background-color: var(--sklearn-color-unfitted-level-0);\n",
       "}\n",
       "\n",
       "#sk-container-id-5 div.sk-toggleable__content.fitted pre {\n",
       "  /* unfitted */\n",
       "  background-color: var(--sklearn-color-fitted-level-0);\n",
       "}\n",
       "\n",
       "#sk-container-id-5 input.sk-toggleable__control:checked~div.sk-toggleable__content {\n",
       "  /* Expand drop-down */\n",
       "  max-height: 200px;\n",
       "  max-width: 100%;\n",
       "  overflow: auto;\n",
       "}\n",
       "\n",
       "#sk-container-id-5 input.sk-toggleable__control:checked~label.sk-toggleable__label-arrow:before {\n",
       "  content: \"▾\";\n",
       "}\n",
       "\n",
       "/* Pipeline/ColumnTransformer-specific style */\n",
       "\n",
       "#sk-container-id-5 div.sk-label input.sk-toggleable__control:checked~label.sk-toggleable__label {\n",
       "  color: var(--sklearn-color-text);\n",
       "  background-color: var(--sklearn-color-unfitted-level-2);\n",
       "}\n",
       "\n",
       "#sk-container-id-5 div.sk-label.fitted input.sk-toggleable__control:checked~label.sk-toggleable__label {\n",
       "  background-color: var(--sklearn-color-fitted-level-2);\n",
       "}\n",
       "\n",
       "/* Estimator-specific style */\n",
       "\n",
       "/* Colorize estimator box */\n",
       "#sk-container-id-5 div.sk-estimator input.sk-toggleable__control:checked~label.sk-toggleable__label {\n",
       "  /* unfitted */\n",
       "  background-color: var(--sklearn-color-unfitted-level-2);\n",
       "}\n",
       "\n",
       "#sk-container-id-5 div.sk-estimator.fitted input.sk-toggleable__control:checked~label.sk-toggleable__label {\n",
       "  /* fitted */\n",
       "  background-color: var(--sklearn-color-fitted-level-2);\n",
       "}\n",
       "\n",
       "#sk-container-id-5 div.sk-label label.sk-toggleable__label,\n",
       "#sk-container-id-5 div.sk-label label {\n",
       "  /* The background is the default theme color */\n",
       "  color: var(--sklearn-color-text-on-default-background);\n",
       "}\n",
       "\n",
       "/* On hover, darken the color of the background */\n",
       "#sk-container-id-5 div.sk-label:hover label.sk-toggleable__label {\n",
       "  color: var(--sklearn-color-text);\n",
       "  background-color: var(--sklearn-color-unfitted-level-2);\n",
       "}\n",
       "\n",
       "/* Label box, darken color on hover, fitted */\n",
       "#sk-container-id-5 div.sk-label.fitted:hover label.sk-toggleable__label.fitted {\n",
       "  color: var(--sklearn-color-text);\n",
       "  background-color: var(--sklearn-color-fitted-level-2);\n",
       "}\n",
       "\n",
       "/* Estimator label */\n",
       "\n",
       "#sk-container-id-5 div.sk-label label {\n",
       "  font-family: monospace;\n",
       "  font-weight: bold;\n",
       "  display: inline-block;\n",
       "  line-height: 1.2em;\n",
       "}\n",
       "\n",
       "#sk-container-id-5 div.sk-label-container {\n",
       "  text-align: center;\n",
       "}\n",
       "\n",
       "/* Estimator-specific */\n",
       "#sk-container-id-5 div.sk-estimator {\n",
       "  font-family: monospace;\n",
       "  border: 1px dotted var(--sklearn-color-border-box);\n",
       "  border-radius: 0.25em;\n",
       "  box-sizing: border-box;\n",
       "  margin-bottom: 0.5em;\n",
       "  /* unfitted */\n",
       "  background-color: var(--sklearn-color-unfitted-level-0);\n",
       "}\n",
       "\n",
       "#sk-container-id-5 div.sk-estimator.fitted {\n",
       "  /* fitted */\n",
       "  background-color: var(--sklearn-color-fitted-level-0);\n",
       "}\n",
       "\n",
       "/* on hover */\n",
       "#sk-container-id-5 div.sk-estimator:hover {\n",
       "  /* unfitted */\n",
       "  background-color: var(--sklearn-color-unfitted-level-2);\n",
       "}\n",
       "\n",
       "#sk-container-id-5 div.sk-estimator.fitted:hover {\n",
       "  /* fitted */\n",
       "  background-color: var(--sklearn-color-fitted-level-2);\n",
       "}\n",
       "\n",
       "/* Specification for estimator info (e.g. \"i\" and \"?\") */\n",
       "\n",
       "/* Common style for \"i\" and \"?\" */\n",
       "\n",
       ".sk-estimator-doc-link,\n",
       "a:link.sk-estimator-doc-link,\n",
       "a:visited.sk-estimator-doc-link {\n",
       "  float: right;\n",
       "  font-size: smaller;\n",
       "  line-height: 1em;\n",
       "  font-family: monospace;\n",
       "  background-color: var(--sklearn-color-background);\n",
       "  border-radius: 1em;\n",
       "  height: 1em;\n",
       "  width: 1em;\n",
       "  text-decoration: none !important;\n",
       "  margin-left: 1ex;\n",
       "  /* unfitted */\n",
       "  border: var(--sklearn-color-unfitted-level-1) 1pt solid;\n",
       "  color: var(--sklearn-color-unfitted-level-1);\n",
       "}\n",
       "\n",
       ".sk-estimator-doc-link.fitted,\n",
       "a:link.sk-estimator-doc-link.fitted,\n",
       "a:visited.sk-estimator-doc-link.fitted {\n",
       "  /* fitted */\n",
       "  border: var(--sklearn-color-fitted-level-1) 1pt solid;\n",
       "  color: var(--sklearn-color-fitted-level-1);\n",
       "}\n",
       "\n",
       "/* On hover */\n",
       "div.sk-estimator:hover .sk-estimator-doc-link:hover,\n",
       ".sk-estimator-doc-link:hover,\n",
       "div.sk-label-container:hover .sk-estimator-doc-link:hover,\n",
       ".sk-estimator-doc-link:hover {\n",
       "  /* unfitted */\n",
       "  background-color: var(--sklearn-color-unfitted-level-3);\n",
       "  color: var(--sklearn-color-background);\n",
       "  text-decoration: none;\n",
       "}\n",
       "\n",
       "div.sk-estimator.fitted:hover .sk-estimator-doc-link.fitted:hover,\n",
       ".sk-estimator-doc-link.fitted:hover,\n",
       "div.sk-label-container:hover .sk-estimator-doc-link.fitted:hover,\n",
       ".sk-estimator-doc-link.fitted:hover {\n",
       "  /* fitted */\n",
       "  background-color: var(--sklearn-color-fitted-level-3);\n",
       "  color: var(--sklearn-color-background);\n",
       "  text-decoration: none;\n",
       "}\n",
       "\n",
       "/* Span, style for the box shown on hovering the info icon */\n",
       ".sk-estimator-doc-link span {\n",
       "  display: none;\n",
       "  z-index: 9999;\n",
       "  position: relative;\n",
       "  font-weight: normal;\n",
       "  right: .2ex;\n",
       "  padding: .5ex;\n",
       "  margin: .5ex;\n",
       "  width: min-content;\n",
       "  min-width: 20ex;\n",
       "  max-width: 50ex;\n",
       "  color: var(--sklearn-color-text);\n",
       "  box-shadow: 2pt 2pt 4pt #999;\n",
       "  /* unfitted */\n",
       "  background: var(--sklearn-color-unfitted-level-0);\n",
       "  border: .5pt solid var(--sklearn-color-unfitted-level-3);\n",
       "}\n",
       "\n",
       ".sk-estimator-doc-link.fitted span {\n",
       "  /* fitted */\n",
       "  background: var(--sklearn-color-fitted-level-0);\n",
       "  border: var(--sklearn-color-fitted-level-3);\n",
       "}\n",
       "\n",
       ".sk-estimator-doc-link:hover span {\n",
       "  display: block;\n",
       "}\n",
       "\n",
       "/* \"?\"-specific style due to the `<a>` HTML tag */\n",
       "\n",
       "#sk-container-id-5 a.estimator_doc_link {\n",
       "  float: right;\n",
       "  font-size: 1rem;\n",
       "  line-height: 1em;\n",
       "  font-family: monospace;\n",
       "  background-color: var(--sklearn-color-background);\n",
       "  border-radius: 1rem;\n",
       "  height: 1rem;\n",
       "  width: 1rem;\n",
       "  text-decoration: none;\n",
       "  /* unfitted */\n",
       "  color: var(--sklearn-color-unfitted-level-1);\n",
       "  border: var(--sklearn-color-unfitted-level-1) 1pt solid;\n",
       "}\n",
       "\n",
       "#sk-container-id-5 a.estimator_doc_link.fitted {\n",
       "  /* fitted */\n",
       "  border: var(--sklearn-color-fitted-level-1) 1pt solid;\n",
       "  color: var(--sklearn-color-fitted-level-1);\n",
       "}\n",
       "\n",
       "/* On hover */\n",
       "#sk-container-id-5 a.estimator_doc_link:hover {\n",
       "  /* unfitted */\n",
       "  background-color: var(--sklearn-color-unfitted-level-3);\n",
       "  color: var(--sklearn-color-background);\n",
       "  text-decoration: none;\n",
       "}\n",
       "\n",
       "#sk-container-id-5 a.estimator_doc_link.fitted:hover {\n",
       "  /* fitted */\n",
       "  background-color: var(--sklearn-color-fitted-level-3);\n",
       "}\n",
       "</style><div id=\"sk-container-id-5\" class=\"sk-top-container\"><div class=\"sk-text-repr-fallback\"><pre>LogisticRegression(max_iter=1000)</pre><b>In a Jupyter environment, please rerun this cell to show the HTML representation or trust the notebook. <br />On GitHub, the HTML representation is unable to render, please try loading this page with nbviewer.org.</b></div><div class=\"sk-container\" hidden><div class=\"sk-item\"><div class=\"sk-estimator fitted sk-toggleable\"><input class=\"sk-toggleable__control sk-hidden--visually\" id=\"sk-estimator-id-5\" type=\"checkbox\" checked><label for=\"sk-estimator-id-5\" class=\"sk-toggleable__label fitted sk-toggleable__label-arrow fitted\">&nbsp;&nbsp;LogisticRegression<a class=\"sk-estimator-doc-link fitted\" rel=\"noreferrer\" target=\"_blank\" href=\"https://scikit-learn.org/1.5/modules/generated/sklearn.linear_model.LogisticRegression.html\">?<span>Documentation for LogisticRegression</span></a><span class=\"sk-estimator-doc-link fitted\">i<span>Fitted</span></span></label><div class=\"sk-toggleable__content fitted\"><pre>LogisticRegression(max_iter=1000)</pre></div> </div></div></div></div>"
      ],
      "text/plain": [
       "LogisticRegression(max_iter=1000)"
      ]
     },
     "execution_count": 140,
     "metadata": {},
     "output_type": "execute_result"
    }
   ],
   "source": [
    "lr.fit(X_train, y_train)"
   ]
  },
  {
   "cell_type": "markdown",
   "id": "74e756fe",
   "metadata": {},
   "source": [
    "### Review accuracy on the test set."
   ]
  },
  {
   "cell_type": "code",
   "execution_count": 141,
   "id": "be5c4f9a",
   "metadata": {},
   "outputs": [],
   "source": [
    "test_accuracy = lr.score(X_test, y_test)"
   ]
  },
  {
   "cell_type": "code",
   "execution_count": 142,
   "id": "de5b86db",
   "metadata": {},
   "outputs": [
    {
     "name": "stdout",
     "output_type": "stream",
     "text": [
      "Test Accuracy: 0.503\n"
     ]
    }
   ],
   "source": [
    "print(f'Test Accuracy: {test_accuracy:.3f}')"
   ]
  },
  {
   "cell_type": "markdown",
   "id": "71031a15",
   "metadata": {},
   "source": [
    "### Review precision, recall and the F1 score."
   ]
  },
  {
   "cell_type": "code",
   "execution_count": 143,
   "id": "85301f9b",
   "metadata": {},
   "outputs": [],
   "source": [
    "y_pred = lr.predict(X_test)"
   ]
  },
  {
   "cell_type": "code",
   "execution_count": 144,
   "id": "5140e50c",
   "metadata": {},
   "outputs": [],
   "source": [
    "precision = precision_score(y_test, y_pred)"
   ]
  },
  {
   "cell_type": "code",
   "execution_count": 145,
   "id": "8af7f617",
   "metadata": {},
   "outputs": [],
   "source": [
    "recall = recall_score(y_test, y_pred)"
   ]
  },
  {
   "cell_type": "code",
   "execution_count": 146,
   "id": "9fa7eda1",
   "metadata": {},
   "outputs": [],
   "source": [
    "f1 = f1_score(y_test, y_pred)"
   ]
  },
  {
   "cell_type": "code",
   "execution_count": 147,
   "id": "af02d6db",
   "metadata": {},
   "outputs": [
    {
     "name": "stdout",
     "output_type": "stream",
     "text": [
      "Precision: 0.488\n"
     ]
    }
   ],
   "source": [
    "print(f'Precision: {precision:.3f}')"
   ]
  },
  {
   "cell_type": "code",
   "execution_count": 148,
   "id": "816e8b8c",
   "metadata": {},
   "outputs": [
    {
     "name": "stdout",
     "output_type": "stream",
     "text": [
      "Recall: 0.603\n"
     ]
    }
   ],
   "source": [
    "print(f'Recall: {recall:.3f}')"
   ]
  },
  {
   "cell_type": "code",
   "execution_count": 149,
   "id": "39553544",
   "metadata": {},
   "outputs": [
    {
     "name": "stdout",
     "output_type": "stream",
     "text": [
      "F1 Score: 0.540\n"
     ]
    }
   ],
   "source": [
    "print(f'F1 Score: {f1:.3f}')"
   ]
  },
  {
   "cell_type": "markdown",
   "id": "dffd6f30",
   "metadata": {},
   "source": [
    "### Review the target to ensure the data is balanced."
   ]
  },
  {
   "cell_type": "code",
   "execution_count": 150,
   "id": "9ea0ec7d",
   "metadata": {},
   "outputs": [
    {
     "data": {
      "image/png": "[encoded data removed]",
      "text/plain": [
       "<Figure size 640x480 with 1 Axes>"
      ]
     },
     "metadata": {},
     "output_type": "display_data"
    }
   ],
   "source": [
    "df_clean['Malware Event']. \\\n",
    "        value_counts(). \\\n",
    "        plot(kind='bar', \n",
    "             color=['red', 'green'])\n",
    "plt.title('Target Balance')\n",
    "plt.xlabel('Malware Event')\n",
    "plt.ylabel('Count')\n",
    "plt.show()"
   ]
  },
  {
   "cell_type": "markdown",
   "id": "239a3533",
   "metadata": {},
   "source": [
    "### Review the feature importance of each model input."
   ]
  },
  {
   "cell_type": "code",
   "execution_count": 151,
   "id": "50484443",
   "metadata": {},
   "outputs": [
    {
     "data": {
      "image/png": "[encoded data removed]",
      "text/plain": [
       "<Figure size 800x400 with 1 Axes>"
      ]
     },
     "metadata": {},
     "output_type": "display_data"
    }
   ],
   "source": [
    "importances = lr.coef_[0]\n",
    "feature_names = df_clean_features.columns\n",
    "plt.figure(figsize=(8,4))\n",
    "plt.barh(feature_names, importances)\n",
    "plt.xlabel('Logistic Regression Coefficient')\n",
    "plt.title('Feature Importance (Logistic Regression)')\n",
    "plt.show()"
   ]
  },
  {
   "cell_type": "markdown",
   "id": "96b8b4f9",
   "metadata": {},
   "source": [
    "## Feature Selection"
   ]
  },
  {
   "cell_type": "markdown",
   "id": "f23034e0",
   "metadata": {},
   "source": [
    "### Identify features we will use in our model."
   ]
  },
  {
   "cell_type": "code",
   "execution_count": 152,
   "id": "c4c1740d",
   "metadata": {},
   "outputs": [],
   "source": [
    "selected_features = [\n",
    "    'Traffic Type',\n",
    "    'Anomaly Scores',\n",
    "    'Action Taken',\n",
    "    'Destination Port',\n",
    "    'Network Segment',\n",
    "    'Attack Signature']"
   ]
  },
  {
   "cell_type": "markdown",
   "id": "93b369e4",
   "metadata": {},
   "source": [
    "### Get indices of selected features in `df_clean_features`."
   ]
  },
  {
   "cell_type": "markdown",
   "id": "beca5df4",
   "metadata": {},
   "source": [
    "### Create new model with selected features."
   ]
  },
  {
   "cell_type": "code",
   "execution_count": 153,
   "id": "5f8ce2d3",
   "metadata": {},
   "outputs": [],
   "source": [
    "selected_indices = [df_clean_features.columns.get_loc(col) for col in selected_features]"
   ]
  },
  {
   "cell_type": "markdown",
   "id": "83f8e55a",
   "metadata": {},
   "source": [
    "### Subset X to only selected features."
   ]
  },
  {
   "cell_type": "code",
   "execution_count": 154,
   "id": "86ae8427",
   "metadata": {},
   "outputs": [],
   "source": [
    "X_selected = X[:, selected_indices]"
   ]
  },
  {
   "cell_type": "markdown",
   "id": "df29e43e",
   "metadata": {},
   "source": [
    "## Fit Feature Selection Logistic Regression Model"
   ]
  },
  {
   "cell_type": "markdown",
   "id": "27389a00",
   "metadata": {},
   "source": [
    "### Train-test split the data with the selected features."
   ]
  },
  {
   "cell_type": "code",
   "execution_count": 155,
   "id": "8643e3be",
   "metadata": {},
   "outputs": [],
   "source": [
    "X_train_sel, X_test_sel, y_train_sel, y_test_sel = train_test_split(X_selected, \n",
    "                                                                    y, \n",
    "                                                                    test_size=0.2, \n",
    "                                                                    random_state=42)"
   ]
  },
  {
   "cell_type": "markdown",
   "id": "e5b3eea1",
   "metadata": {},
   "source": [
    "### Fit logistic regression model with the selected features.\n"
   ]
  },
  {
   "cell_type": "code",
   "execution_count": 156,
   "id": "24055cb2",
   "metadata": {},
   "outputs": [],
   "source": [
    "lr_selected = LogisticRegression(max_iter=1000)"
   ]
  },
  {
   "cell_type": "code",
   "execution_count": 157,
   "id": "f15b0a79",
   "metadata": {},
   "outputs": [
    {
     "data": {
      "text/html": [
       "<style>#sk-container-id-6 {\n",
       "  /* Definition of color scheme common for light and dark mode */\n",
       "  --sklearn-color-text: black;\n",
       "  --sklearn-color-line: gray;\n",
       "  /* Definition of color scheme for unfitted estimators */\n",
       "  --sklearn-color-unfitted-level-0: #fff5e6;\n",
       "  --sklearn-color-unfitted-level-1: #f6e4d2;\n",
       "  --sklearn-color-unfitted-level-2: #ffe0b3;\n",
       "  --sklearn-color-unfitted-level-3: chocolate;\n",
       "  /* Definition of color scheme for fitted estimators */\n",
       "  --sklearn-color-fitted-level-0: #f0f8ff;\n",
       "  --sklearn-color-fitted-level-1: #d4ebff;\n",
       "  --sklearn-color-fitted-level-2: #b3dbfd;\n",
       "  --sklearn-color-fitted-level-3: cornflowerblue;\n",
       "\n",
       "  /* Specific color for light theme */\n",
       "  --sklearn-color-text-on-default-background: var(--sg-text-color, var(--theme-code-foreground, var(--jp-content-font-color1, black)));\n",
       "  --sklearn-color-background: var(--sg-background-color, var(--theme-background, var(--jp-layout-color0, white)));\n",
       "  --sklearn-color-border-box: var(--sg-text-color, var(--theme-code-foreground, var(--jp-content-font-color1, black)));\n",
       "  --sklearn-color-icon: #696969;\n",
       "\n",
       "  @media (prefers-color-scheme: dark) {\n",
       "    /* Redefinition of color scheme for dark theme */\n",
       "    --sklearn-color-text-on-default-background: var(--sg-text-color, var(--theme-code-foreground, var(--jp-content-font-color1, white)));\n",
       "    --sklearn-color-background: var(--sg-background-color, var(--theme-background, var(--jp-layout-color0, #111)));\n",
       "    --sklearn-color-border-box: var(--sg-text-color, var(--theme-code-foreground, var(--jp-content-font-color1, white)));\n",
       "    --sklearn-color-icon: #878787;\n",
       "  }\n",
       "}\n",
       "\n",
       "#sk-container-id-6 {\n",
       "  color: var(--sklearn-color-text);\n",
       "}\n",
       "\n",
       "#sk-container-id-6 pre {\n",
       "  padding: 0;\n",
       "}\n",
       "\n",
       "#sk-container-id-6 input.sk-hidden--visually {\n",
       "  border: 0;\n",
       "  clip: rect(1px 1px 1px 1px);\n",
       "  clip: rect(1px, 1px, 1px, 1px);\n",
       "  height: 1px;\n",
       "  margin: -1px;\n",
       "  overflow: hidden;\n",
       "  padding: 0;\n",
       "  position: absolute;\n",
       "  width: 1px;\n",
       "}\n",
       "\n",
       "#sk-container-id-6 div.sk-dashed-wrapped {\n",
       "  border: 1px dashed var(--sklearn-color-line);\n",
       "  margin: 0 0.4em 0.5em 0.4em;\n",
       "  box-sizing: border-box;\n",
       "  padding-bottom: 0.4em;\n",
       "  background-color: var(--sklearn-color-background);\n",
       "}\n",
       "\n",
       "#sk-container-id-6 div.sk-container {\n",
       "  /* jupyter's `normalize.less` sets `[hidden] { display: none; }`\n",
       "     but bootstrap.min.css set `[hidden] { display: none !important; }`\n",
       "     so we also need the `!important` here to be able to override the\n",
       "     default hidden behavior on the sphinx rendered scikit-learn.org.\n",
       "     See: https://github.com/scikit-learn/scikit-learn/issues/21755 */\n",
       "  display: inline-block !important;\n",
       "  position: relative;\n",
       "}\n",
       "\n",
       "#sk-container-id-6 div.sk-text-repr-fallback {\n",
       "  display: none;\n",
       "}\n",
       "\n",
       "div.sk-parallel-item,\n",
       "div.sk-serial,\n",
       "div.sk-item {\n",
       "  /* draw centered vertical line to link estimators */\n",
       "  background-image: linear-gradient(var(--sklearn-color-text-on-default-background), var(--sklearn-color-text-on-default-background));\n",
       "  background-size: 2px 100%;\n",
       "  background-repeat: no-repeat;\n",
       "  background-position: center center;\n",
       "}\n",
       "\n",
       "/* Parallel-specific style estimator block */\n",
       "\n",
       "#sk-container-id-6 div.sk-parallel-item::after {\n",
       "  content: \"\";\n",
       "  width: 100%;\n",
       "  border-bottom: 2px solid var(--sklearn-color-text-on-default-background);\n",
       "  flex-grow: 1;\n",
       "}\n",
       "\n",
       "#sk-container-id-6 div.sk-parallel {\n",
       "  display: flex;\n",
       "  align-items: stretch;\n",
       "  justify-content: center;\n",
       "  background-color: var(--sklearn-color-background);\n",
       "  position: relative;\n",
       "}\n",
       "\n",
       "#sk-container-id-6 div.sk-parallel-item {\n",
       "  display: flex;\n",
       "  flex-direction: column;\n",
       "}\n",
       "\n",
       "#sk-container-id-6 div.sk-parallel-item:first-child::after {\n",
       "  align-self: flex-end;\n",
       "  width: 50%;\n",
       "}\n",
       "\n",
       "#sk-container-id-6 div.sk-parallel-item:last-child::after {\n",
       "  align-self: flex-start;\n",
       "  width: 50%;\n",
       "}\n",
       "\n",
       "#sk-container-id-6 div.sk-parallel-item:only-child::after {\n",
       "  width: 0;\n",
       "}\n",
       "\n",
       "/* Serial-specific style estimator block */\n",
       "\n",
       "#sk-container-id-6 div.sk-serial {\n",
       "  display: flex;\n",
       "  flex-direction: column;\n",
       "  align-items: center;\n",
       "  background-color: var(--sklearn-color-background);\n",
       "  padding-right: 1em;\n",
       "  padding-left: 1em;\n",
       "}\n",
       "\n",
       "\n",
       "/* Toggleable style: style used for estimator/Pipeline/ColumnTransformer box that is\n",
       "clickable and can be expanded/collapsed.\n",
       "- Pipeline and ColumnTransformer use this feature and define the default style\n",
       "- Estimators will overwrite some part of the style using the `sk-estimator` class\n",
       "*/\n",
       "\n",
       "/* Pipeline and ColumnTransformer style (default) */\n",
       "\n",
       "#sk-container-id-6 div.sk-toggleable {\n",
       "  /* Default theme specific background. It is overwritten whether we have a\n",
       "  specific estimator or a Pipeline/ColumnTransformer */\n",
       "  background-color: var(--sklearn-color-background);\n",
       "}\n",
       "\n",
       "/* Toggleable label */\n",
       "#sk-container-id-6 label.sk-toggleable__label {\n",
       "  cursor: pointer;\n",
       "  display: block;\n",
       "  width: 100%;\n",
       "  margin-bottom: 0;\n",
       "  padding: 0.5em;\n",
       "  box-sizing: border-box;\n",
       "  text-align: center;\n",
       "}\n",
       "\n",
       "#sk-container-id-6 label.sk-toggleable__label-arrow:before {\n",
       "  /* Arrow on the left of the label */\n",
       "  content: \"▸\";\n",
       "  float: left;\n",
       "  margin-right: 0.25em;\n",
       "  color: var(--sklearn-color-icon);\n",
       "}\n",
       "\n",
       "#sk-container-id-6 label.sk-toggleable__label-arrow:hover:before {\n",
       "  color: var(--sklearn-color-text);\n",
       "}\n",
       "\n",
       "/* Toggleable content - dropdown */\n",
       "\n",
       "#sk-container-id-6 div.sk-toggleable__content {\n",
       "  max-height: 0;\n",
       "  max-width: 0;\n",
       "  overflow: hidden;\n",
       "  text-align: left;\n",
       "  /* unfitted */\n",
       "  background-color: var(--sklearn-color-unfitted-level-0);\n",
       "}\n",
       "\n",
       "#sk-container-id-6 div.sk-toggleable__content.fitted {\n",
       "  /* fitted */\n",
       "  background-color: var(--sklearn-color-fitted-level-0);\n",
       "}\n",
       "\n",
       "#sk-container-id-6 div.sk-toggleable__content pre {\n",
       "  margin: 0.2em;\n",
       "  border-radius: 0.25em;\n",
       "  color: var(--sklearn-color-text);\n",
       "  /* unfitted */\n",
       "  background-color: var(--sklearn-color-unfitted-level-0);\n",
       "}\n",
       "\n",
       "#sk-container-id-6 div.sk-toggleable__content.fitted pre {\n",
       "  /* unfitted */\n",
       "  background-color: var(--sklearn-color-fitted-level-0);\n",
       "}\n",
       "\n",
       "#sk-container-id-6 input.sk-toggleable__control:checked~div.sk-toggleable__content {\n",
       "  /* Expand drop-down */\n",
       "  max-height: 200px;\n",
       "  max-width: 100%;\n",
       "  overflow: auto;\n",
       "}\n",
       "\n",
       "#sk-container-id-6 input.sk-toggleable__control:checked~label.sk-toggleable__label-arrow:before {\n",
       "  content: \"▾\";\n",
       "}\n",
       "\n",
       "/* Pipeline/ColumnTransformer-specific style */\n",
       "\n",
       "#sk-container-id-6 div.sk-label input.sk-toggleable__control:checked~label.sk-toggleable__label {\n",
       "  color: var(--sklearn-color-text);\n",
       "  background-color: var(--sklearn-color-unfitted-level-2);\n",
       "}\n",
       "\n",
       "#sk-container-id-6 div.sk-label.fitted input.sk-toggleable__control:checked~label.sk-toggleable__label {\n",
       "  background-color: var(--sklearn-color-fitted-level-2);\n",
       "}\n",
       "\n",
       "/* Estimator-specific style */\n",
       "\n",
       "/* Colorize estimator box */\n",
       "#sk-container-id-6 div.sk-estimator input.sk-toggleable__control:checked~label.sk-toggleable__label {\n",
       "  /* unfitted */\n",
       "  background-color: var(--sklearn-color-unfitted-level-2);\n",
       "}\n",
       "\n",
       "#sk-container-id-6 div.sk-estimator.fitted input.sk-toggleable__control:checked~label.sk-toggleable__label {\n",
       "  /* fitted */\n",
       "  background-color: var(--sklearn-color-fitted-level-2);\n",
       "}\n",
       "\n",
       "#sk-container-id-6 div.sk-label label.sk-toggleable__label,\n",
       "#sk-container-id-6 div.sk-label label {\n",
       "  /* The background is the default theme color */\n",
       "  color: var(--sklearn-color-text-on-default-background);\n",
       "}\n",
       "\n",
       "/* On hover, darken the color of the background */\n",
       "#sk-container-id-6 div.sk-label:hover label.sk-toggleable__label {\n",
       "  color: var(--sklearn-color-text);\n",
       "  background-color: var(--sklearn-color-unfitted-level-2);\n",
       "}\n",
       "\n",
       "/* Label box, darken color on hover, fitted */\n",
       "#sk-container-id-6 div.sk-label.fitted:hover label.sk-toggleable__label.fitted {\n",
       "  color: var(--sklearn-color-text);\n",
       "  background-color: var(--sklearn-color-fitted-level-2);\n",
       "}\n",
       "\n",
       "/* Estimator label */\n",
       "\n",
       "#sk-container-id-6 div.sk-label label {\n",
       "  font-family: monospace;\n",
       "  font-weight: bold;\n",
       "  display: inline-block;\n",
       "  line-height: 1.2em;\n",
       "}\n",
       "\n",
       "#sk-container-id-6 div.sk-label-container {\n",
       "  text-align: center;\n",
       "}\n",
       "\n",
       "/* Estimator-specific */\n",
       "#sk-container-id-6 div.sk-estimator {\n",
       "  font-family: monospace;\n",
       "  border: 1px dotted var(--sklearn-color-border-box);\n",
       "  border-radius: 0.25em;\n",
       "  box-sizing: border-box;\n",
       "  margin-bottom: 0.5em;\n",
       "  /* unfitted */\n",
       "  background-color: var(--sklearn-color-unfitted-level-0);\n",
       "}\n",
       "\n",
       "#sk-container-id-6 div.sk-estimator.fitted {\n",
       "  /* fitted */\n",
       "  background-color: var(--sklearn-color-fitted-level-0);\n",
       "}\n",
       "\n",
       "/* on hover */\n",
       "#sk-container-id-6 div.sk-estimator:hover {\n",
       "  /* unfitted */\n",
       "  background-color: var(--sklearn-color-unfitted-level-2);\n",
       "}\n",
       "\n",
       "#sk-container-id-6 div.sk-estimator.fitted:hover {\n",
       "  /* fitted */\n",
       "  background-color: var(--sklearn-color-fitted-level-2);\n",
       "}\n",
       "\n",
       "/* Specification for estimator info (e.g. \"i\" and \"?\") */\n",
       "\n",
       "/* Common style for \"i\" and \"?\" */\n",
       "\n",
       ".sk-estimator-doc-link,\n",
       "a:link.sk-estimator-doc-link,\n",
       "a:visited.sk-estimator-doc-link {\n",
       "  float: right;\n",
       "  font-size: smaller;\n",
       "  line-height: 1em;\n",
       "  font-family: monospace;\n",
       "  background-color: var(--sklearn-color-background);\n",
       "  border-radius: 1em;\n",
       "  height: 1em;\n",
       "  width: 1em;\n",
       "  text-decoration: none !important;\n",
       "  margin-left: 1ex;\n",
       "  /* unfitted */\n",
       "  border: var(--sklearn-color-unfitted-level-1) 1pt solid;\n",
       "  color: var(--sklearn-color-unfitted-level-1);\n",
       "}\n",
       "\n",
       ".sk-estimator-doc-link.fitted,\n",
       "a:link.sk-estimator-doc-link.fitted,\n",
       "a:visited.sk-estimator-doc-link.fitted {\n",
       "  /* fitted */\n",
       "  border: var(--sklearn-color-fitted-level-1) 1pt solid;\n",
       "  color: var(--sklearn-color-fitted-level-1);\n",
       "}\n",
       "\n",
       "/* On hover */\n",
       "div.sk-estimator:hover .sk-estimator-doc-link:hover,\n",
       ".sk-estimator-doc-link:hover,\n",
       "div.sk-label-container:hover .sk-estimator-doc-link:hover,\n",
       ".sk-estimator-doc-link:hover {\n",
       "  /* unfitted */\n",
       "  background-color: var(--sklearn-color-unfitted-level-3);\n",
       "  color: var(--sklearn-color-background);\n",
       "  text-decoration: none;\n",
       "}\n",
       "\n",
       "div.sk-estimator.fitted:hover .sk-estimator-doc-link.fitted:hover,\n",
       ".sk-estimator-doc-link.fitted:hover,\n",
       "div.sk-label-container:hover .sk-estimator-doc-link.fitted:hover,\n",
       ".sk-estimator-doc-link.fitted:hover {\n",
       "  /* fitted */\n",
       "  background-color: var(--sklearn-color-fitted-level-3);\n",
       "  color: var(--sklearn-color-background);\n",
       "  text-decoration: none;\n",
       "}\n",
       "\n",
       "/* Span, style for the box shown on hovering the info icon */\n",
       ".sk-estimator-doc-link span {\n",
       "  display: none;\n",
       "  z-index: 9999;\n",
       "  position: relative;\n",
       "  font-weight: normal;\n",
       "  right: .2ex;\n",
       "  padding: .5ex;\n",
       "  margin: .5ex;\n",
       "  width: min-content;\n",
       "  min-width: 20ex;\n",
       "  max-width: 50ex;\n",
       "  color: var(--sklearn-color-text);\n",
       "  box-shadow: 2pt 2pt 4pt #999;\n",
       "  /* unfitted */\n",
       "  background: var(--sklearn-color-unfitted-level-0);\n",
       "  border: .5pt solid var(--sklearn-color-unfitted-level-3);\n",
       "}\n",
       "\n",
       ".sk-estimator-doc-link.fitted span {\n",
       "  /* fitted */\n",
       "  background: var(--sklearn-color-fitted-level-0);\n",
       "  border: var(--sklearn-color-fitted-level-3);\n",
       "}\n",
       "\n",
       ".sk-estimator-doc-link:hover span {\n",
       "  display: block;\n",
       "}\n",
       "\n",
       "/* \"?\"-specific style due to the `<a>` HTML tag */\n",
       "\n",
       "#sk-container-id-6 a.estimator_doc_link {\n",
       "  float: right;\n",
       "  font-size: 1rem;\n",
       "  line-height: 1em;\n",
       "  font-family: monospace;\n",
       "  background-color: var(--sklearn-color-background);\n",
       "  border-radius: 1rem;\n",
       "  height: 1rem;\n",
       "  width: 1rem;\n",
       "  text-decoration: none;\n",
       "  /* unfitted */\n",
       "  color: var(--sklearn-color-unfitted-level-1);\n",
       "  border: var(--sklearn-color-unfitted-level-1) 1pt solid;\n",
       "}\n",
       "\n",
       "#sk-container-id-6 a.estimator_doc_link.fitted {\n",
       "  /* fitted */\n",
       "  border: var(--sklearn-color-fitted-level-1) 1pt solid;\n",
       "  color: var(--sklearn-color-fitted-level-1);\n",
       "}\n",
       "\n",
       "/* On hover */\n",
       "#sk-container-id-6 a.estimator_doc_link:hover {\n",
       "  /* unfitted */\n",
       "  background-color: var(--sklearn-color-unfitted-level-3);\n",
       "  color: var(--sklearn-color-background);\n",
       "  text-decoration: none;\n",
       "}\n",
       "\n",
       "#sk-container-id-6 a.estimator_doc_link.fitted:hover {\n",
       "  /* fitted */\n",
       "  background-color: var(--sklearn-color-fitted-level-3);\n",
       "}\n",
       "</style><div id=\"sk-container-id-6\" class=\"sk-top-container\"><div class=\"sk-text-repr-fallback\"><pre>LogisticRegression(max_iter=1000)</pre><b>In a Jupyter environment, please rerun this cell to show the HTML representation or trust the notebook. <br />On GitHub, the HTML representation is unable to render, please try loading this page with nbviewer.org.</b></div><div class=\"sk-container\" hidden><div class=\"sk-item\"><div class=\"sk-estimator fitted sk-toggleable\"><input class=\"sk-toggleable__control sk-hidden--visually\" id=\"sk-estimator-id-6\" type=\"checkbox\" checked><label for=\"sk-estimator-id-6\" class=\"sk-toggleable__label fitted sk-toggleable__label-arrow fitted\">&nbsp;&nbsp;LogisticRegression<a class=\"sk-estimator-doc-link fitted\" rel=\"noreferrer\" target=\"_blank\" href=\"https://scikit-learn.org/1.5/modules/generated/sklearn.linear_model.LogisticRegression.html\">?<span>Documentation for LogisticRegression</span></a><span class=\"sk-estimator-doc-link fitted\">i<span>Fitted</span></span></label><div class=\"sk-toggleable__content fitted\"><pre>LogisticRegression(max_iter=1000)</pre></div> </div></div></div></div>"
      ],
      "text/plain": [
       "LogisticRegression(max_iter=1000)"
      ]
     },
     "execution_count": 157,
     "metadata": {},
     "output_type": "execute_result"
    }
   ],
   "source": [
    "lr_selected.fit(X_train_sel, y_train_sel)"
   ]
  },
  {
   "cell_type": "markdown",
   "id": "5577a6e3",
   "metadata": {},
   "source": [
    "### Review accuracy on the test set with the selected features."
   ]
  },
  {
   "cell_type": "code",
   "execution_count": 158,
   "id": "e669fa16",
   "metadata": {},
   "outputs": [],
   "source": [
    "test_accuracy_sel = lr_selected.score(X_test_sel, y_test_sel)"
   ]
  },
  {
   "cell_type": "code",
   "execution_count": 159,
   "id": "932fb701",
   "metadata": {},
   "outputs": [
    {
     "name": "stdout",
     "output_type": "stream",
     "text": [
      "Test Accuracy (Selected Features): 0.505\n"
     ]
    }
   ],
   "source": [
    "print(f'Test Accuracy (Selected Features): {test_accuracy_sel:.3f}')"
   ]
  },
  {
   "cell_type": "markdown",
   "id": "9d0d2317",
   "metadata": {},
   "source": [
    "### Review precision, recall and the F1 score with the selected features."
   ]
  },
  {
   "cell_type": "code",
   "execution_count": 160,
   "id": "a286b090",
   "metadata": {},
   "outputs": [],
   "source": [
    "y_pred_sel = lr_selected.predict(X_test_sel)"
   ]
  },
  {
   "cell_type": "code",
   "execution_count": 161,
   "id": "aae3445d",
   "metadata": {},
   "outputs": [],
   "source": [
    "precision_sel = precision_score(y_test_sel, y_pred_sel)"
   ]
  },
  {
   "cell_type": "code",
   "execution_count": 162,
   "id": "071707b6",
   "metadata": {},
   "outputs": [],
   "source": [
    "recall_sel = recall_score(y_test_sel, y_pred_sel)"
   ]
  },
  {
   "cell_type": "code",
   "execution_count": 163,
   "id": "5d76e39c",
   "metadata": {},
   "outputs": [],
   "source": [
    "f1_sel = f1_score(y_test_sel, y_pred_sel)"
   ]
  },
  {
   "cell_type": "code",
   "execution_count": 164,
   "id": "5c6d0620",
   "metadata": {},
   "outputs": [
    {
     "name": "stdout",
     "output_type": "stream",
     "text": [
      "Precision (Selected Features): 0.489\n"
     ]
    }
   ],
   "source": [
    "print(f'Precision (Selected Features): {precision_sel:.3f}')"
   ]
  },
  {
   "cell_type": "code",
   "execution_count": 165,
   "id": "f78f6c3c",
   "metadata": {},
   "outputs": [
    {
     "name": "stdout",
     "output_type": "stream",
     "text": [
      "Recall (Selected Features): 0.586\n"
     ]
    }
   ],
   "source": [
    "print(f'Recall (Selected Features): {recall_sel:.3f}')"
   ]
  },
  {
   "cell_type": "code",
   "execution_count": 166,
   "id": "82cf8094",
   "metadata": {},
   "outputs": [
    {
     "name": "stdout",
     "output_type": "stream",
     "text": [
      "F1 Score (Selected Features): 0.534\n"
     ]
    }
   ],
   "source": [
    "print(f'F1 Score (Selected Features): {f1_sel:.3f}')"
   ]
  },
  {
   "cell_type": "markdown",
   "id": "e0c23cd5",
   "metadata": {},
   "source": [
    "### Review the distribution of the residuals."
   ]
  },
  {
   "cell_type": "markdown",
   "id": "eab551dd",
   "metadata": {},
   "source": [
    "- Most residuals are close to ±0.5, meaning the model is making confident predictions (probabilities close to 0 or 1).\n",
    "  \n",
    "- Few residuals are near 0, which would indicate uncertain predictions (probabilities near 0.5).\n",
    "This pattern confirms that the model is well-calibrated and confident in its predictions for most samples."
   ]
  },
  {
   "cell_type": "code",
   "execution_count": 167,
   "id": "a851d598",
   "metadata": {},
   "outputs": [
    {
     "data": {
      "image/png": "[encoded data removed]",
      "text/plain": [
       "<Figure size 1000x400 with 1 Axes>"
      ]
     },
     "metadata": {},
     "output_type": "display_data"
    }
   ],
   "source": [
    "y_prob_sel = lr_selected.predict_proba(X_test_sel)[:, 1]\n",
    "residuals_sel = y_test_sel - y_prob_sel\n",
    "plt.figure(figsize=(10,4))\n",
    "sns.histplot(residuals_sel, bins=30, kde=True, color='blue')\n",
    "plt.axvline(0.5, color='red', linestyle='--', label='Residual = +0.5')\n",
    "plt.axvline(-0.5, color='green', linestyle='--', label='Residual = -0.5')\n",
    "plt.title('Distribution of Residuals (y_test_sel - Predicted Probability)')\n",
    "plt.xlabel('Residual')\n",
    "plt.ylabel('Frequency')\n",
    "plt.legend()\n",
    "plt.show()"
   ]
  },
  {
   "cell_type": "markdown",
   "id": "651a7858",
   "metadata": {},
   "source": [
    "### Review the ROC and ROC AUC curve."
   ]
  },
  {
   "cell_type": "markdown",
   "id": "78c77ea1",
   "metadata": {},
   "source": [
    "- This curve indicates this model does not perform much better than a random guess."
   ]
  },
  {
   "cell_type": "code",
   "execution_count": null,
   "id": "0b3a8e8a",
   "metadata": {},
   "outputs": [
    {
     "data": {
      "image/png": "[encoded data removed]",
      "text/plain": [
       "<Figure size 800x600 with 1 Axes>"
      ]
     },
     "metadata": {},
     "output_type": "display_data"
    }
   ],
   "source": [
    "fpr, tpr, thresholds = roc_curve(y_test_sel, y_prob_sel)\n",
    "roc_auc = roc_auc_score(y_test_sel, y_prob_sel)\n",
    "plt.figure(figsize=(8,6))\n",
    "plt.plot(fpr, \n",
    "         tpr, \n",
    "         color='blue', \n",
    "         lw=2, \n",
    "         label=f'ROC curve (AUC = {roc_auc:.3f})')\n",
    "plt.plot([0, 1], \n",
    "         [0, 1], \n",
    "         color='gray', \n",
    "         lw=2, \n",
    "         linestyle='--', \n",
    "         label='Random Guess')\n",
    "plt.xlabel('False Positive Rate')\n",
    "plt.ylabel('True Positive Rate')\n",
    "plt.title('Receiver Operating Characteristic (ROC) Curve')\n",
    "plt.legend(loc='lower right')\n",
    "plt.show()"
   ]
  }
 ],
 "metadata": {
  "kernelspec": {
   "display_name": "prod",
   "language": "python",
   "name": "python3"
  },
  "language_info": {
   "codemirror_mode": {
    "name": "ipython",
    "version": 3
   },
   "file_extension": ".py",
   "mimetype": "text/x-python",
   "name": "python",
   "nbconvert_exporter": "python",
   "pygments_lexer": "ipython3",
   "version": "3.12.7"
  }
 },
 "nbformat": 4,
 "nbformat_minor": 5
}

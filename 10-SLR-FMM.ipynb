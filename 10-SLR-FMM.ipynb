{
 "cells": [
  {
   "cell_type": "markdown",
   "id": "844435e8",
   "metadata": {},
   "source": [
    "# Penguins Dataset Simple Linear Regression - Fitting Multiple Models"
   ]
  },
  {
   "cell_type": "markdown",
   "id": "c6dc97bb",
   "metadata": {},
   "source": [
    "### [Penguins Dataset](https://seaborn.pydata.org/tutorial/introduction.html)\n",
    "\n",
    "Author: [Kevin Thomas](mailto:ket189@pitt.edu)"
   ]
  },
  {
   "cell_type": "markdown",
   "id": "0600d4b0",
   "metadata": {},
   "source": [
    "## Citation"
   ]
  },
  {
   "cell_type": "markdown",
   "id": "ec57b3f7",
   "metadata": {},
   "source": [
    "[1] Allison Horst, https://github.com/allisonhorst/palmerpenguins"
   ]
  },
  {
   "cell_type": "markdown",
   "id": "2281e96c",
   "metadata": {},
   "source": [
    "## Import Modules"
   ]
  },
  {
   "cell_type": "code",
   "execution_count": 1,
   "id": "4d6f2076",
   "metadata": {},
   "outputs": [],
   "source": [
    "import numpy as np\n",
    "import pandas as pd\n",
    "import matplotlib.pyplot as plt\n",
    "import seaborn as sns\n",
    "import statsmodels.formula.api as smf"
   ]
  },
  {
   "cell_type": "markdown",
   "id": "4c514e3a",
   "metadata": {},
   "source": [
    "## Load Dataset"
   ]
  },
  {
   "cell_type": "code",
   "execution_count": 2,
   "id": "66ef5697",
   "metadata": {},
   "outputs": [],
   "source": [
    "df = sns.load_dataset('penguins')"
   ]
  },
  {
   "cell_type": "markdown",
   "id": "5163b8a3",
   "metadata": {},
   "source": [
    "## Perform Essential Exploration & Data Cleaning"
   ]
  },
  {
   "cell_type": "markdown",
   "id": "a1590e07",
   "metadata": {},
   "source": [
    "#### Display the initial number of rows and columns."
   ]
  },
  {
   "cell_type": "code",
   "execution_count": 3,
   "id": "b8f077b4",
   "metadata": {},
   "outputs": [
    {
     "data": {
      "text/plain": [
       "(344, 7)"
      ]
     },
     "execution_count": 3,
     "metadata": {},
     "output_type": "execute_result"
    }
   ],
   "source": [
    "df.shape"
   ]
  },
  {
   "cell_type": "markdown",
   "id": "685417c9",
   "metadata": {},
   "source": [
    "#### Display the initial variable names and their associated data types."
   ]
  },
  {
   "cell_type": "code",
   "execution_count": 4,
   "id": "13c65303",
   "metadata": {},
   "outputs": [
    {
     "data": {
      "text/plain": [
       "species               object\n",
       "island                object\n",
       "bill_length_mm       float64\n",
       "bill_depth_mm        float64\n",
       "flipper_length_mm    float64\n",
       "body_mass_g          float64\n",
       "sex                   object\n",
       "dtype: object"
      ]
     },
     "execution_count": 4,
     "metadata": {},
     "output_type": "execute_result"
    }
   ],
   "source": [
    "df.dtypes"
   ]
  },
  {
   "cell_type": "markdown",
   "id": "02b99681",
   "metadata": {},
   "source": [
    "#### Display the number of missing values for each column, remove the missing values and create a clean copy of the dataset."
   ]
  },
  {
   "cell_type": "code",
   "execution_count": 5,
   "id": "84e422e2",
   "metadata": {},
   "outputs": [
    {
     "data": {
      "text/plain": [
       "species               0\n",
       "island                0\n",
       "bill_length_mm        2\n",
       "bill_depth_mm         2\n",
       "flipper_length_mm     2\n",
       "body_mass_g           2\n",
       "sex                  11\n",
       "dtype: int64"
      ]
     },
     "execution_count": 5,
     "metadata": {},
     "output_type": "execute_result"
    }
   ],
   "source": [
    "df.isna().sum()"
   ]
  },
  {
   "cell_type": "code",
   "execution_count": 6,
   "id": "1b2cb9b6",
   "metadata": {},
   "outputs": [],
   "source": [
    "df_clean = df.dropna().copy()"
   ]
  },
  {
   "cell_type": "code",
   "execution_count": 7,
   "id": "de1a645c",
   "metadata": {},
   "outputs": [
    {
     "data": {
      "text/plain": [
       "species              0\n",
       "island               0\n",
       "bill_length_mm       0\n",
       "bill_depth_mm        0\n",
       "flipper_length_mm    0\n",
       "body_mass_g          0\n",
       "sex                  0\n",
       "dtype: int64"
      ]
     },
     "execution_count": 7,
     "metadata": {},
     "output_type": "execute_result"
    }
   ],
   "source": [
    "df_clean.isna().sum()"
   ]
  },
  {
   "cell_type": "markdown",
   "id": "cff95f5e",
   "metadata": {},
   "source": [
    "#### Display the number of unique values for each column after removing missing data and before initial exploration."
   ]
  },
  {
   "cell_type": "code",
   "execution_count": 8,
   "id": "e66f53c5",
   "metadata": {},
   "outputs": [
    {
     "data": {
      "text/plain": [
       "species                3\n",
       "island                 3\n",
       "bill_length_mm       163\n",
       "bill_depth_mm         79\n",
       "flipper_length_mm     54\n",
       "body_mass_g           93\n",
       "sex                    2\n",
       "dtype: int64"
      ]
     },
     "execution_count": 8,
     "metadata": {},
     "output_type": "execute_result"
    }
   ],
   "source": [
    "df_clean.nunique()"
   ]
  },
  {
   "cell_type": "markdown",
   "id": "a87dd02c",
   "metadata": {},
   "source": [
    "#### Display the number of unique values for the categorical variables after removing missing data and before initial exploration."
   ]
  },
  {
   "cell_type": "code",
   "execution_count": 9,
   "id": "f1f0cf3e",
   "metadata": {},
   "outputs": [
    {
     "data": {
      "text/plain": [
       "species    3\n",
       "island     3\n",
       "sex        2\n",
       "dtype: int64"
      ]
     },
     "execution_count": 9,
     "metadata": {},
     "output_type": "execute_result"
    }
   ],
   "source": [
    "df_clean.select_dtypes(exclude='number').nunique()"
   ]
  },
  {
   "cell_type": "markdown",
   "id": "f8fa0f40",
   "metadata": {},
   "source": [
    "#### Display the number of unique values for the continuous variables after removing missing data and before initial exploration."
   ]
  },
  {
   "cell_type": "code",
   "execution_count": 10,
   "id": "3e14cb3f",
   "metadata": {},
   "outputs": [
    {
     "data": {
      "text/plain": [
       "bill_length_mm       163\n",
       "bill_depth_mm         79\n",
       "flipper_length_mm     54\n",
       "body_mass_g           93\n",
       "dtype: int64"
      ]
     },
     "execution_count": 10,
     "metadata": {},
     "output_type": "execute_result"
    }
   ],
   "source": [
    "df_clean.select_dtypes(include='number').nunique()"
   ]
  },
  {
   "cell_type": "markdown",
   "id": "64bbe653",
   "metadata": {},
   "source": [
    "## Fitting Multiple Models"
   ]
  },
  {
   "cell_type": "markdown",
   "id": "1b14d222",
   "metadata": {},
   "source": [
    "#### Create plotting function to be used for multiple models."
   ]
  },
  {
   "cell_type": "code",
   "execution_count": null,
   "id": "089f4ecc",
   "metadata": {},
   "outputs": [],
   "source": [
    "def my_coefplot(\n",
    "    model,\n",
    "    var,\n",
    "    xerr_mult=2,\n",
    "    color='k',\n",
    "    ecolor='k',\n",
    "    elinewidth=2,\n",
    "    ms=10,\n",
    "    vline=0,\n",
    "    xlabel='coefficient value',\n",
    "    title=None,\n",
    "    figsize=(7, 2.5),\n",
    "    xlim=None):\n",
    "    \"\"\"\n",
    "    Plots a single coefficient with error bars from a statsmodels model.\n",
    "\n",
    "    Params:\n",
    "        model: fitted statsmodels model\n",
    "        var: variable name (str), e.g. 'Intercept' or 'I(flipper_length_mm ** 2)'\n",
    "        xerr_mult: multiplier for error bars (default 2)\n",
    "        color: marker color\n",
    "        ecolor: error bar color\n",
    "        elinewidth: error bar line width\n",
    "        ms: marker size\n",
    "        vline: where to draw the vertical reference line (default 0)\n",
    "        xlabel: x-axis label (default 'coefficient value')\n",
    "        title: figure title (default None, uses variable name)\n",
    "        figsize: tuple, figure size\n",
    "        xlim: tuple, x-axis limits (optional, auto if None)\n",
    "    \"\"\"\n",
    "    # Get coefficient and error values\n",
    "    coef = model.params[var]\n",
    "    err = xerr_mult * model.bse[var]\n",
    "\n",
    "    # Create the plot\n",
    "    _, ax = plt.subplots(figsize=figsize)\n",
    "    ax.errorbar(\n",
    "        y = [var],\n",
    "        x = [coef],\n",
    "        xerr = [err],\n",
    "        fmt='o',\n",
    "        color=color,\n",
    "        ecolor=ecolor,\n",
    "        elinewidth=elinewidth,\n",
    "        ms=ms\n",
    "    )\n",
    "\n",
    "    # Add vertical line for reference\n",
    "    ax.axvline(x=vline, \n",
    "               linestyle='--', \n",
    "               linewidth=4, \n",
    "               color='grey')\n",
    "    ax.set_xlabel(xlabel)\n",
    "    if title is None:\n",
    "        title = f\"Coefficient Plot for '{var}'\"\n",
    "    ax.set_title(title)\n",
    "\n",
    "    # Always include zero in xlim, and add padding around error bar\n",
    "    bar_left = min(coef - err, vline)\n",
    "    bar_right = max(coef + err, vline)\n",
    "    pad = (bar_right - bar_left) * 0.15 if (bar_right - bar_left) > 0 else 1\n",
    "    auto_xlim = (bar_left - pad, bar_right + pad)\n",
    "\n",
    "    # Set x-axis limits\n",
    "    if xlim is not None:\n",
    "        ax.set_xlim(*xlim)\n",
    "    else:\n",
    "        ax.set_xlim(*auto_xlim)\n",
    "\n",
    "    # Show the plot\n",
    "    plt.show()"
   ]
  },
  {
   "cell_type": "markdown",
   "id": "a7dcfb9c",
   "metadata": {},
   "source": [
    "#### The simplest possible linear model is an unknown constant average or intercept only model where we are saying `body_mass_g` is a constant."
   ]
  },
  {
   "cell_type": "code",
   "execution_count": null,
   "id": "18548ba7",
   "metadata": {},
   "outputs": [],
   "source": [
    "lm_fit_00 = smf.ols(formula='body_mass_g ~ 1', \n",
    "                    data=df_clean). \\\n",
    "                    fit()"
   ]
  },
  {
   "cell_type": "code",
   "execution_count": null,
   "id": "d64dbe93",
   "metadata": {},
   "outputs": [
    {
     "data": {
      "text/html": [
       "<table class=\"simpletable\">\n",
       "<caption>OLS Regression Results</caption>\n",
       "<tr>\n",
       "  <th>Dep. Variable:</th>       <td>body_mass_g</td>   <th>  R-squared:         </th> <td>   0.000</td>\n",
       "</tr>\n",
       "<tr>\n",
       "  <th>Model:</th>                   <td>OLS</td>       <th>  Adj. R-squared:    </th> <td>   0.000</td>\n",
       "</tr>\n",
       "<tr>\n",
       "  <th>Method:</th>             <td>Least Squares</td>  <th>  F-statistic:       </th> <td>     nan</td>\n",
       "</tr>\n",
       "<tr>\n",
       "  <th>Date:</th>             <td>Wed, 27 Aug 2025</td> <th>  Prob (F-statistic):</th>  <td>   nan</td> \n",
       "</tr>\n",
       "<tr>\n",
       "  <th>Time:</th>                 <td>09:11:44</td>     <th>  Log-Likelihood:    </th> <td> -2700.1</td>\n",
       "</tr>\n",
       "<tr>\n",
       "  <th>No. Observations:</th>      <td>   333</td>      <th>  AIC:               </th> <td>   5402.</td>\n",
       "</tr>\n",
       "<tr>\n",
       "  <th>Df Residuals:</th>          <td>   332</td>      <th>  BIC:               </th> <td>   5406.</td>\n",
       "</tr>\n",
       "<tr>\n",
       "  <th>Df Model:</th>              <td>     0</td>      <th>                     </th>     <td> </td>   \n",
       "</tr>\n",
       "<tr>\n",
       "  <th>Covariance Type:</th>      <td>nonrobust</td>    <th>                     </th>     <td> </td>   \n",
       "</tr>\n",
       "</table>\n",
       "<table class=\"simpletable\">\n",
       "<tr>\n",
       "      <td></td>         <th>coef</th>     <th>std err</th>      <th>t</th>      <th>P>|t|</th>  <th>[0.025</th>    <th>0.975]</th>  \n",
       "</tr>\n",
       "<tr>\n",
       "  <th>Intercept</th> <td> 4207.0571</td> <td>   44.126</td> <td>   95.343</td> <td> 0.000</td> <td> 4120.256</td> <td> 4293.858</td>\n",
       "</tr>\n",
       "</table>\n",
       "<table class=\"simpletable\">\n",
       "<tr>\n",
       "  <th>Omnibus:</th>       <td>30.464</td> <th>  Durbin-Watson:     </th> <td>   0.972</td>\n",
       "</tr>\n",
       "<tr>\n",
       "  <th>Prob(Omnibus):</th> <td> 0.000</td> <th>  Jarque-Bera (JB):  </th> <td>  19.874</td>\n",
       "</tr>\n",
       "<tr>\n",
       "  <th>Skew:</th>          <td> 0.470</td> <th>  Prob(JB):          </th> <td>4.84e-05</td>\n",
       "</tr>\n",
       "<tr>\n",
       "  <th>Kurtosis:</th>      <td> 2.260</td> <th>  Cond. No.          </th> <td>    1.00</td>\n",
       "</tr>\n",
       "</table><br/><br/>Notes:<br/>[1] Standard Errors assume that the covariance matrix of the errors is correctly specified."
      ],
      "text/latex": [
       "\\begin{center}\n",
       "\\begin{tabular}{lclc}\n",
       "\\toprule\n",
       "\\textbf{Dep. Variable:}    &  body\\_mass\\_g   & \\textbf{  R-squared:         } &     0.000   \\\\\n",
       "\\textbf{Model:}            &       OLS        & \\textbf{  Adj. R-squared:    } &     0.000   \\\\\n",
       "\\textbf{Method:}           &  Least Squares   & \\textbf{  F-statistic:       } &       nan   \\\\\n",
       "\\textbf{Date:}             & Wed, 27 Aug 2025 & \\textbf{  Prob (F-statistic):} &      nan    \\\\\n",
       "\\textbf{Time:}             &     09:11:44     & \\textbf{  Log-Likelihood:    } &   -2700.1   \\\\\n",
       "\\textbf{No. Observations:} &         333      & \\textbf{  AIC:               } &     5402.   \\\\\n",
       "\\textbf{Df Residuals:}     &         332      & \\textbf{  BIC:               } &     5406.   \\\\\n",
       "\\textbf{Df Model:}         &           0      & \\textbf{                     } &             \\\\\n",
       "\\textbf{Covariance Type:}  &    nonrobust     & \\textbf{                     } &             \\\\\n",
       "\\bottomrule\n",
       "\\end{tabular}\n",
       "\\begin{tabular}{lcccccc}\n",
       "                   & \\textbf{coef} & \\textbf{std err} & \\textbf{t} & \\textbf{P$> |$t$|$} & \\textbf{[0.025} & \\textbf{0.975]}  \\\\\n",
       "\\midrule\n",
       "\\textbf{Intercept} &    4207.0571  &       44.126     &    95.343  &         0.000        &     4120.256    &     4293.858     \\\\\n",
       "\\bottomrule\n",
       "\\end{tabular}\n",
       "\\begin{tabular}{lclc}\n",
       "\\textbf{Omnibus:}       & 30.464 & \\textbf{  Durbin-Watson:     } &    0.972  \\\\\n",
       "\\textbf{Prob(Omnibus):} &  0.000 & \\textbf{  Jarque-Bera (JB):  } &   19.874  \\\\\n",
       "\\textbf{Skew:}          &  0.470 & \\textbf{  Prob(JB):          } & 4.84e-05  \\\\\n",
       "\\textbf{Kurtosis:}      &  2.260 & \\textbf{  Cond. No.          } &     1.00  \\\\\n",
       "\\bottomrule\n",
       "\\end{tabular}\n",
       "%\\caption{OLS Regression Results}\n",
       "\\end{center}\n",
       "\n",
       "Notes: \\newline\n",
       " [1] Standard Errors assume that the covariance matrix of the errors is correctly specified."
      ],
      "text/plain": [
       "<class 'statsmodels.iolib.summary.Summary'>\n",
       "\"\"\"\n",
       "                            OLS Regression Results                            \n",
       "==============================================================================\n",
       "Dep. Variable:            body_mass_g   R-squared:                       0.000\n",
       "Model:                            OLS   Adj. R-squared:                  0.000\n",
       "Method:                 Least Squares   F-statistic:                       nan\n",
       "Date:                Wed, 27 Aug 2025   Prob (F-statistic):                nan\n",
       "Time:                        09:11:44   Log-Likelihood:                -2700.1\n",
       "No. Observations:                 333   AIC:                             5402.\n",
       "Df Residuals:                     332   BIC:                             5406.\n",
       "Df Model:                           0                                         \n",
       "Covariance Type:            nonrobust                                         \n",
       "==============================================================================\n",
       "                 coef    std err          t      P>|t|      [0.025      0.975]\n",
       "------------------------------------------------------------------------------\n",
       "Intercept   4207.0571     44.126     95.343      0.000    4120.256    4293.858\n",
       "==============================================================================\n",
       "Omnibus:                       30.464   Durbin-Watson:                   0.972\n",
       "Prob(Omnibus):                  0.000   Jarque-Bera (JB):               19.874\n",
       "Skew:                           0.470   Prob(JB):                     4.84e-05\n",
       "Kurtosis:                       2.260   Cond. No.                         1.00\n",
       "==============================================================================\n",
       "\n",
       "Notes:\n",
       "[1] Standard Errors assume that the covariance matrix of the errors is correctly specified.\n",
       "\"\"\""
      ]
     },
     "execution_count": 18,
     "metadata": {},
     "output_type": "execute_result"
    }
   ],
   "source": [
    "lm_fit_00.summary()"
   ]
  },
  {
   "cell_type": "code",
   "execution_count": null,
   "id": "2c9f4e8a",
   "metadata": {},
   "outputs": [
    {
     "data": {
      "text/plain": [
       "Intercept    4207.057057\n",
       "dtype: float64"
      ]
     },
     "execution_count": 19,
     "metadata": {},
     "output_type": "execute_result"
    }
   ],
   "source": [
    "lm_fit_00.params"
   ]
  },
  {
   "cell_type": "code",
   "execution_count": null,
   "id": "15a5eae4",
   "metadata": {},
   "outputs": [
    {
     "data": {
      "text/plain": [
       "Intercept    44.125554\n",
       "dtype: float64"
      ]
     },
     "execution_count": 20,
     "metadata": {},
     "output_type": "execute_result"
    }
   ],
   "source": [
    "lm_fit_00.bse"
   ]
  },
  {
   "cell_type": "code",
   "execution_count": null,
   "id": "0592f109",
   "metadata": {},
   "outputs": [
    {
     "data": {
      "text/html": [
       "<div>\n",
       "<style scoped>\n",
       "    .dataframe tbody tr th:only-of-type {\n",
       "        vertical-align: middle;\n",
       "    }\n",
       "\n",
       "    .dataframe tbody tr th {\n",
       "        vertical-align: top;\n",
       "    }\n",
       "\n",
       "    .dataframe thead th {\n",
       "        text-align: right;\n",
       "    }\n",
       "</style>\n",
       "<table border=\"1\" class=\"dataframe\">\n",
       "  <thead>\n",
       "    <tr style=\"text-align: right;\">\n",
       "      <th></th>\n",
       "      <th>ci_lwr</th>\n",
       "      <th>ci_upr</th>\n",
       "    </tr>\n",
       "  </thead>\n",
       "  <tbody>\n",
       "    <tr>\n",
       "      <th>Intercept</th>\n",
       "      <td>4120.256133</td>\n",
       "      <td>4293.857981</td>\n",
       "    </tr>\n",
       "  </tbody>\n",
       "</table>\n",
       "</div>"
      ],
      "text/plain": [
       "                ci_lwr       ci_upr\n",
       "Intercept  4120.256133  4293.857981"
      ]
     },
     "execution_count": 21,
     "metadata": {},
     "output_type": "execute_result"
    }
   ],
   "source": [
    "lm_fit_00.conf_int(). \\\n",
    "          rename(columns={0: 'ci_lwr',\n",
    "                          1: 'ci_upr'})"
   ]
  },
  {
   "cell_type": "code",
   "execution_count": null,
   "id": "7fd18408",
   "metadata": {},
   "outputs": [
    {
     "data": {
      "text/plain": [
       "Intercept    2.805040e-243\n",
       "dtype: float64"
      ]
     },
     "execution_count": 22,
     "metadata": {},
     "output_type": "execute_result"
    }
   ],
   "source": [
    "lm_fit_00.pvalues"
   ]
  },
  {
   "cell_type": "code",
   "execution_count": null,
   "id": "dee983dd",
   "metadata": {},
   "outputs": [
    {
     "data": {
      "text/plain": [
       "Intercept    True\n",
       "dtype: bool"
      ]
     },
     "execution_count": 23,
     "metadata": {},
     "output_type": "execute_result"
    }
   ],
   "source": [
    "lm_fit_00.pvalues < 0.05"
   ]
  },
  {
   "cell_type": "code",
   "execution_count": null,
   "id": "e0f9976a",
   "metadata": {},
   "outputs": [
    {
     "data": {
      "image/png": "[encoded data removed]",
      "text/plain": [
       "<Figure size 700x250 with 1 Axes>"
      ]
     },
     "metadata": {},
     "output_type": "display_data"
    }
   ],
   "source": [
    "my_coefplot(lm_fit_00, var='Intercept')"
   ]
  },
  {
   "cell_type": "code",
   "execution_count": null,
   "id": "dbeb51c8",
   "metadata": {},
   "outputs": [
    {
     "data": {
      "text/plain": [
       "4.440892098500626e-16"
      ]
     },
     "execution_count": 25,
     "metadata": {},
     "output_type": "execute_result"
    }
   ],
   "source": [
    "lm_fit_00.rsquared"
   ]
  },
  {
   "cell_type": "code",
   "execution_count": null,
   "id": "7a13e258",
   "metadata": {},
   "outputs": [
    {
     "data": {
      "text/plain": [
       "804.005860159563"
      ]
     },
     "execution_count": 26,
     "metadata": {},
     "output_type": "execute_result"
    }
   ],
   "source": [
    "np.sqrt((lm_fit_00.resid ** 2).mean())"
   ]
  },
  {
   "cell_type": "markdown",
   "id": "6cd1dbff",
   "metadata": {},
   "source": [
    "#### Our next step is to model the linear relationship or classic best fit line."
   ]
  },
  {
   "cell_type": "code",
   "execution_count": null,
   "id": "3dd802b6",
   "metadata": {},
   "outputs": [],
   "source": [
    "lm_fit_01 = smf.ols(formula='body_mass_g ~ flipper_length_mm', \n",
    "                    data=df_clean). \\\n",
    "                    fit()"
   ]
  },
  {
   "cell_type": "code",
   "execution_count": null,
   "id": "ce9aaf43",
   "metadata": {},
   "outputs": [
    {
     "data": {
      "text/html": [
       "<table class=\"simpletable\">\n",
       "<caption>OLS Regression Results</caption>\n",
       "<tr>\n",
       "  <th>Dep. Variable:</th>       <td>body_mass_g</td>   <th>  R-squared:         </th> <td>   0.762</td> \n",
       "</tr>\n",
       "<tr>\n",
       "  <th>Model:</th>                   <td>OLS</td>       <th>  Adj. R-squared:    </th> <td>   0.761</td> \n",
       "</tr>\n",
       "<tr>\n",
       "  <th>Method:</th>             <td>Least Squares</td>  <th>  F-statistic:       </th> <td>   1060.</td> \n",
       "</tr>\n",
       "<tr>\n",
       "  <th>Date:</th>             <td>Wed, 27 Aug 2025</td> <th>  Prob (F-statistic):</th> <td>3.13e-105</td>\n",
       "</tr>\n",
       "<tr>\n",
       "  <th>Time:</th>                 <td>09:11:44</td>     <th>  Log-Likelihood:    </th> <td> -2461.1</td> \n",
       "</tr>\n",
       "<tr>\n",
       "  <th>No. Observations:</th>      <td>   333</td>      <th>  AIC:               </th> <td>   4926.</td> \n",
       "</tr>\n",
       "<tr>\n",
       "  <th>Df Residuals:</th>          <td>   331</td>      <th>  BIC:               </th> <td>   4934.</td> \n",
       "</tr>\n",
       "<tr>\n",
       "  <th>Df Model:</th>              <td>     1</td>      <th>                     </th>     <td> </td>    \n",
       "</tr>\n",
       "<tr>\n",
       "  <th>Covariance Type:</th>      <td>nonrobust</td>    <th>                     </th>     <td> </td>    \n",
       "</tr>\n",
       "</table>\n",
       "<table class=\"simpletable\">\n",
       "<tr>\n",
       "          <td></td>             <th>coef</th>     <th>std err</th>      <th>t</th>      <th>P>|t|</th>  <th>[0.025</th>    <th>0.975]</th>  \n",
       "</tr>\n",
       "<tr>\n",
       "  <th>Intercept</th>         <td>-5872.0927</td> <td>  310.285</td> <td>  -18.925</td> <td> 0.000</td> <td>-6482.472</td> <td>-5261.713</td>\n",
       "</tr>\n",
       "<tr>\n",
       "  <th>flipper_length_mm</th> <td>   50.1533</td> <td>    1.540</td> <td>   32.562</td> <td> 0.000</td> <td>   47.123</td> <td>   53.183</td>\n",
       "</tr>\n",
       "</table>\n",
       "<table class=\"simpletable\">\n",
       "<tr>\n",
       "  <th>Omnibus:</th>       <td> 5.922</td> <th>  Durbin-Watson:     </th> <td>   2.102</td>\n",
       "</tr>\n",
       "<tr>\n",
       "  <th>Prob(Omnibus):</th> <td> 0.052</td> <th>  Jarque-Bera (JB):  </th> <td>   5.876</td>\n",
       "</tr>\n",
       "<tr>\n",
       "  <th>Skew:</th>          <td> 0.325</td> <th>  Prob(JB):          </th> <td>  0.0530</td>\n",
       "</tr>\n",
       "<tr>\n",
       "  <th>Kurtosis:</th>      <td> 3.025</td> <th>  Cond. No.          </th> <td>2.90e+03</td>\n",
       "</tr>\n",
       "</table><br/><br/>Notes:<br/>[1] Standard Errors assume that the covariance matrix of the errors is correctly specified.<br/>[2] The condition number is large, 2.9e+03. This might indicate that there are<br/>strong multicollinearity or other numerical problems."
      ],
      "text/latex": [
       "\\begin{center}\n",
       "\\begin{tabular}{lclc}\n",
       "\\toprule\n",
       "\\textbf{Dep. Variable:}      &  body\\_mass\\_g   & \\textbf{  R-squared:         } &     0.762   \\\\\n",
       "\\textbf{Model:}              &       OLS        & \\textbf{  Adj. R-squared:    } &     0.761   \\\\\n",
       "\\textbf{Method:}             &  Least Squares   & \\textbf{  F-statistic:       } &     1060.   \\\\\n",
       "\\textbf{Date:}               & Wed, 27 Aug 2025 & \\textbf{  Prob (F-statistic):} & 3.13e-105   \\\\\n",
       "\\textbf{Time:}               &     09:11:44     & \\textbf{  Log-Likelihood:    } &   -2461.1   \\\\\n",
       "\\textbf{No. Observations:}   &         333      & \\textbf{  AIC:               } &     4926.   \\\\\n",
       "\\textbf{Df Residuals:}       &         331      & \\textbf{  BIC:               } &     4934.   \\\\\n",
       "\\textbf{Df Model:}           &           1      & \\textbf{                     } &             \\\\\n",
       "\\textbf{Covariance Type:}    &    nonrobust     & \\textbf{                     } &             \\\\\n",
       "\\bottomrule\n",
       "\\end{tabular}\n",
       "\\begin{tabular}{lcccccc}\n",
       "                             & \\textbf{coef} & \\textbf{std err} & \\textbf{t} & \\textbf{P$> |$t$|$} & \\textbf{[0.025} & \\textbf{0.975]}  \\\\\n",
       "\\midrule\n",
       "\\textbf{Intercept}           &   -5872.0927  &      310.285     &   -18.925  &         0.000        &    -6482.472    &    -5261.713     \\\\\n",
       "\\textbf{flipper\\_length\\_mm} &      50.1533  &        1.540     &    32.562  &         0.000        &       47.123    &       53.183     \\\\\n",
       "\\bottomrule\n",
       "\\end{tabular}\n",
       "\\begin{tabular}{lclc}\n",
       "\\textbf{Omnibus:}       &  5.922 & \\textbf{  Durbin-Watson:     } &    2.102  \\\\\n",
       "\\textbf{Prob(Omnibus):} &  0.052 & \\textbf{  Jarque-Bera (JB):  } &    5.876  \\\\\n",
       "\\textbf{Skew:}          &  0.325 & \\textbf{  Prob(JB):          } &   0.0530  \\\\\n",
       "\\textbf{Kurtosis:}      &  3.025 & \\textbf{  Cond. No.          } & 2.90e+03  \\\\\n",
       "\\bottomrule\n",
       "\\end{tabular}\n",
       "%\\caption{OLS Regression Results}\n",
       "\\end{center}\n",
       "\n",
       "Notes: \\newline\n",
       " [1] Standard Errors assume that the covariance matrix of the errors is correctly specified. \\newline\n",
       " [2] The condition number is large, 2.9e+03. This might indicate that there are \\newline\n",
       " strong multicollinearity or other numerical problems."
      ],
      "text/plain": [
       "<class 'statsmodels.iolib.summary.Summary'>\n",
       "\"\"\"\n",
       "                            OLS Regression Results                            \n",
       "==============================================================================\n",
       "Dep. Variable:            body_mass_g   R-squared:                       0.762\n",
       "Model:                            OLS   Adj. R-squared:                  0.761\n",
       "Method:                 Least Squares   F-statistic:                     1060.\n",
       "Date:                Wed, 27 Aug 2025   Prob (F-statistic):          3.13e-105\n",
       "Time:                        09:11:44   Log-Likelihood:                -2461.1\n",
       "No. Observations:                 333   AIC:                             4926.\n",
       "Df Residuals:                     331   BIC:                             4934.\n",
       "Df Model:                           1                                         \n",
       "Covariance Type:            nonrobust                                         \n",
       "=====================================================================================\n",
       "                        coef    std err          t      P>|t|      [0.025      0.975]\n",
       "-------------------------------------------------------------------------------------\n",
       "Intercept         -5872.0927    310.285    -18.925      0.000   -6482.472   -5261.713\n",
       "flipper_length_mm    50.1533      1.540     32.562      0.000      47.123      53.183\n",
       "==============================================================================\n",
       "Omnibus:                        5.922   Durbin-Watson:                   2.102\n",
       "Prob(Omnibus):                  0.052   Jarque-Bera (JB):                5.876\n",
       "Skew:                           0.325   Prob(JB):                       0.0530\n",
       "Kurtosis:                       3.025   Cond. No.                     2.90e+03\n",
       "==============================================================================\n",
       "\n",
       "Notes:\n",
       "[1] Standard Errors assume that the covariance matrix of the errors is correctly specified.\n",
       "[2] The condition number is large, 2.9e+03. This might indicate that there are\n",
       "strong multicollinearity or other numerical problems.\n",
       "\"\"\""
      ]
     },
     "execution_count": 28,
     "metadata": {},
     "output_type": "execute_result"
    }
   ],
   "source": [
    "lm_fit_01.summary()"
   ]
  },
  {
   "cell_type": "code",
   "execution_count": null,
   "id": "8fe4eaf2",
   "metadata": {},
   "outputs": [
    {
     "data": {
      "text/plain": [
       "Intercept           -5872.092683\n",
       "flipper_length_mm      50.153266\n",
       "dtype: float64"
      ]
     },
     "execution_count": 29,
     "metadata": {},
     "output_type": "execute_result"
    }
   ],
   "source": [
    "lm_fit_01.params"
   ]
  },
  {
   "cell_type": "code",
   "execution_count": null,
   "id": "af22f4b1",
   "metadata": {},
   "outputs": [
    {
     "data": {
      "text/plain": [
       "Intercept            310.285155\n",
       "flipper_length_mm      1.540231\n",
       "dtype: float64"
      ]
     },
     "execution_count": 30,
     "metadata": {},
     "output_type": "execute_result"
    }
   ],
   "source": [
    "lm_fit_01.bse"
   ]
  },
  {
   "cell_type": "code",
   "execution_count": null,
   "id": "68441065",
   "metadata": {},
   "outputs": [
    {
     "data": {
      "text/html": [
       "<div>\n",
       "<style scoped>\n",
       "    .dataframe tbody tr th:only-of-type {\n",
       "        vertical-align: middle;\n",
       "    }\n",
       "\n",
       "    .dataframe tbody tr th {\n",
       "        vertical-align: top;\n",
       "    }\n",
       "\n",
       "    .dataframe thead th {\n",
       "        text-align: right;\n",
       "    }\n",
       "</style>\n",
       "<table border=\"1\" class=\"dataframe\">\n",
       "  <thead>\n",
       "    <tr style=\"text-align: right;\">\n",
       "      <th></th>\n",
       "      <th>ci_lwr</th>\n",
       "      <th>ci_upr</th>\n",
       "    </tr>\n",
       "  </thead>\n",
       "  <tbody>\n",
       "    <tr>\n",
       "      <th>Intercept</th>\n",
       "      <td>-6482.472236</td>\n",
       "      <td>-5261.713130</td>\n",
       "    </tr>\n",
       "    <tr>\n",
       "      <th>flipper_length_mm</th>\n",
       "      <td>47.123390</td>\n",
       "      <td>53.183142</td>\n",
       "    </tr>\n",
       "  </tbody>\n",
       "</table>\n",
       "</div>"
      ],
      "text/plain": [
       "                        ci_lwr       ci_upr\n",
       "Intercept         -6482.472236 -5261.713130\n",
       "flipper_length_mm    47.123390    53.183142"
      ]
     },
     "execution_count": 31,
     "metadata": {},
     "output_type": "execute_result"
    }
   ],
   "source": [
    "lm_fit_01.conf_int(). \\\n",
    "          rename(columns={0: 'ci_lwr',\n",
    "                          1: 'ci_upr'})"
   ]
  },
  {
   "cell_type": "code",
   "execution_count": null,
   "id": "6c0a8dda",
   "metadata": {},
   "outputs": [
    {
     "data": {
      "text/plain": [
       "Intercept             1.183941e-54\n",
       "flipper_length_mm    3.132836e-105\n",
       "dtype: float64"
      ]
     },
     "execution_count": 32,
     "metadata": {},
     "output_type": "execute_result"
    }
   ],
   "source": [
    "lm_fit_01.pvalues"
   ]
  },
  {
   "cell_type": "code",
   "execution_count": null,
   "id": "eb7ca494",
   "metadata": {},
   "outputs": [
    {
     "data": {
      "text/plain": [
       "Intercept            True\n",
       "flipper_length_mm    True\n",
       "dtype: bool"
      ]
     },
     "execution_count": 33,
     "metadata": {},
     "output_type": "execute_result"
    }
   ],
   "source": [
    "lm_fit_01.pvalues < 0.05"
   ]
  },
  {
   "cell_type": "code",
   "execution_count": null,
   "id": "81162b65",
   "metadata": {},
   "outputs": [
    {
     "data": {
      "image/png": "[encoded data removed]",
      "text/plain": [
       "<Figure size 700x250 with 1 Axes>"
      ]
     },
     "metadata": {},
     "output_type": "display_data"
    }
   ],
   "source": [
    "my_coefplot(lm_fit_01, var='Intercept')"
   ]
  },
  {
   "cell_type": "code",
   "execution_count": null,
   "id": "0cac8033",
   "metadata": {},
   "outputs": [
    {
     "data": {
      "image/png": "[encoded data removed]",
      "text/plain": [
       "<Figure size 700x250 with 1 Axes>"
      ]
     },
     "metadata": {},
     "output_type": "display_data"
    }
   ],
   "source": [
    "my_coefplot(lm_fit_01, var='flipper_length_mm')"
   ]
  },
  {
   "cell_type": "code",
   "execution_count": null,
   "id": "86e61ab0",
   "metadata": {},
   "outputs": [
    {
     "data": {
      "text/plain": [
       "0.7620921573403914"
      ]
     },
     "execution_count": 36,
     "metadata": {},
     "output_type": "execute_result"
    }
   ],
   "source": [
    "lm_fit_01.rsquared"
   ]
  },
  {
   "cell_type": "code",
   "execution_count": null,
   "id": "b3540f97",
   "metadata": {},
   "outputs": [
    {
     "data": {
      "text/plain": [
       "392.16027063806183"
      ]
     },
     "execution_count": 37,
     "metadata": {},
     "output_type": "execute_result"
    }
   ],
   "source": [
    "np.sqrt((lm_fit_01.resid ** 2).mean())"
   ]
  },
  {
   "cell_type": "markdown",
   "id": "761611f4",
   "metadata": {},
   "source": [
    "#### This model has a lower RMSE so it is doing better than the intercept-only model."
   ]
  },
  {
   "cell_type": "code",
   "execution_count": null,
   "id": "661b2a2b",
   "metadata": {},
   "outputs": [
    {
     "data": {
      "text/plain": [
       "True"
      ]
     },
     "execution_count": 38,
     "metadata": {},
     "output_type": "execute_result"
    }
   ],
   "source": [
    "np.sqrt((lm_fit_01.resid ** 2).mean()) < np.sqrt((lm_fit_00.resid ** 2).mean())"
   ]
  },
  {
   "cell_type": "code",
   "execution_count": null,
   "id": "ce635ab6",
   "metadata": {},
   "outputs": [
    {
     "data": {
      "image/png": "[encoded data removed]",
      "text/plain": [
       "<Figure size 500x500 with 1 Axes>"
      ]
     },
     "metadata": {},
     "output_type": "display_data"
    }
   ],
   "source": [
    "sns.lmplot(data=df_clean,\n",
    "           x='flipper_length_mm',\n",
    "           y='body_mass_g')\n",
    "plt.show()"
   ]
  },
  {
   "cell_type": "markdown",
   "id": "d715c164",
   "metadata": {},
   "source": [
    "#### We will try a second degree polynomial or quadratic model."
   ]
  },
  {
   "cell_type": "code",
   "execution_count": null,
   "id": "1f4411bd",
   "metadata": {},
   "outputs": [],
   "source": [
    "lm_fit_02 = smf.ols(formula='body_mass_g ~ flipper_length_mm + np.power(flipper_length_mm, 2)', \n",
    "                    data=df_clean). \\\n",
    "                    fit()"
   ]
  },
  {
   "cell_type": "code",
   "execution_count": null,
   "id": "0aae3c87",
   "metadata": {},
   "outputs": [
    {
     "data": {
      "text/html": [
       "<table class=\"simpletable\">\n",
       "<caption>OLS Regression Results</caption>\n",
       "<tr>\n",
       "  <th>Dep. Variable:</th>       <td>body_mass_g</td>   <th>  R-squared:         </th> <td>   0.778</td> \n",
       "</tr>\n",
       "<tr>\n",
       "  <th>Model:</th>                   <td>OLS</td>       <th>  Adj. R-squared:    </th> <td>   0.777</td> \n",
       "</tr>\n",
       "<tr>\n",
       "  <th>Method:</th>             <td>Least Squares</td>  <th>  F-statistic:       </th> <td>   578.5</td> \n",
       "</tr>\n",
       "<tr>\n",
       "  <th>Date:</th>             <td>Wed, 27 Aug 2025</td> <th>  Prob (F-statistic):</th> <td>1.34e-108</td>\n",
       "</tr>\n",
       "<tr>\n",
       "  <th>Time:</th>                 <td>09:11:44</td>     <th>  Log-Likelihood:    </th> <td> -2449.5</td> \n",
       "</tr>\n",
       "<tr>\n",
       "  <th>No. Observations:</th>      <td>   333</td>      <th>  AIC:               </th> <td>   4905.</td> \n",
       "</tr>\n",
       "<tr>\n",
       "  <th>Df Residuals:</th>          <td>   330</td>      <th>  BIC:               </th> <td>   4916.</td> \n",
       "</tr>\n",
       "<tr>\n",
       "  <th>Df Model:</th>              <td>     2</td>      <th>                     </th>     <td> </td>    \n",
       "</tr>\n",
       "<tr>\n",
       "  <th>Covariance Type:</th>      <td>nonrobust</td>    <th>                     </th>     <td> </td>    \n",
       "</tr>\n",
       "</table>\n",
       "<table class=\"simpletable\">\n",
       "<tr>\n",
       "                 <td></td>                   <th>coef</th>     <th>std err</th>      <th>t</th>      <th>P>|t|</th>  <th>[0.025</th>    <th>0.975]</th>  \n",
       "</tr>\n",
       "<tr>\n",
       "  <th>Intercept</th>                      <td> 1.658e+04</td> <td> 4616.247</td> <td>    3.592</td> <td> 0.000</td> <td> 7498.887</td> <td> 2.57e+04</td>\n",
       "</tr>\n",
       "<tr>\n",
       "  <th>flipper_length_mm</th>              <td> -171.6140</td> <td>   45.524</td> <td>   -3.770</td> <td> 0.000</td> <td> -261.169</td> <td>  -82.059</td>\n",
       "</tr>\n",
       "<tr>\n",
       "  <th>np.power(flipper_length_mm, 2)</th> <td>    0.5449</td> <td>    0.112</td> <td>    4.874</td> <td> 0.000</td> <td>    0.325</td> <td>    0.765</td>\n",
       "</tr>\n",
       "</table>\n",
       "<table class=\"simpletable\">\n",
       "<tr>\n",
       "  <th>Omnibus:</th>       <td>10.746</td> <th>  Durbin-Watson:     </th> <td>   2.214</td>\n",
       "</tr>\n",
       "<tr>\n",
       "  <th>Prob(Omnibus):</th> <td> 0.005</td> <th>  Jarque-Bera (JB):  </th> <td>  10.985</td>\n",
       "</tr>\n",
       "<tr>\n",
       "  <th>Skew:</th>          <td> 0.441</td> <th>  Prob(JB):          </th> <td> 0.00412</td>\n",
       "</tr>\n",
       "<tr>\n",
       "  <th>Kurtosis:</th>      <td> 3.119</td> <th>  Cond. No.          </th> <td>9.07e+06</td>\n",
       "</tr>\n",
       "</table><br/><br/>Notes:<br/>[1] Standard Errors assume that the covariance matrix of the errors is correctly specified.<br/>[2] The condition number is large, 9.07e+06. This might indicate that there are<br/>strong multicollinearity or other numerical problems."
      ],
      "text/latex": [
       "\\begin{center}\n",
       "\\begin{tabular}{lclc}\n",
       "\\toprule\n",
       "\\textbf{Dep. Variable:}                   &  body\\_mass\\_g   & \\textbf{  R-squared:         } &     0.778   \\\\\n",
       "\\textbf{Model:}                           &       OLS        & \\textbf{  Adj. R-squared:    } &     0.777   \\\\\n",
       "\\textbf{Method:}                          &  Least Squares   & \\textbf{  F-statistic:       } &     578.5   \\\\\n",
       "\\textbf{Date:}                            & Wed, 27 Aug 2025 & \\textbf{  Prob (F-statistic):} & 1.34e-108   \\\\\n",
       "\\textbf{Time:}                            &     09:11:44     & \\textbf{  Log-Likelihood:    } &   -2449.5   \\\\\n",
       "\\textbf{No. Observations:}                &         333      & \\textbf{  AIC:               } &     4905.   \\\\\n",
       "\\textbf{Df Residuals:}                    &         330      & \\textbf{  BIC:               } &     4916.   \\\\\n",
       "\\textbf{Df Model:}                        &           2      & \\textbf{                     } &             \\\\\n",
       "\\textbf{Covariance Type:}                 &    nonrobust     & \\textbf{                     } &             \\\\\n",
       "\\bottomrule\n",
       "\\end{tabular}\n",
       "\\begin{tabular}{lcccccc}\n",
       "                                          & \\textbf{coef} & \\textbf{std err} & \\textbf{t} & \\textbf{P$> |$t$|$} & \\textbf{[0.025} & \\textbf{0.975]}  \\\\\n",
       "\\midrule\n",
       "\\textbf{Intercept}                        &    1.658e+04  &     4616.247     &     3.592  &         0.000        &     7498.887    &     2.57e+04     \\\\\n",
       "\\textbf{flipper\\_length\\_mm}              &    -171.6140  &       45.524     &    -3.770  &         0.000        &     -261.169    &      -82.059     \\\\\n",
       "\\textbf{np.power(flipper\\_length\\_mm, 2)} &       0.5449  &        0.112     &     4.874  &         0.000        &        0.325    &        0.765     \\\\\n",
       "\\bottomrule\n",
       "\\end{tabular}\n",
       "\\begin{tabular}{lclc}\n",
       "\\textbf{Omnibus:}       & 10.746 & \\textbf{  Durbin-Watson:     } &    2.214  \\\\\n",
       "\\textbf{Prob(Omnibus):} &  0.005 & \\textbf{  Jarque-Bera (JB):  } &   10.985  \\\\\n",
       "\\textbf{Skew:}          &  0.441 & \\textbf{  Prob(JB):          } &  0.00412  \\\\\n",
       "\\textbf{Kurtosis:}      &  3.119 & \\textbf{  Cond. No.          } & 9.07e+06  \\\\\n",
       "\\bottomrule\n",
       "\\end{tabular}\n",
       "%\\caption{OLS Regression Results}\n",
       "\\end{center}\n",
       "\n",
       "Notes: \\newline\n",
       " [1] Standard Errors assume that the covariance matrix of the errors is correctly specified. \\newline\n",
       " [2] The condition number is large, 9.07e+06. This might indicate that there are \\newline\n",
       " strong multicollinearity or other numerical problems."
      ],
      "text/plain": [
       "<class 'statsmodels.iolib.summary.Summary'>\n",
       "\"\"\"\n",
       "                            OLS Regression Results                            \n",
       "==============================================================================\n",
       "Dep. Variable:            body_mass_g   R-squared:                       0.778\n",
       "Model:                            OLS   Adj. R-squared:                  0.777\n",
       "Method:                 Least Squares   F-statistic:                     578.5\n",
       "Date:                Wed, 27 Aug 2025   Prob (F-statistic):          1.34e-108\n",
       "Time:                        09:11:44   Log-Likelihood:                -2449.5\n",
       "No. Observations:                 333   AIC:                             4905.\n",
       "Df Residuals:                     330   BIC:                             4916.\n",
       "Df Model:                           2                                         \n",
       "Covariance Type:            nonrobust                                         \n",
       "==================================================================================================\n",
       "                                     coef    std err          t      P>|t|      [0.025      0.975]\n",
       "--------------------------------------------------------------------------------------------------\n",
       "Intercept                       1.658e+04   4616.247      3.592      0.000    7498.887    2.57e+04\n",
       "flipper_length_mm               -171.6140     45.524     -3.770      0.000    -261.169     -82.059\n",
       "np.power(flipper_length_mm, 2)     0.5449      0.112      4.874      0.000       0.325       0.765\n",
       "==============================================================================\n",
       "Omnibus:                       10.746   Durbin-Watson:                   2.214\n",
       "Prob(Omnibus):                  0.005   Jarque-Bera (JB):               10.985\n",
       "Skew:                           0.441   Prob(JB):                      0.00412\n",
       "Kurtosis:                       3.119   Cond. No.                     9.07e+06\n",
       "==============================================================================\n",
       "\n",
       "Notes:\n",
       "[1] Standard Errors assume that the covariance matrix of the errors is correctly specified.\n",
       "[2] The condition number is large, 9.07e+06. This might indicate that there are\n",
       "strong multicollinearity or other numerical problems.\n",
       "\"\"\""
      ]
     },
     "execution_count": 41,
     "metadata": {},
     "output_type": "execute_result"
    }
   ],
   "source": [
    "lm_fit_02.summary()"
   ]
  },
  {
   "cell_type": "code",
   "execution_count": null,
   "id": "33d3d153",
   "metadata": {},
   "outputs": [
    {
     "data": {
      "text/plain": [
       "Intercept                         16579.869215\n",
       "flipper_length_mm                  -171.613976\n",
       "np.power(flipper_length_mm, 2)        0.544948\n",
       "dtype: float64"
      ]
     },
     "execution_count": 42,
     "metadata": {},
     "output_type": "execute_result"
    }
   ],
   "source": [
    "lm_fit_02.params"
   ]
  },
  {
   "cell_type": "code",
   "execution_count": null,
   "id": "f520da86",
   "metadata": {},
   "outputs": [
    {
     "data": {
      "text/plain": [
       "Intercept                         4616.246647\n",
       "flipper_length_mm                   45.524470\n",
       "np.power(flipper_length_mm, 2)       0.111807\n",
       "dtype: float64"
      ]
     },
     "execution_count": 43,
     "metadata": {},
     "output_type": "execute_result"
    }
   ],
   "source": [
    "lm_fit_02.bse"
   ]
  },
  {
   "cell_type": "code",
   "execution_count": null,
   "id": "45676b0f",
   "metadata": {},
   "outputs": [
    {
     "data": {
      "text/html": [
       "<div>\n",
       "<style scoped>\n",
       "    .dataframe tbody tr th:only-of-type {\n",
       "        vertical-align: middle;\n",
       "    }\n",
       "\n",
       "    .dataframe tbody tr th {\n",
       "        vertical-align: top;\n",
       "    }\n",
       "\n",
       "    .dataframe thead th {\n",
       "        text-align: right;\n",
       "    }\n",
       "</style>\n",
       "<table border=\"1\" class=\"dataframe\">\n",
       "  <thead>\n",
       "    <tr style=\"text-align: right;\">\n",
       "      <th></th>\n",
       "      <th>ci_lwr</th>\n",
       "      <th>ci_upr</th>\n",
       "    </tr>\n",
       "  </thead>\n",
       "  <tbody>\n",
       "    <tr>\n",
       "      <th>Intercept</th>\n",
       "      <td>7498.887253</td>\n",
       "      <td>25660.851176</td>\n",
       "    </tr>\n",
       "    <tr>\n",
       "      <th>flipper_length_mm</th>\n",
       "      <td>-261.168743</td>\n",
       "      <td>-82.059210</td>\n",
       "    </tr>\n",
       "    <tr>\n",
       "      <th>np.power(flipper_length_mm, 2)</th>\n",
       "      <td>0.325003</td>\n",
       "      <td>0.764892</td>\n",
       "    </tr>\n",
       "  </tbody>\n",
       "</table>\n",
       "</div>"
      ],
      "text/plain": [
       "                                     ci_lwr        ci_upr\n",
       "Intercept                       7498.887253  25660.851176\n",
       "flipper_length_mm               -261.168743    -82.059210\n",
       "np.power(flipper_length_mm, 2)     0.325003      0.764892"
      ]
     },
     "execution_count": 44,
     "metadata": {},
     "output_type": "execute_result"
    }
   ],
   "source": [
    "lm_fit_02.conf_int(). \\\n",
    "          rename(columns={0: 'ci_lwr',\n",
    "                          1: 'ci_upr'})"
   ]
  },
  {
   "cell_type": "code",
   "execution_count": null,
   "id": "f9b81797",
   "metadata": {},
   "outputs": [
    {
     "data": {
      "text/plain": [
       "Intercept                         0.000379\n",
       "flipper_length_mm                 0.000194\n",
       "np.power(flipper_length_mm, 2)    0.000002\n",
       "dtype: float64"
      ]
     },
     "execution_count": 45,
     "metadata": {},
     "output_type": "execute_result"
    }
   ],
   "source": [
    "lm_fit_02.pvalues"
   ]
  },
  {
   "cell_type": "code",
   "execution_count": null,
   "id": "2ed73e96",
   "metadata": {},
   "outputs": [
    {
     "data": {
      "text/plain": [
       "Intercept                         True\n",
       "flipper_length_mm                 True\n",
       "np.power(flipper_length_mm, 2)    True\n",
       "dtype: bool"
      ]
     },
     "execution_count": 46,
     "metadata": {},
     "output_type": "execute_result"
    }
   ],
   "source": [
    "lm_fit_02.pvalues < 0.05"
   ]
  },
  {
   "cell_type": "code",
   "execution_count": null,
   "id": "cd05f523",
   "metadata": {},
   "outputs": [
    {
     "data": {
      "image/png": "[encoded data removed]",
      "text/plain": [
       "<Figure size 700x250 with 1 Axes>"
      ]
     },
     "metadata": {},
     "output_type": "display_data"
    }
   ],
   "source": [
    "my_coefplot(lm_fit_02, var='Intercept')"
   ]
  },
  {
   "cell_type": "code",
   "execution_count": null,
   "id": "6e65c879",
   "metadata": {},
   "outputs": [
    {
     "data": {
      "image/png": "[encoded data removed]",
      "text/plain": [
       "<Figure size 700x250 with 1 Axes>"
      ]
     },
     "metadata": {},
     "output_type": "display_data"
    }
   ],
   "source": [
    "my_coefplot(lm_fit_02, var='flipper_length_mm')"
   ]
  },
  {
   "cell_type": "code",
   "execution_count": null,
   "id": "eb78c59d",
   "metadata": {},
   "outputs": [
    {
     "data": {
      "image/png": "[encoded data removed]",
      "text/plain": [
       "<Figure size 700x250 with 1 Axes>"
      ]
     },
     "metadata": {},
     "output_type": "display_data"
    }
   ],
   "source": [
    "my_coefplot(lm_fit_02, var='np.power(flipper_length_mm, 2)')"
   ]
  },
  {
   "cell_type": "code",
   "execution_count": null,
   "id": "31a9e46c",
   "metadata": {},
   "outputs": [
    {
     "data": {
      "text/plain": [
       "0.7780684324476418"
      ]
     },
     "execution_count": 50,
     "metadata": {},
     "output_type": "execute_result"
    }
   ],
   "source": [
    "lm_fit_02.rsquared"
   ]
  },
  {
   "cell_type": "code",
   "execution_count": null,
   "id": "7c78de71",
   "metadata": {},
   "outputs": [
    {
     "data": {
      "text/plain": [
       "378.7640525050107"
      ]
     },
     "execution_count": 51,
     "metadata": {},
     "output_type": "execute_result"
    }
   ],
   "source": [
    "np.sqrt((lm_fit_02.resid ** 2).mean())"
   ]
  },
  {
   "cell_type": "markdown",
   "id": "dbab0bcb",
   "metadata": {},
   "source": [
    "#### This model has a lower RMSE than the other two so it is doing better."
   ]
  },
  {
   "cell_type": "code",
   "execution_count": null,
   "id": "fabc8b16",
   "metadata": {},
   "outputs": [
    {
     "data": {
      "text/plain": [
       "True"
      ]
     },
     "execution_count": 52,
     "metadata": {},
     "output_type": "execute_result"
    }
   ],
   "source": [
    "np.sqrt((lm_fit_02.resid ** 2).mean()) < np.sqrt((lm_fit_00.resid ** 2).mean())"
   ]
  },
  {
   "cell_type": "code",
   "execution_count": null,
   "id": "2d8d81b7",
   "metadata": {},
   "outputs": [
    {
     "data": {
      "text/plain": [
       "True"
      ]
     },
     "execution_count": 53,
     "metadata": {},
     "output_type": "execute_result"
    }
   ],
   "source": [
    "np.sqrt((lm_fit_02.resid ** 2).mean()) < np.sqrt((lm_fit_01.resid ** 2).mean())"
   ]
  },
  {
   "cell_type": "code",
   "execution_count": null,
   "id": "6eb731e9",
   "metadata": {},
   "outputs": [
    {
     "data": {
      "image/png": "[encoded data removed]",
      "text/plain": [
       "<Figure size 500x500 with 1 Axes>"
      ]
     },
     "metadata": {},
     "output_type": "display_data"
    }
   ],
   "source": [
    "sns.lmplot(data=df_clean,\n",
    "           x='flipper_length_mm',\n",
    "           y='body_mass_g',\n",
    "           order=2)\n",
    "plt.show()"
   ]
  },
  {
   "cell_type": "markdown",
   "id": "78903bf9",
   "metadata": {},
   "source": [
    "#### We will review a cubic model."
   ]
  },
  {
   "cell_type": "code",
   "execution_count": null,
   "id": "3c1a3a8c",
   "metadata": {},
   "outputs": [],
   "source": [
    "lm_fit_03 = smf.ols(formula='body_mass_g ~ flipper_length_mm + np.power(flipper_length_mm, 2) + np.power(flipper_length_mm, 3)', \n",
    "                    data=df_clean). \\\n",
    "                    fit()"
   ]
  },
  {
   "cell_type": "code",
   "execution_count": null,
   "id": "849dfdcc",
   "metadata": {},
   "outputs": [
    {
     "data": {
      "text/html": [
       "<table class=\"simpletable\">\n",
       "<caption>OLS Regression Results</caption>\n",
       "<tr>\n",
       "  <th>Dep. Variable:</th>       <td>body_mass_g</td>   <th>  R-squared:         </th> <td>   0.784</td> \n",
       "</tr>\n",
       "<tr>\n",
       "  <th>Model:</th>                   <td>OLS</td>       <th>  Adj. R-squared:    </th> <td>   0.782</td> \n",
       "</tr>\n",
       "<tr>\n",
       "  <th>Method:</th>             <td>Least Squares</td>  <th>  F-statistic:       </th> <td>   397.5</td> \n",
       "</tr>\n",
       "<tr>\n",
       "  <th>Date:</th>             <td>Wed, 27 Aug 2025</td> <th>  Prob (F-statistic):</th> <td>5.07e-109</td>\n",
       "</tr>\n",
       "<tr>\n",
       "  <th>Time:</th>                 <td>09:11:44</td>     <th>  Log-Likelihood:    </th> <td> -2445.2</td> \n",
       "</tr>\n",
       "<tr>\n",
       "  <th>No. Observations:</th>      <td>   333</td>      <th>  AIC:               </th> <td>   4898.</td> \n",
       "</tr>\n",
       "<tr>\n",
       "  <th>Df Residuals:</th>          <td>   329</td>      <th>  BIC:               </th> <td>   4914.</td> \n",
       "</tr>\n",
       "<tr>\n",
       "  <th>Df Model:</th>              <td>     3</td>      <th>                     </th>     <td> </td>    \n",
       "</tr>\n",
       "<tr>\n",
       "  <th>Covariance Type:</th>      <td>nonrobust</td>    <th>                     </th>     <td> </td>    \n",
       "</tr>\n",
       "</table>\n",
       "<table class=\"simpletable\">\n",
       "<tr>\n",
       "                 <td></td>                   <th>coef</th>     <th>std err</th>      <th>t</th>      <th>P>|t|</th>  <th>[0.025</th>    <th>0.975]</th>  \n",
       "</tr>\n",
       "<tr>\n",
       "  <th>Intercept</th>                      <td> 1.795e+05</td> <td> 5.55e+04</td> <td>    3.232</td> <td> 0.001</td> <td> 7.02e+04</td> <td> 2.89e+05</td>\n",
       "</tr>\n",
       "<tr>\n",
       "  <th>flipper_length_mm</th>              <td>-2591.3912</td> <td>  823.371</td> <td>   -3.147</td> <td> 0.002</td> <td>-4211.126</td> <td> -971.656</td>\n",
       "</tr>\n",
       "<tr>\n",
       "  <th>np.power(flipper_length_mm, 2)</th> <td>   12.4909</td> <td>    4.060</td> <td>    3.076</td> <td> 0.002</td> <td>    4.504</td> <td>   20.478</td>\n",
       "</tr>\n",
       "<tr>\n",
       "  <th>np.power(flipper_length_mm, 3)</th> <td>   -0.0196</td> <td>    0.007</td> <td>   -2.943</td> <td> 0.003</td> <td>   -0.033</td> <td>   -0.006</td>\n",
       "</tr>\n",
       "</table>\n",
       "<table class=\"simpletable\">\n",
       "<tr>\n",
       "  <th>Omnibus:</th>       <td>11.383</td> <th>  Durbin-Watson:     </th> <td>   2.320</td>\n",
       "</tr>\n",
       "<tr>\n",
       "  <th>Prob(Omnibus):</th> <td> 0.003</td> <th>  Jarque-Bera (JB):  </th> <td>  11.688</td>\n",
       "</tr>\n",
       "<tr>\n",
       "  <th>Skew:</th>          <td> 0.454</td> <th>  Prob(JB):          </th> <td> 0.00290</td>\n",
       "</tr>\n",
       "<tr>\n",
       "  <th>Kurtosis:</th>      <td> 3.130</td> <th>  Cond. No.          </th> <td>2.27e+10</td>\n",
       "</tr>\n",
       "</table><br/><br/>Notes:<br/>[1] Standard Errors assume that the covariance matrix of the errors is correctly specified.<br/>[2] The condition number is large, 2.27e+10. This might indicate that there are<br/>strong multicollinearity or other numerical problems."
      ],
      "text/latex": [
       "\\begin{center}\n",
       "\\begin{tabular}{lclc}\n",
       "\\toprule\n",
       "\\textbf{Dep. Variable:}                   &  body\\_mass\\_g   & \\textbf{  R-squared:         } &     0.784   \\\\\n",
       "\\textbf{Model:}                           &       OLS        & \\textbf{  Adj. R-squared:    } &     0.782   \\\\\n",
       "\\textbf{Method:}                          &  Least Squares   & \\textbf{  F-statistic:       } &     397.5   \\\\\n",
       "\\textbf{Date:}                            & Wed, 27 Aug 2025 & \\textbf{  Prob (F-statistic):} & 5.07e-109   \\\\\n",
       "\\textbf{Time:}                            &     09:11:44     & \\textbf{  Log-Likelihood:    } &   -2445.2   \\\\\n",
       "\\textbf{No. Observations:}                &         333      & \\textbf{  AIC:               } &     4898.   \\\\\n",
       "\\textbf{Df Residuals:}                    &         329      & \\textbf{  BIC:               } &     4914.   \\\\\n",
       "\\textbf{Df Model:}                        &           3      & \\textbf{                     } &             \\\\\n",
       "\\textbf{Covariance Type:}                 &    nonrobust     & \\textbf{                     } &             \\\\\n",
       "\\bottomrule\n",
       "\\end{tabular}\n",
       "\\begin{tabular}{lcccccc}\n",
       "                                          & \\textbf{coef} & \\textbf{std err} & \\textbf{t} & \\textbf{P$> |$t$|$} & \\textbf{[0.025} & \\textbf{0.975]}  \\\\\n",
       "\\midrule\n",
       "\\textbf{Intercept}                        &    1.795e+05  &     5.55e+04     &     3.232  &         0.001        &     7.02e+04    &     2.89e+05     \\\\\n",
       "\\textbf{flipper\\_length\\_mm}              &   -2591.3912  &      823.371     &    -3.147  &         0.002        &    -4211.126    &     -971.656     \\\\\n",
       "\\textbf{np.power(flipper\\_length\\_mm, 2)} &      12.4909  &        4.060     &     3.076  &         0.002        &        4.504    &       20.478     \\\\\n",
       "\\textbf{np.power(flipper\\_length\\_mm, 3)} &      -0.0196  &        0.007     &    -2.943  &         0.003        &       -0.033    &       -0.006     \\\\\n",
       "\\bottomrule\n",
       "\\end{tabular}\n",
       "\\begin{tabular}{lclc}\n",
       "\\textbf{Omnibus:}       & 11.383 & \\textbf{  Durbin-Watson:     } &    2.320  \\\\\n",
       "\\textbf{Prob(Omnibus):} &  0.003 & \\textbf{  Jarque-Bera (JB):  } &   11.688  \\\\\n",
       "\\textbf{Skew:}          &  0.454 & \\textbf{  Prob(JB):          } &  0.00290  \\\\\n",
       "\\textbf{Kurtosis:}      &  3.130 & \\textbf{  Cond. No.          } & 2.27e+10  \\\\\n",
       "\\bottomrule\n",
       "\\end{tabular}\n",
       "%\\caption{OLS Regression Results}\n",
       "\\end{center}\n",
       "\n",
       "Notes: \\newline\n",
       " [1] Standard Errors assume that the covariance matrix of the errors is correctly specified. \\newline\n",
       " [2] The condition number is large, 2.27e+10. This might indicate that there are \\newline\n",
       " strong multicollinearity or other numerical problems."
      ],
      "text/plain": [
       "<class 'statsmodels.iolib.summary.Summary'>\n",
       "\"\"\"\n",
       "                            OLS Regression Results                            \n",
       "==============================================================================\n",
       "Dep. Variable:            body_mass_g   R-squared:                       0.784\n",
       "Model:                            OLS   Adj. R-squared:                  0.782\n",
       "Method:                 Least Squares   F-statistic:                     397.5\n",
       "Date:                Wed, 27 Aug 2025   Prob (F-statistic):          5.07e-109\n",
       "Time:                        09:11:44   Log-Likelihood:                -2445.2\n",
       "No. Observations:                 333   AIC:                             4898.\n",
       "Df Residuals:                     329   BIC:                             4914.\n",
       "Df Model:                           3                                         \n",
       "Covariance Type:            nonrobust                                         \n",
       "==================================================================================================\n",
       "                                     coef    std err          t      P>|t|      [0.025      0.975]\n",
       "--------------------------------------------------------------------------------------------------\n",
       "Intercept                       1.795e+05   5.55e+04      3.232      0.001    7.02e+04    2.89e+05\n",
       "flipper_length_mm              -2591.3912    823.371     -3.147      0.002   -4211.126    -971.656\n",
       "np.power(flipper_length_mm, 2)    12.4909      4.060      3.076      0.002       4.504      20.478\n",
       "np.power(flipper_length_mm, 3)    -0.0196      0.007     -2.943      0.003      -0.033      -0.006\n",
       "==============================================================================\n",
       "Omnibus:                       11.383   Durbin-Watson:                   2.320\n",
       "Prob(Omnibus):                  0.003   Jarque-Bera (JB):               11.688\n",
       "Skew:                           0.454   Prob(JB):                      0.00290\n",
       "Kurtosis:                       3.130   Cond. No.                     2.27e+10\n",
       "==============================================================================\n",
       "\n",
       "Notes:\n",
       "[1] Standard Errors assume that the covariance matrix of the errors is correctly specified.\n",
       "[2] The condition number is large, 2.27e+10. This might indicate that there are\n",
       "strong multicollinearity or other numerical problems.\n",
       "\"\"\""
      ]
     },
     "execution_count": 56,
     "metadata": {},
     "output_type": "execute_result"
    }
   ],
   "source": [
    "lm_fit_03.summary()"
   ]
  },
  {
   "cell_type": "code",
   "execution_count": null,
   "id": "e5fe7690",
   "metadata": {},
   "outputs": [
    {
     "data": {
      "text/plain": [
       "Intercept                         179467.306901\n",
       "flipper_length_mm                  -2591.391180\n",
       "np.power(flipper_length_mm, 2)        12.490930\n",
       "np.power(flipper_length_mm, 3)        -0.019598\n",
       "dtype: float64"
      ]
     },
     "execution_count": 57,
     "metadata": {},
     "output_type": "execute_result"
    }
   ],
   "source": [
    "lm_fit_03.params"
   ]
  },
  {
   "cell_type": "code",
   "execution_count": null,
   "id": "713fd2e0",
   "metadata": {},
   "outputs": [
    {
     "data": {
      "text/plain": [
       "Intercept                         55530.217107\n",
       "flipper_length_mm                   823.370574\n",
       "np.power(flipper_length_mm, 2)        4.060253\n",
       "np.power(flipper_length_mm, 3)        0.006659\n",
       "dtype: float64"
      ]
     },
     "execution_count": 58,
     "metadata": {},
     "output_type": "execute_result"
    }
   ],
   "source": [
    "lm_fit_03.bse"
   ]
  },
  {
   "cell_type": "code",
   "execution_count": null,
   "id": "1fb0ca5c",
   "metadata": {},
   "outputs": [
    {
     "data": {
      "text/html": [
       "<div>\n",
       "<style scoped>\n",
       "    .dataframe tbody tr th:only-of-type {\n",
       "        vertical-align: middle;\n",
       "    }\n",
       "\n",
       "    .dataframe tbody tr th {\n",
       "        vertical-align: top;\n",
       "    }\n",
       "\n",
       "    .dataframe thead th {\n",
       "        text-align: right;\n",
       "    }\n",
       "</style>\n",
       "<table border=\"1\" class=\"dataframe\">\n",
       "  <thead>\n",
       "    <tr style=\"text-align: right;\">\n",
       "      <th></th>\n",
       "      <th>ci_lwr</th>\n",
       "      <th>ci_upr</th>\n",
       "    </tr>\n",
       "  </thead>\n",
       "  <tbody>\n",
       "    <tr>\n",
       "      <th>Intercept</th>\n",
       "      <td>70228.225861</td>\n",
       "      <td>288706.387940</td>\n",
       "    </tr>\n",
       "    <tr>\n",
       "      <th>flipper_length_mm</th>\n",
       "      <td>-4211.126337</td>\n",
       "      <td>-971.656024</td>\n",
       "    </tr>\n",
       "    <tr>\n",
       "      <th>np.power(flipper_length_mm, 2)</th>\n",
       "      <td>4.503598</td>\n",
       "      <td>20.478261</td>\n",
       "    </tr>\n",
       "    <tr>\n",
       "      <th>np.power(flipper_length_mm, 3)</th>\n",
       "      <td>-0.032697</td>\n",
       "      <td>-0.006499</td>\n",
       "    </tr>\n",
       "  </tbody>\n",
       "</table>\n",
       "</div>"
      ],
      "text/plain": [
       "                                      ci_lwr         ci_upr\n",
       "Intercept                       70228.225861  288706.387940\n",
       "flipper_length_mm               -4211.126337    -971.656024\n",
       "np.power(flipper_length_mm, 2)      4.503598      20.478261\n",
       "np.power(flipper_length_mm, 3)     -0.032697      -0.006499"
      ]
     },
     "execution_count": 59,
     "metadata": {},
     "output_type": "execute_result"
    }
   ],
   "source": [
    "lm_fit_03.conf_int(). \\\n",
    "          rename(columns={0: 'ci_lwr',\n",
    "                          1: 'ci_upr'})"
   ]
  },
  {
   "cell_type": "code",
   "execution_count": null,
   "id": "0668c0e9",
   "metadata": {},
   "outputs": [
    {
     "data": {
      "text/plain": [
       "Intercept                         0.001354\n",
       "flipper_length_mm                 0.001799\n",
       "np.power(flipper_length_mm, 2)    0.002271\n",
       "np.power(flipper_length_mm, 3)    0.003478\n",
       "dtype: float64"
      ]
     },
     "execution_count": 60,
     "metadata": {},
     "output_type": "execute_result"
    }
   ],
   "source": [
    "lm_fit_03.pvalues"
   ]
  },
  {
   "cell_type": "code",
   "execution_count": null,
   "id": "202318be",
   "metadata": {},
   "outputs": [
    {
     "data": {
      "text/plain": [
       "Intercept                         True\n",
       "flipper_length_mm                 True\n",
       "np.power(flipper_length_mm, 2)    True\n",
       "np.power(flipper_length_mm, 3)    True\n",
       "dtype: bool"
      ]
     },
     "execution_count": 61,
     "metadata": {},
     "output_type": "execute_result"
    }
   ],
   "source": [
    "lm_fit_03.pvalues < 0.05"
   ]
  },
  {
   "cell_type": "code",
   "execution_count": null,
   "id": "bd6d411c",
   "metadata": {},
   "outputs": [
    {
     "data": {
      "image/png": "[encoded data removed]",
      "text/plain": [
       "<Figure size 700x250 with 1 Axes>"
      ]
     },
     "metadata": {},
     "output_type": "display_data"
    }
   ],
   "source": [
    "my_coefplot(lm_fit_03, var='Intercept')"
   ]
  },
  {
   "cell_type": "code",
   "execution_count": null,
   "id": "cfab67b5",
   "metadata": {},
   "outputs": [
    {
     "data": {
      "image/png": "[encoded data removed]",
      "text/plain": [
       "<Figure size 700x250 with 1 Axes>"
      ]
     },
     "metadata": {},
     "output_type": "display_data"
    }
   ],
   "source": [
    "my_coefplot(lm_fit_03, var='flipper_length_mm')"
   ]
  },
  {
   "cell_type": "code",
   "execution_count": null,
   "id": "6093f581",
   "metadata": {},
   "outputs": [
    {
     "data": {
      "image/png": "[encoded data removed]",
      "text/plain": [
       "<Figure size 700x250 with 1 Axes>"
      ]
     },
     "metadata": {},
     "output_type": "display_data"
    }
   ],
   "source": [
    "my_coefplot(lm_fit_03, var='np.power(flipper_length_mm, 2)')"
   ]
  },
  {
   "cell_type": "code",
   "execution_count": null,
   "id": "4f7ecfd2",
   "metadata": {},
   "outputs": [
    {
     "data": {
      "image/png": "[encoded data removed]",
      "text/plain": [
       "<Figure size 700x250 with 1 Axes>"
      ]
     },
     "metadata": {},
     "output_type": "display_data"
    }
   ],
   "source": [
    "my_coefplot(lm_fit_03, var='np.power(flipper_length_mm, 3)')"
   ]
  },
  {
   "cell_type": "code",
   "execution_count": null,
   "id": "8545ac3d",
   "metadata": {},
   "outputs": [
    {
     "data": {
      "text/plain": [
       "0.783762142815277"
      ]
     },
     "execution_count": 66,
     "metadata": {},
     "output_type": "execute_result"
    }
   ],
   "source": [
    "lm_fit_03.rsquared"
   ]
  },
  {
   "cell_type": "markdown",
   "id": "6a293da4",
   "metadata": {},
   "source": [
    "#### This model has a lower RMSE than the other three so it is doing best so far."
   ]
  },
  {
   "cell_type": "code",
   "execution_count": null,
   "id": "d327e8c1",
   "metadata": {},
   "outputs": [
    {
     "data": {
      "text/plain": [
       "True"
      ]
     },
     "execution_count": 67,
     "metadata": {},
     "output_type": "execute_result"
    }
   ],
   "source": [
    "np.sqrt((lm_fit_03.resid ** 2).mean()) < np.sqrt((lm_fit_00.resid ** 2).mean()) "
   ]
  },
  {
   "cell_type": "code",
   "execution_count": null,
   "id": "ff6c5840",
   "metadata": {},
   "outputs": [
    {
     "data": {
      "text/plain": [
       "True"
      ]
     },
     "execution_count": 68,
     "metadata": {},
     "output_type": "execute_result"
    }
   ],
   "source": [
    "np.sqrt((lm_fit_03.resid ** 2).mean()) < np.sqrt((lm_fit_01.resid ** 2).mean()) "
   ]
  },
  {
   "cell_type": "code",
   "execution_count": null,
   "id": "3dddabac",
   "metadata": {},
   "outputs": [
    {
     "data": {
      "text/plain": [
       "True"
      ]
     },
     "execution_count": 69,
     "metadata": {},
     "output_type": "execute_result"
    }
   ],
   "source": [
    "np.sqrt((lm_fit_03.resid ** 2).mean()) < np.sqrt((lm_fit_02.resid ** 2).mean())"
   ]
  },
  {
   "cell_type": "code",
   "execution_count": null,
   "id": "3f65462c",
   "metadata": {},
   "outputs": [
    {
     "data": {
      "image/png": "[encoded data removed]",
      "text/plain": [
       "<Figure size 500x500 with 1 Axes>"
      ]
     },
     "metadata": {},
     "output_type": "display_data"
    }
   ],
   "source": [
    "sns.lmplot(data=df_clean,\n",
    "           x='flipper_length_mm',\n",
    "           y='body_mass_g',\n",
    "           order=3)\n",
    "plt.show()"
   ]
  }
 ],
 "metadata": {
  "kernelspec": {
   "display_name": "prod",
   "language": "python",
   "name": "python3"
  },
  "language_info": {
   "codemirror_mode": {
    "name": "ipython",
    "version": 3
   },
   "file_extension": ".py",
   "mimetype": "text/x-python",
   "name": "python",
   "nbconvert_exporter": "python",
   "pygments_lexer": "ipython3",
   "version": "3.12.7"
  }
 },
 "nbformat": 4,
 "nbformat_minor": 5
}

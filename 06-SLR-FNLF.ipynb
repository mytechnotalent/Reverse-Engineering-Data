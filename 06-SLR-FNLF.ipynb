{
 "cells": [
  {
   "cell_type": "markdown",
   "id": "844435e8",
   "metadata": {},
   "source": [
    "# Penguins Dataset Simple Linear Regression - Fitting Non-Linear Feature"
   ]
  },
  {
   "cell_type": "markdown",
   "id": "c6dc97bb",
   "metadata": {},
   "source": [
    "### [Penguins Dataset](https://seaborn.pydata.org/tutorial/introduction.html)\n",
    "\n",
    "Author: [Kevin Thomas](mailto:ket189@pitt.edu)"
   ]
  },
  {
   "cell_type": "markdown",
   "id": "0600d4b0",
   "metadata": {},
   "source": [
    "## Citation"
   ]
  },
  {
   "cell_type": "markdown",
   "id": "ec57b3f7",
   "metadata": {},
   "source": [
    "[1] Allison Horst, https://github.com/allisonhorst/palmerpenguins"
   ]
  },
  {
   "cell_type": "markdown",
   "id": "2281e96c",
   "metadata": {},
   "source": [
    "## Import Modules"
   ]
  },
  {
   "cell_type": "code",
   "execution_count": 28,
   "id": "4d6f2076",
   "metadata": {},
   "outputs": [],
   "source": [
    "import pandas as pd\n",
    "import matplotlib.pyplot as plt\n",
    "import seaborn as sns\n",
    "from sklearn.preprocessing import StandardScaler\n",
    "import statsmodels.formula.api as smf"
   ]
  },
  {
   "cell_type": "markdown",
   "id": "4c514e3a",
   "metadata": {},
   "source": [
    "## Load Dataset"
   ]
  },
  {
   "cell_type": "code",
   "execution_count": 29,
   "id": "66ef5697",
   "metadata": {},
   "outputs": [],
   "source": [
    "df = sns.load_dataset('penguins')"
   ]
  },
  {
   "cell_type": "markdown",
   "id": "5163b8a3",
   "metadata": {},
   "source": [
    "## Perform Essential Exploration & Data Cleaning"
   ]
  },
  {
   "cell_type": "markdown",
   "id": "a1590e07",
   "metadata": {},
   "source": [
    "### Display the initial number of rows and columns."
   ]
  },
  {
   "cell_type": "code",
   "execution_count": 30,
   "id": "b8f077b4",
   "metadata": {},
   "outputs": [
    {
     "data": {
      "text/plain": [
       "(344, 7)"
      ]
     },
     "execution_count": 30,
     "metadata": {},
     "output_type": "execute_result"
    }
   ],
   "source": [
    "df.shape"
   ]
  },
  {
   "cell_type": "markdown",
   "id": "685417c9",
   "metadata": {},
   "source": [
    "### Display the initial variable names and their associated data types."
   ]
  },
  {
   "cell_type": "code",
   "execution_count": 31,
   "id": "13c65303",
   "metadata": {},
   "outputs": [
    {
     "data": {
      "text/plain": [
       "species               object\n",
       "island                object\n",
       "bill_length_mm       float64\n",
       "bill_depth_mm        float64\n",
       "flipper_length_mm    float64\n",
       "body_mass_g          float64\n",
       "sex                   object\n",
       "dtype: object"
      ]
     },
     "execution_count": 31,
     "metadata": {},
     "output_type": "execute_result"
    }
   ],
   "source": [
    "df.dtypes"
   ]
  },
  {
   "cell_type": "markdown",
   "id": "02b99681",
   "metadata": {},
   "source": [
    "### Display the number of missing values for each column, remove the missing values and create a clean copy of the dataset."
   ]
  },
  {
   "cell_type": "code",
   "execution_count": 32,
   "id": "84e422e2",
   "metadata": {},
   "outputs": [
    {
     "data": {
      "text/plain": [
       "species               0\n",
       "island                0\n",
       "bill_length_mm        2\n",
       "bill_depth_mm         2\n",
       "flipper_length_mm     2\n",
       "body_mass_g           2\n",
       "sex                  11\n",
       "dtype: int64"
      ]
     },
     "execution_count": 32,
     "metadata": {},
     "output_type": "execute_result"
    }
   ],
   "source": [
    "df.isna().sum()"
   ]
  },
  {
   "cell_type": "code",
   "execution_count": 33,
   "id": "1b2cb9b6",
   "metadata": {},
   "outputs": [],
   "source": [
    "df_clean = df.dropna().copy()"
   ]
  },
  {
   "cell_type": "code",
   "execution_count": 34,
   "id": "de1a645c",
   "metadata": {},
   "outputs": [
    {
     "data": {
      "text/plain": [
       "species              0\n",
       "island               0\n",
       "bill_length_mm       0\n",
       "bill_depth_mm        0\n",
       "flipper_length_mm    0\n",
       "body_mass_g          0\n",
       "sex                  0\n",
       "dtype: int64"
      ]
     },
     "execution_count": 34,
     "metadata": {},
     "output_type": "execute_result"
    }
   ],
   "source": [
    "df_clean.isna().sum()"
   ]
  },
  {
   "cell_type": "markdown",
   "id": "cff95f5e",
   "metadata": {},
   "source": [
    "### Display the number of unique values for each column after removing missing data and before initial exploration."
   ]
  },
  {
   "cell_type": "code",
   "execution_count": 35,
   "id": "e66f53c5",
   "metadata": {},
   "outputs": [
    {
     "data": {
      "text/plain": [
       "species                3\n",
       "island                 3\n",
       "bill_length_mm       163\n",
       "bill_depth_mm         79\n",
       "flipper_length_mm     54\n",
       "body_mass_g           93\n",
       "sex                    2\n",
       "dtype: int64"
      ]
     },
     "execution_count": 35,
     "metadata": {},
     "output_type": "execute_result"
    }
   ],
   "source": [
    "df_clean.nunique()"
   ]
  },
  {
   "cell_type": "markdown",
   "id": "a87dd02c",
   "metadata": {},
   "source": [
    "### Display the number of unique values for the categorical variables after removing missing data and before initial exploration."
   ]
  },
  {
   "cell_type": "code",
   "execution_count": 36,
   "id": "f1f0cf3e",
   "metadata": {},
   "outputs": [
    {
     "data": {
      "text/plain": [
       "species    3\n",
       "island     3\n",
       "sex        2\n",
       "dtype: int64"
      ]
     },
     "execution_count": 36,
     "metadata": {},
     "output_type": "execute_result"
    }
   ],
   "source": [
    "df_clean.select_dtypes(exclude='number').nunique()"
   ]
  },
  {
   "cell_type": "markdown",
   "id": "f8fa0f40",
   "metadata": {},
   "source": [
    "### Display the number of unique values for the continuous variables after removing missing data and before initial exploration."
   ]
  },
  {
   "cell_type": "code",
   "execution_count": 37,
   "id": "3e14cb3f",
   "metadata": {},
   "outputs": [
    {
     "data": {
      "text/plain": [
       "bill_length_mm       163\n",
       "bill_depth_mm         79\n",
       "flipper_length_mm     54\n",
       "body_mass_g           93\n",
       "dtype: int64"
      ]
     },
     "execution_count": 37,
     "metadata": {},
     "output_type": "execute_result"
    }
   ],
   "source": [
    "df_clean.select_dtypes(include='number').nunique()"
   ]
  },
  {
   "cell_type": "markdown",
   "id": "dc3eb43a",
   "metadata": {},
   "source": [
    "## Data Standardization"
   ]
  },
  {
   "cell_type": "markdown",
   "id": "7cdec1c1",
   "metadata": {},
   "source": [
    "### Examine raw numeric features magnitude and scale."
   ]
  },
  {
   "cell_type": "markdown",
   "id": "04b49c75",
   "metadata": {},
   "source": [
    "The actual values in the boxplot represent the distributions of the penguin dataset’s numeric features: bill length (mm), bill depth (mm), flipper length (mm), and body mass (g). The plot shows that body mass is on a much larger scale than the other features, indicating that its values are much higher (in grams) compared to the millimeter measurements of the other features, which is important for understanding feature scaling and the need for standardization in data analysis."
   ]
  },
  {
   "cell_type": "code",
   "execution_count": 38,
   "id": "ea628af4",
   "metadata": {},
   "outputs": [
    {
     "data": {
      "text/html": [
       "<div>\n",
       "<style scoped>\n",
       "    .dataframe tbody tr th:only-of-type {\n",
       "        vertical-align: middle;\n",
       "    }\n",
       "\n",
       "    .dataframe tbody tr th {\n",
       "        vertical-align: top;\n",
       "    }\n",
       "\n",
       "    .dataframe thead th {\n",
       "        text-align: right;\n",
       "    }\n",
       "</style>\n",
       "<table border=\"1\" class=\"dataframe\">\n",
       "  <thead>\n",
       "    <tr style=\"text-align: right;\">\n",
       "      <th></th>\n",
       "      <th>bill_length_mm</th>\n",
       "      <th>bill_depth_mm</th>\n",
       "      <th>flipper_length_mm</th>\n",
       "      <th>body_mass_g</th>\n",
       "    </tr>\n",
       "  </thead>\n",
       "  <tbody>\n",
       "    <tr>\n",
       "      <th>count</th>\n",
       "      <td>333.000000</td>\n",
       "      <td>333.000000</td>\n",
       "      <td>333.000000</td>\n",
       "      <td>333.000000</td>\n",
       "    </tr>\n",
       "    <tr>\n",
       "      <th>mean</th>\n",
       "      <td>43.992793</td>\n",
       "      <td>17.164865</td>\n",
       "      <td>200.966967</td>\n",
       "      <td>4207.057057</td>\n",
       "    </tr>\n",
       "    <tr>\n",
       "      <th>std</th>\n",
       "      <td>5.468668</td>\n",
       "      <td>1.969235</td>\n",
       "      <td>14.015765</td>\n",
       "      <td>805.215802</td>\n",
       "    </tr>\n",
       "    <tr>\n",
       "      <th>min</th>\n",
       "      <td>32.100000</td>\n",
       "      <td>13.100000</td>\n",
       "      <td>172.000000</td>\n",
       "      <td>2700.000000</td>\n",
       "    </tr>\n",
       "    <tr>\n",
       "      <th>25%</th>\n",
       "      <td>39.500000</td>\n",
       "      <td>15.600000</td>\n",
       "      <td>190.000000</td>\n",
       "      <td>3550.000000</td>\n",
       "    </tr>\n",
       "    <tr>\n",
       "      <th>50%</th>\n",
       "      <td>44.500000</td>\n",
       "      <td>17.300000</td>\n",
       "      <td>197.000000</td>\n",
       "      <td>4050.000000</td>\n",
       "    </tr>\n",
       "    <tr>\n",
       "      <th>75%</th>\n",
       "      <td>48.600000</td>\n",
       "      <td>18.700000</td>\n",
       "      <td>213.000000</td>\n",
       "      <td>4775.000000</td>\n",
       "    </tr>\n",
       "    <tr>\n",
       "      <th>max</th>\n",
       "      <td>59.600000</td>\n",
       "      <td>21.500000</td>\n",
       "      <td>231.000000</td>\n",
       "      <td>6300.000000</td>\n",
       "    </tr>\n",
       "  </tbody>\n",
       "</table>\n",
       "</div>"
      ],
      "text/plain": [
       "       bill_length_mm  bill_depth_mm  flipper_length_mm  body_mass_g\n",
       "count      333.000000     333.000000         333.000000   333.000000\n",
       "mean        43.992793      17.164865         200.966967  4207.057057\n",
       "std          5.468668       1.969235          14.015765   805.215802\n",
       "min         32.100000      13.100000         172.000000  2700.000000\n",
       "25%         39.500000      15.600000         190.000000  3550.000000\n",
       "50%         44.500000      17.300000         197.000000  4050.000000\n",
       "75%         48.600000      18.700000         213.000000  4775.000000\n",
       "max         59.600000      21.500000         231.000000  6300.000000"
      ]
     },
     "execution_count": 38,
     "metadata": {},
     "output_type": "execute_result"
    }
   ],
   "source": [
    "df_clean.describe()"
   ]
  },
  {
   "cell_type": "code",
   "execution_count": 39,
   "id": "90b5696b",
   "metadata": {},
   "outputs": [
    {
     "data": {
      "image/png": "[encoded data removed]",
      "text/plain": [
       "<Figure size 1000x500 with 1 Axes>"
      ]
     },
     "metadata": {},
     "output_type": "display_data"
    }
   ],
   "source": [
    "sns.catplot(data=df_clean, \n",
    "            kind='box', \n",
    "            aspect=2)\n",
    "plt.show()"
   ]
  },
  {
   "cell_type": "markdown",
   "id": "0efb3b08",
   "metadata": {},
   "source": [
    "### Prepare the dataset by extracting our numeric features."
   ]
  },
  {
   "cell_type": "code",
   "execution_count": null,
   "id": "be3e8e5e",
   "metadata": {},
   "outputs": [],
   "source": [
    "df_clean_features = df_clean.select_dtypes('number').copy()"
   ]
  },
  {
   "cell_type": "markdown",
   "id": "26ff147d",
   "metadata": {},
   "source": [
    "### Standardize the numeric features."
   ]
  },
  {
   "cell_type": "code",
   "execution_count": 41,
   "id": "648f58cd",
   "metadata": {},
   "outputs": [],
   "source": [
    "X = StandardScaler().fit_transform(df_clean_features)"
   ]
  },
  {
   "cell_type": "markdown",
   "id": "52804504",
   "metadata": {},
   "source": [
    "### Examine standarized numeric features magnitude and scale."
   ]
  },
  {
   "cell_type": "markdown",
   "id": "4ad8c2ab",
   "metadata": {},
   "source": [
    "After standardization, all numeric features (bill length, bill depth, flipper length, and body mass) have similar distributions centered around zero with comparable spread, indicating that differences in scale have been removed and the features are now suitable for clustering and other analyses that assume equal variance."
   ]
  },
  {
   "cell_type": "code",
   "execution_count": 42,
   "id": "846a156e",
   "metadata": {},
   "outputs": [
    {
     "data": {
      "image/png": "[encoded data removed]",
      "text/plain": [
       "<Figure size 1000x500 with 1 Axes>"
      ]
     },
     "metadata": {},
     "output_type": "display_data"
    }
   ],
   "source": [
    "sns.catplot(data=pd.DataFrame(X, \n",
    "                              columns=df_clean_features.columns), \n",
    "                              kind='box', \n",
    "                              aspect=2)\n",
    "plt.show()"
   ]
  },
  {
   "cell_type": "markdown",
   "id": "af68bc7c",
   "metadata": {},
   "source": [
    "## Simple Linear Regression - Fitting a Non-Linear Feature"
   ]
  },
  {
   "cell_type": "markdown",
   "id": "d03f4088",
   "metadata": {},
   "source": [
    "### We will fit a linear model between the input `flipper_length_mm` and the output `body_mass_g` assuming a non-linear relationship between the trend and the input."
   ]
  },
  {
   "cell_type": "markdown",
   "id": "ec06ba02",
   "metadata": {},
   "source": [
    "$\\mu = \\beta_0 + \\beta_1 x + \\beta_2 x^2$\n",
    "\n",
    "$\\mu$ predicted trend\n",
    "\n",
    "$\\beta_0$ intercept: value of $\\mu$ when $x = 0$\n",
    "\n",
    "$\\beta_1$ linear effect: change in $\\mu$ for a one-unit increase in $x$\n",
    "\n",
    "$\\beta_2$ quadratic effect: change in $\\mu$ for a one-unit increase in $x^2$\n",
    "\n",
    "$x$ feature or input variable: independent variable used to predict $\\mu$"
   ]
  },
  {
   "cell_type": "markdown",
   "id": "e9dc8c67",
   "metadata": {},
   "source": [
    "Let's fit the quadratic where the mean output is a function of the quadratic."
   ]
  },
  {
   "cell_type": "code",
   "execution_count": null,
   "id": "18548ba7",
   "metadata": {},
   "outputs": [],
   "source": [
    "lm_fit = smf.ols(formula='body_mass_g ~ flipper_length_mm + I(flipper_length_mm ** 2)', \n",
    "                 data=df_clean). \\\n",
    "                 fit()"
   ]
  },
  {
   "cell_type": "code",
   "execution_count": 44,
   "id": "d64dbe93",
   "metadata": {},
   "outputs": [
    {
     "data": {
      "text/html": [
       "<table class=\"simpletable\">\n",
       "<caption>OLS Regression Results</caption>\n",
       "<tr>\n",
       "  <th>Dep. Variable:</th>       <td>body_mass_g</td>   <th>  R-squared:         </th> <td>   0.778</td> \n",
       "</tr>\n",
       "<tr>\n",
       "  <th>Model:</th>                   <td>OLS</td>       <th>  Adj. R-squared:    </th> <td>   0.777</td> \n",
       "</tr>\n",
       "<tr>\n",
       "  <th>Method:</th>             <td>Least Squares</td>  <th>  F-statistic:       </th> <td>   578.5</td> \n",
       "</tr>\n",
       "<tr>\n",
       "  <th>Date:</th>             <td>Tue, 26 Aug 2025</td> <th>  Prob (F-statistic):</th> <td>1.34e-108</td>\n",
       "</tr>\n",
       "<tr>\n",
       "  <th>Time:</th>                 <td>10:12:55</td>     <th>  Log-Likelihood:    </th> <td> -2449.5</td> \n",
       "</tr>\n",
       "<tr>\n",
       "  <th>No. Observations:</th>      <td>   333</td>      <th>  AIC:               </th> <td>   4905.</td> \n",
       "</tr>\n",
       "<tr>\n",
       "  <th>Df Residuals:</th>          <td>   330</td>      <th>  BIC:               </th> <td>   4916.</td> \n",
       "</tr>\n",
       "<tr>\n",
       "  <th>Df Model:</th>              <td>     2</td>      <th>                     </th>     <td> </td>    \n",
       "</tr>\n",
       "<tr>\n",
       "  <th>Covariance Type:</th>      <td>nonrobust</td>    <th>                     </th>     <td> </td>    \n",
       "</tr>\n",
       "</table>\n",
       "<table class=\"simpletable\">\n",
       "<tr>\n",
       "              <td></td>                 <th>coef</th>     <th>std err</th>      <th>t</th>      <th>P>|t|</th>  <th>[0.025</th>    <th>0.975]</th>  \n",
       "</tr>\n",
       "<tr>\n",
       "  <th>Intercept</th>                 <td> 1.658e+04</td> <td> 4616.247</td> <td>    3.592</td> <td> 0.000</td> <td> 7498.887</td> <td> 2.57e+04</td>\n",
       "</tr>\n",
       "<tr>\n",
       "  <th>flipper_length_mm</th>         <td> -171.6140</td> <td>   45.524</td> <td>   -3.770</td> <td> 0.000</td> <td> -261.169</td> <td>  -82.059</td>\n",
       "</tr>\n",
       "<tr>\n",
       "  <th>I(flipper_length_mm ** 2)</th> <td>    0.5449</td> <td>    0.112</td> <td>    4.874</td> <td> 0.000</td> <td>    0.325</td> <td>    0.765</td>\n",
       "</tr>\n",
       "</table>\n",
       "<table class=\"simpletable\">\n",
       "<tr>\n",
       "  <th>Omnibus:</th>       <td>10.746</td> <th>  Durbin-Watson:     </th> <td>   2.214</td>\n",
       "</tr>\n",
       "<tr>\n",
       "  <th>Prob(Omnibus):</th> <td> 0.005</td> <th>  Jarque-Bera (JB):  </th> <td>  10.985</td>\n",
       "</tr>\n",
       "<tr>\n",
       "  <th>Skew:</th>          <td> 0.441</td> <th>  Prob(JB):          </th> <td> 0.00412</td>\n",
       "</tr>\n",
       "<tr>\n",
       "  <th>Kurtosis:</th>      <td> 3.119</td> <th>  Cond. No.          </th> <td>9.07e+06</td>\n",
       "</tr>\n",
       "</table><br/><br/>Notes:<br/>[1] Standard Errors assume that the covariance matrix of the errors is correctly specified.<br/>[2] The condition number is large, 9.07e+06. This might indicate that there are<br/>strong multicollinearity or other numerical problems."
      ],
      "text/latex": [
       "\\begin{center}\n",
       "\\begin{tabular}{lclc}\n",
       "\\toprule\n",
       "\\textbf{Dep. Variable:}              &  body\\_mass\\_g   & \\textbf{  R-squared:         } &     0.778   \\\\\n",
       "\\textbf{Model:}                      &       OLS        & \\textbf{  Adj. R-squared:    } &     0.777   \\\\\n",
       "\\textbf{Method:}                     &  Least Squares   & \\textbf{  F-statistic:       } &     578.5   \\\\\n",
       "\\textbf{Date:}                       & Tue, 26 Aug 2025 & \\textbf{  Prob (F-statistic):} & 1.34e-108   \\\\\n",
       "\\textbf{Time:}                       &     10:12:55     & \\textbf{  Log-Likelihood:    } &   -2449.5   \\\\\n",
       "\\textbf{No. Observations:}           &         333      & \\textbf{  AIC:               } &     4905.   \\\\\n",
       "\\textbf{Df Residuals:}               &         330      & \\textbf{  BIC:               } &     4916.   \\\\\n",
       "\\textbf{Df Model:}                   &           2      & \\textbf{                     } &             \\\\\n",
       "\\textbf{Covariance Type:}            &    nonrobust     & \\textbf{                     } &             \\\\\n",
       "\\bottomrule\n",
       "\\end{tabular}\n",
       "\\begin{tabular}{lcccccc}\n",
       "                                     & \\textbf{coef} & \\textbf{std err} & \\textbf{t} & \\textbf{P$> |$t$|$} & \\textbf{[0.025} & \\textbf{0.975]}  \\\\\n",
       "\\midrule\n",
       "\\textbf{Intercept}                   &    1.658e+04  &     4616.247     &     3.592  &         0.000        &     7498.887    &     2.57e+04     \\\\\n",
       "\\textbf{flipper\\_length\\_mm}         &    -171.6140  &       45.524     &    -3.770  &         0.000        &     -261.169    &      -82.059     \\\\\n",
       "\\textbf{I(flipper\\_length\\_mm ** 2)} &       0.5449  &        0.112     &     4.874  &         0.000        &        0.325    &        0.765     \\\\\n",
       "\\bottomrule\n",
       "\\end{tabular}\n",
       "\\begin{tabular}{lclc}\n",
       "\\textbf{Omnibus:}       & 10.746 & \\textbf{  Durbin-Watson:     } &    2.214  \\\\\n",
       "\\textbf{Prob(Omnibus):} &  0.005 & \\textbf{  Jarque-Bera (JB):  } &   10.985  \\\\\n",
       "\\textbf{Skew:}          &  0.441 & \\textbf{  Prob(JB):          } &  0.00412  \\\\\n",
       "\\textbf{Kurtosis:}      &  3.119 & \\textbf{  Cond. No.          } & 9.07e+06  \\\\\n",
       "\\bottomrule\n",
       "\\end{tabular}\n",
       "%\\caption{OLS Regression Results}\n",
       "\\end{center}\n",
       "\n",
       "Notes: \\newline\n",
       " [1] Standard Errors assume that the covariance matrix of the errors is correctly specified. \\newline\n",
       " [2] The condition number is large, 9.07e+06. This might indicate that there are \\newline\n",
       " strong multicollinearity or other numerical problems."
      ],
      "text/plain": [
       "<class 'statsmodels.iolib.summary.Summary'>\n",
       "\"\"\"\n",
       "                            OLS Regression Results                            \n",
       "==============================================================================\n",
       "Dep. Variable:            body_mass_g   R-squared:                       0.778\n",
       "Model:                            OLS   Adj. R-squared:                  0.777\n",
       "Method:                 Least Squares   F-statistic:                     578.5\n",
       "Date:                Tue, 26 Aug 2025   Prob (F-statistic):          1.34e-108\n",
       "Time:                        10:12:55   Log-Likelihood:                -2449.5\n",
       "No. Observations:                 333   AIC:                             4905.\n",
       "Df Residuals:                     330   BIC:                             4916.\n",
       "Df Model:                           2                                         \n",
       "Covariance Type:            nonrobust                                         \n",
       "=============================================================================================\n",
       "                                coef    std err          t      P>|t|      [0.025      0.975]\n",
       "---------------------------------------------------------------------------------------------\n",
       "Intercept                  1.658e+04   4616.247      3.592      0.000    7498.887    2.57e+04\n",
       "flipper_length_mm          -171.6140     45.524     -3.770      0.000    -261.169     -82.059\n",
       "I(flipper_length_mm ** 2)     0.5449      0.112      4.874      0.000       0.325       0.765\n",
       "==============================================================================\n",
       "Omnibus:                       10.746   Durbin-Watson:                   2.214\n",
       "Prob(Omnibus):                  0.005   Jarque-Bera (JB):               10.985\n",
       "Skew:                           0.441   Prob(JB):                      0.00412\n",
       "Kurtosis:                       3.119   Cond. No.                     9.07e+06\n",
       "==============================================================================\n",
       "\n",
       "Notes:\n",
       "[1] Standard Errors assume that the covariance matrix of the errors is correctly specified.\n",
       "[2] The condition number is large, 9.07e+06. This might indicate that there are\n",
       "strong multicollinearity or other numerical problems.\n",
       "\"\"\""
      ]
     },
     "execution_count": 44,
     "metadata": {},
     "output_type": "execute_result"
    }
   ],
   "source": [
    "lm_fit.summary()"
   ]
  },
  {
   "cell_type": "markdown",
   "id": "8129d9d3",
   "metadata": {},
   "source": [
    "### The `.params` attribute stores the coefficient estimates as they minimize the sum of squared errors."
   ]
  },
  {
   "cell_type": "markdown",
   "id": "19a84cb2",
   "metadata": {},
   "source": [
    "* The intercept is 16,579.87, which represents the baseline predicted body mass when both flipper length and its square are zero.\n",
    "\n",
    "* The coefficient for `flipper_length_mm` is -171.61, indicating that for every additional millimeter in flipper length, body mass decreases by about 171.61 grams, before considering the quadratic effect.\n",
    "\n",
    "* The coefficient for the squared term, `I(flipper_length_mm ** 2)`, is 0.54, meaning that for every unit increase in the square of flipper length, body mass increases by 0.54 grams, introducing an upward-curving effect.\n",
    "\n",
    "* The presence of the positive squared term (0.54) shows that the relationship between flipper length and body mass is quadratic and curves upward, rather than being strictly linear."
   ]
  },
  {
   "cell_type": "code",
   "execution_count": 45,
   "id": "2c9f4e8a",
   "metadata": {},
   "outputs": [
    {
     "data": {
      "text/plain": [
       "Intercept                    16579.869215\n",
       "flipper_length_mm             -171.613976\n",
       "I(flipper_length_mm ** 2)        0.544948\n",
       "dtype: float64"
      ]
     },
     "execution_count": 45,
     "metadata": {},
     "output_type": "execute_result"
    }
   ],
   "source": [
    "lm_fit.params"
   ]
  },
  {
   "cell_type": "markdown",
   "id": "f4495e5d",
   "metadata": {},
   "source": [
    "### The standard error on the estimate is contained in the `.bse` attribute."
   ]
  },
  {
   "cell_type": "markdown",
   "id": "c9412aa6",
   "metadata": {},
   "source": [
    "* The standard error for the intercept is 4,616.25, indicating the level of uncertainty in estimating the baseline predicted body mass.\n",
    "\n",
    "* The standard error for the `flipper_length_mm` coefficient is 45.52, quantifying the variability in the estimate of the linear effect of flipper length on body mass.\n",
    "\n",
    "* The standard error for the squared term, `I(flipper_length_mm ** 2)`, is 0.11, reflecting the precision of the estimate for the quadratic effect."
   ]
  },
  {
   "cell_type": "code",
   "execution_count": 46,
   "id": "15a5eae4",
   "metadata": {},
   "outputs": [
    {
     "data": {
      "text/plain": [
       "Intercept                    4616.246647\n",
       "flipper_length_mm              45.524470\n",
       "I(flipper_length_mm ** 2)       0.111807\n",
       "dtype: float64"
      ]
     },
     "execution_count": 46,
     "metadata": {},
     "output_type": "execute_result"
    }
   ],
   "source": [
    "lm_fit.bse"
   ]
  },
  {
   "cell_type": "markdown",
   "id": "03b9a882",
   "metadata": {},
   "source": [
    "### We can use the $\\pm1$ and $\\pm2$ standard error intervals to know how trustworthy the estimate is."
   ]
  },
  {
   "cell_type": "markdown",
   "id": "ea6125fb",
   "metadata": {},
   "source": [
    "* We are 95% confident that the intercept is somewhere between 7,498.89 and 25,660.85 grams.\n",
    "\n",
    "* We are 95% confident that the coefficient for `flipper_length_mm` is somewhere between –261.17 and –82.06 grams per millimeter.\n",
    "\n",
    "* We are 95% confident that the coefficient for the quadratic term `(I(flipper_length_mm ** 2))` is somewhere between 0.33 and 0.76.\n",
    "\n",
    "* These are exact confidence intervals calculated by `.conf_int()` rather than approximate intervals based on standard errors."
   ]
  },
  {
   "cell_type": "code",
   "execution_count": 47,
   "id": "1b369cae",
   "metadata": {},
   "outputs": [
    {
     "data": {
      "text/plain": [
       "Intercept                    7347.375921\n",
       "flipper_length_mm            -262.662917\n",
       "I(flipper_length_mm ** 2)       0.321333\n",
       "dtype: float64"
      ]
     },
     "execution_count": 47,
     "metadata": {},
     "output_type": "execute_result"
    }
   ],
   "source": [
    "lm_fit.params - 2 * lm_fit.bse"
   ]
  },
  {
   "cell_type": "code",
   "execution_count": 48,
   "id": "005452af",
   "metadata": {},
   "outputs": [
    {
     "data": {
      "text/plain": [
       "Intercept                    25812.362509\n",
       "flipper_length_mm              -80.565036\n",
       "I(flipper_length_mm ** 2)        0.768562\n",
       "dtype: float64"
      ]
     },
     "execution_count": 48,
     "metadata": {},
     "output_type": "execute_result"
    }
   ],
   "source": [
    "lm_fit.params + 2 * lm_fit.bse"
   ]
  },
  {
   "cell_type": "code",
   "execution_count": 49,
   "id": "0592f109",
   "metadata": {},
   "outputs": [
    {
     "data": {
      "text/html": [
       "<div>\n",
       "<style scoped>\n",
       "    .dataframe tbody tr th:only-of-type {\n",
       "        vertical-align: middle;\n",
       "    }\n",
       "\n",
       "    .dataframe tbody tr th {\n",
       "        vertical-align: top;\n",
       "    }\n",
       "\n",
       "    .dataframe thead th {\n",
       "        text-align: right;\n",
       "    }\n",
       "</style>\n",
       "<table border=\"1\" class=\"dataframe\">\n",
       "  <thead>\n",
       "    <tr style=\"text-align: right;\">\n",
       "      <th></th>\n",
       "      <th>ci_lwr</th>\n",
       "      <th>ci_upr</th>\n",
       "    </tr>\n",
       "  </thead>\n",
       "  <tbody>\n",
       "    <tr>\n",
       "      <th>Intercept</th>\n",
       "      <td>7498.887253</td>\n",
       "      <td>25660.851176</td>\n",
       "    </tr>\n",
       "    <tr>\n",
       "      <th>flipper_length_mm</th>\n",
       "      <td>-261.168743</td>\n",
       "      <td>-82.059210</td>\n",
       "    </tr>\n",
       "    <tr>\n",
       "      <th>I(flipper_length_mm ** 2)</th>\n",
       "      <td>0.325003</td>\n",
       "      <td>0.764892</td>\n",
       "    </tr>\n",
       "  </tbody>\n",
       "</table>\n",
       "</div>"
      ],
      "text/plain": [
       "                                ci_lwr        ci_upr\n",
       "Intercept                  7498.887253  25660.851176\n",
       "flipper_length_mm          -261.168743    -82.059210\n",
       "I(flipper_length_mm ** 2)     0.325003      0.764892"
      ]
     },
     "execution_count": 49,
     "metadata": {},
     "output_type": "execute_result"
    }
   ],
   "source": [
    "lm_fit.conf_int(). \\\n",
    "       rename(columns={0: 'ci_lwr',\n",
    "                       1: 'ci_upr'})"
   ]
  },
  {
   "cell_type": "markdown",
   "id": "c46a8977",
   "metadata": {},
   "source": [
    "### The P-values for the coefficients are used to identify the **statistically significant** of the input."
   ]
  },
  {
   "cell_type": "markdown",
   "id": "e74646ed",
   "metadata": {},
   "source": [
    "* A **statistically significent** input one that has a **p-value** less than 0.05 which means if this is the case, we have a **statistically significient** input or feature.\n",
    "\n",
    "* These values are extremely small and much lower than 0.05 so they indicate very strong **statistical significance** for both parameters. "
   ]
  },
  {
   "cell_type": "code",
   "execution_count": 50,
   "id": "7fd18408",
   "metadata": {},
   "outputs": [
    {
     "data": {
      "text/plain": [
       "Intercept                    0.000379\n",
       "flipper_length_mm            0.000194\n",
       "I(flipper_length_mm ** 2)    0.000002\n",
       "dtype: float64"
      ]
     },
     "execution_count": 50,
     "metadata": {},
     "output_type": "execute_result"
    }
   ],
   "source": [
    "lm_fit.pvalues"
   ]
  },
  {
   "cell_type": "code",
   "execution_count": 51,
   "id": "dee983dd",
   "metadata": {},
   "outputs": [
    {
     "data": {
      "text/plain": [
       "Intercept                    True\n",
       "flipper_length_mm            True\n",
       "I(flipper_length_mm ** 2)    True\n",
       "dtype: bool"
      ]
     },
     "execution_count": 51,
     "metadata": {},
     "output_type": "execute_result"
    }
   ],
   "source": [
    "lm_fit.pvalues < 0.05"
   ]
  },
  {
   "cell_type": "markdown",
   "id": "2bcc3ebd",
   "metadata": {},
   "source": [
    "### Visualize the coefficient estimates as markers in a scatter plot and the confidence intervals as error bars. "
   ]
  },
  {
   "cell_type": "markdown",
   "id": "dfce87a3",
   "metadata": {},
   "source": [
    "* We are confident that the 95% confidence interval does NOT contain zero as both `flipper_length_mm` and the **intercept** are not touching the zero grey dotted line.\n",
    "\n",
    "* The **intercept** is **statistically significantly negative**; the **slope** is negative, and the `flipper_length_mm` is **statistically significantly positive**; the **slope** is positive.\n",
    "\n",
    "* **We are confident the slope is positive for the `flipper_length_mm`, therefore we are confident that the average output is increasing as the input or feature is increasing.**"
   ]
  },
  {
   "cell_type": "code",
   "execution_count": null,
   "id": "235a25f3",
   "metadata": {},
   "outputs": [],
   "source": [
    "def my_coefplot(\n",
    "    model,\n",
    "    var,\n",
    "    xerr_mult=2,\n",
    "    color='k',\n",
    "    ecolor='k',\n",
    "    elinewidth=2,\n",
    "    ms=10,\n",
    "    vline=0,\n",
    "    xlabel='coefficient value',\n",
    "    title=None,\n",
    "    figsize=(7, 2.5),\n",
    "    xlim=None):\n",
    "    \"\"\"\n",
    "    Plots a single coefficient with error bars from a statsmodels model.\n",
    "\n",
    "    Params:\n",
    "        model: fitted statsmodels model\n",
    "        var: variable name (str), e.g. 'Intercept' or 'I(flipper_length_mm ** 2)'\n",
    "        xerr_mult: multiplier for error bars (default 2)\n",
    "        color: marker color\n",
    "        ecolor: error bar color\n",
    "        elinewidth: error bar line width\n",
    "        ms: marker size\n",
    "        vline: where to draw the vertical reference line (default 0)\n",
    "        xlabel: x-axis label (default 'coefficient value')\n",
    "        title: figure title (default None, uses variable name)\n",
    "        figsize: tuple, figure size\n",
    "        xlim: tuple, x-axis limits (optional, auto if None)\n",
    "    \"\"\"\n",
    "    # Get coefficient and error values\n",
    "    coef = model.params[var]\n",
    "    err = xerr_mult * model.bse[var]\n",
    "\n",
    "    # Create the plot\n",
    "    _, ax = plt.subplots(figsize=figsize)\n",
    "    ax.errorbar(\n",
    "        y = [var],\n",
    "        x = [coef],\n",
    "        xerr = [err],\n",
    "        fmt='o',\n",
    "        color=color,\n",
    "        ecolor=ecolor,\n",
    "        elinewidth=elinewidth,\n",
    "        ms=ms\n",
    "    )\n",
    "\n",
    "    # Add vertical line for reference\n",
    "    ax.axvline(x=vline, \n",
    "               linestyle='--', \n",
    "               linewidth=4, \n",
    "               color='grey')\n",
    "    ax.set_xlabel(xlabel)\n",
    "    if title is None:\n",
    "        title = f\"Coefficient Plot for '{var}'\"\n",
    "    ax.set_title(title)\n",
    "\n",
    "    # Always include zero in xlim, and add padding around error bar\n",
    "    bar_left = min(coef - err, vline)\n",
    "    bar_right = max(coef + err, vline)\n",
    "    pad = (bar_right - bar_left) * 0.15 if (bar_right - bar_left) > 0 else 1\n",
    "    auto_xlim = (bar_left - pad, bar_right + pad)\n",
    "\n",
    "    # Set x-axis limits\n",
    "    if xlim is not None:\n",
    "        ax.set_xlim(*xlim)\n",
    "    else:\n",
    "        ax.set_xlim(*auto_xlim)\n",
    "\n",
    "    # Show the plot\n",
    "    plt.show()"
   ]
  },
  {
   "cell_type": "code",
   "execution_count": 53,
   "id": "977672c7",
   "metadata": {},
   "outputs": [
    {
     "data": {
      "image/png": "[encoded data removed]",
      "text/plain": [
       "<Figure size 700x250 with 1 Axes>"
      ]
     },
     "metadata": {},
     "output_type": "display_data"
    }
   ],
   "source": [
    "my_coefplot(lm_fit, var='Intercept')"
   ]
  },
  {
   "cell_type": "code",
   "execution_count": 54,
   "id": "0ff07702",
   "metadata": {},
   "outputs": [
    {
     "data": {
      "image/png": "[encoded data removed]",
      "text/plain": [
       "<Figure size 700x250 with 1 Axes>"
      ]
     },
     "metadata": {},
     "output_type": "display_data"
    }
   ],
   "source": [
    "my_coefplot(lm_fit, var='I(flipper_length_mm ** 2)')"
   ]
  }
 ],
 "metadata": {
  "kernelspec": {
   "display_name": "prod",
   "language": "python",
   "name": "python3"
  },
  "language_info": {
   "codemirror_mode": {
    "name": "ipython",
    "version": 3
   },
   "file_extension": ".py",
   "mimetype": "text/x-python",
   "name": "python",
   "nbconvert_exporter": "python",
   "pygments_lexer": "ipython3",
   "version": "3.12.7"
  }
 },
 "nbformat": 4,
 "nbformat_minor": 5
}

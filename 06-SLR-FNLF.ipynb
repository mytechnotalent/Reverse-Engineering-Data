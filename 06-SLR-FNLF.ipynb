{
 "cells": [
  {
   "cell_type": "markdown",
   "id": "844435e8",
   "metadata": {},
   "source": [
    "# Penguins Dataset Simple Linear Regression - Fitting Non-Linear Feature"
   ]
  },
  {
   "cell_type": "markdown",
   "id": "c6dc97bb",
   "metadata": {},
   "source": [
    "### [Penguins Dataset](https://seaborn.pydata.org/tutorial/introduction.html)\n",
    "\n",
    "Author: [Kevin Thomas](mailto:ket189@pitt.edu)"
   ]
  },
  {
   "cell_type": "markdown",
   "id": "0600d4b0",
   "metadata": {},
   "source": [
    "## Citation"
   ]
  },
  {
   "cell_type": "markdown",
   "id": "ec57b3f7",
   "metadata": {},
   "source": [
    "[1] Allison Horst, https://github.com/allisonhorst/palmerpenguins"
   ]
  },
  {
   "cell_type": "markdown",
   "id": "2281e96c",
   "metadata": {},
   "source": [
    "## Import Modules"
   ]
  },
  {
   "cell_type": "code",
   "execution_count": 217,
   "id": "4d6f2076",
   "metadata": {},
   "outputs": [],
   "source": [
    "import pandas as pd\n",
    "import matplotlib.pyplot as plt\n",
    "import seaborn as sns\n",
    "from sklearn.preprocessing import StandardScaler\n",
    "import statsmodels.formula.api as smf"
   ]
  },
  {
   "cell_type": "markdown",
   "id": "4c514e3a",
   "metadata": {},
   "source": [
    "## Load Dataset"
   ]
  },
  {
   "cell_type": "code",
   "execution_count": 218,
   "id": "66ef5697",
   "metadata": {},
   "outputs": [],
   "source": [
    "df = sns.load_dataset('penguins')"
   ]
  },
  {
   "cell_type": "markdown",
   "id": "5163b8a3",
   "metadata": {},
   "source": [
    "## Perform Essential Exploration & Data Cleaning"
   ]
  },
  {
   "cell_type": "markdown",
   "id": "a1590e07",
   "metadata": {},
   "source": [
    "### Display the initial number of rows and columns."
   ]
  },
  {
   "cell_type": "code",
   "execution_count": 219,
   "id": "b8f077b4",
   "metadata": {},
   "outputs": [
    {
     "data": {
      "text/plain": [
       "(344, 7)"
      ]
     },
     "execution_count": 219,
     "metadata": {},
     "output_type": "execute_result"
    }
   ],
   "source": [
    "df.shape"
   ]
  },
  {
   "cell_type": "markdown",
   "id": "685417c9",
   "metadata": {},
   "source": [
    "### Display the initial variable names and their associated data types."
   ]
  },
  {
   "cell_type": "code",
   "execution_count": 220,
   "id": "13c65303",
   "metadata": {},
   "outputs": [
    {
     "data": {
      "text/plain": [
       "species               object\n",
       "island                object\n",
       "bill_length_mm       float64\n",
       "bill_depth_mm        float64\n",
       "flipper_length_mm    float64\n",
       "body_mass_g          float64\n",
       "sex                   object\n",
       "dtype: object"
      ]
     },
     "execution_count": 220,
     "metadata": {},
     "output_type": "execute_result"
    }
   ],
   "source": [
    "df.dtypes"
   ]
  },
  {
   "cell_type": "markdown",
   "id": "02b99681",
   "metadata": {},
   "source": [
    "### Display the number of missing values for each column, remove the missing values and create a clean copy of the dataset."
   ]
  },
  {
   "cell_type": "code",
   "execution_count": 221,
   "id": "84e422e2",
   "metadata": {},
   "outputs": [
    {
     "data": {
      "text/plain": [
       "species               0\n",
       "island                0\n",
       "bill_length_mm        2\n",
       "bill_depth_mm         2\n",
       "flipper_length_mm     2\n",
       "body_mass_g           2\n",
       "sex                  11\n",
       "dtype: int64"
      ]
     },
     "execution_count": 221,
     "metadata": {},
     "output_type": "execute_result"
    }
   ],
   "source": [
    "df.isna().sum()"
   ]
  },
  {
   "cell_type": "code",
   "execution_count": 222,
   "id": "1b2cb9b6",
   "metadata": {},
   "outputs": [],
   "source": [
    "df_clean = df.dropna().copy()"
   ]
  },
  {
   "cell_type": "code",
   "execution_count": 223,
   "id": "de1a645c",
   "metadata": {},
   "outputs": [
    {
     "data": {
      "text/plain": [
       "species              0\n",
       "island               0\n",
       "bill_length_mm       0\n",
       "bill_depth_mm        0\n",
       "flipper_length_mm    0\n",
       "body_mass_g          0\n",
       "sex                  0\n",
       "dtype: int64"
      ]
     },
     "execution_count": 223,
     "metadata": {},
     "output_type": "execute_result"
    }
   ],
   "source": [
    "df_clean.isna().sum()"
   ]
  },
  {
   "cell_type": "markdown",
   "id": "cff95f5e",
   "metadata": {},
   "source": [
    "### Display the number of unique values for each column after removing missing data and before initial exploration."
   ]
  },
  {
   "cell_type": "code",
   "execution_count": 224,
   "id": "e66f53c5",
   "metadata": {},
   "outputs": [
    {
     "data": {
      "text/plain": [
       "species                3\n",
       "island                 3\n",
       "bill_length_mm       163\n",
       "bill_depth_mm         79\n",
       "flipper_length_mm     54\n",
       "body_mass_g           93\n",
       "sex                    2\n",
       "dtype: int64"
      ]
     },
     "execution_count": 224,
     "metadata": {},
     "output_type": "execute_result"
    }
   ],
   "source": [
    "df_clean.nunique()"
   ]
  },
  {
   "cell_type": "markdown",
   "id": "a87dd02c",
   "metadata": {},
   "source": [
    "### Display the number of unique values for the categorical variables after removing missing data and before initial exploration."
   ]
  },
  {
   "cell_type": "code",
   "execution_count": 225,
   "id": "f1f0cf3e",
   "metadata": {},
   "outputs": [
    {
     "data": {
      "text/plain": [
       "species    3\n",
       "island     3\n",
       "sex        2\n",
       "dtype: int64"
      ]
     },
     "execution_count": 225,
     "metadata": {},
     "output_type": "execute_result"
    }
   ],
   "source": [
    "df_clean.select_dtypes(exclude='number').nunique()"
   ]
  },
  {
   "cell_type": "markdown",
   "id": "f8fa0f40",
   "metadata": {},
   "source": [
    "### Display the number of unique values for the continuous variables after removing missing data and before initial exploration."
   ]
  },
  {
   "cell_type": "code",
   "execution_count": 226,
   "id": "3e14cb3f",
   "metadata": {},
   "outputs": [
    {
     "data": {
      "text/plain": [
       "bill_length_mm       163\n",
       "bill_depth_mm         79\n",
       "flipper_length_mm     54\n",
       "body_mass_g           93\n",
       "dtype: int64"
      ]
     },
     "execution_count": 226,
     "metadata": {},
     "output_type": "execute_result"
    }
   ],
   "source": [
    "df_clean.select_dtypes(include='number').nunique()"
   ]
  },
  {
   "cell_type": "markdown",
   "id": "dc3eb43a",
   "metadata": {},
   "source": [
    "## Data Standardization"
   ]
  },
  {
   "cell_type": "markdown",
   "id": "7cdec1c1",
   "metadata": {},
   "source": [
    "### Examine raw numeric features magnitude and scale."
   ]
  },
  {
   "cell_type": "markdown",
   "id": "04b49c75",
   "metadata": {},
   "source": [
    "The actual values in the boxplot represent the distributions of the penguin dataset’s numeric features: bill length (mm), bill depth (mm), flipper length (mm), and body mass (g). The plot shows that body mass is on a much larger scale than the other features, indicating that its values are much higher (in grams) compared to the millimeter measurements of the other features, which is important for understanding feature scaling and the need for standardization in data analysis."
   ]
  },
  {
   "cell_type": "code",
   "execution_count": 227,
   "id": "ea628af4",
   "metadata": {},
   "outputs": [
    {
     "data": {
      "text/html": [
       "<div>\n",
       "<style scoped>\n",
       "    .dataframe tbody tr th:only-of-type {\n",
       "        vertical-align: middle;\n",
       "    }\n",
       "\n",
       "    .dataframe tbody tr th {\n",
       "        vertical-align: top;\n",
       "    }\n",
       "\n",
       "    .dataframe thead th {\n",
       "        text-align: right;\n",
       "    }\n",
       "</style>\n",
       "<table border=\"1\" class=\"dataframe\">\n",
       "  <thead>\n",
       "    <tr style=\"text-align: right;\">\n",
       "      <th></th>\n",
       "      <th>bill_length_mm</th>\n",
       "      <th>bill_depth_mm</th>\n",
       "      <th>flipper_length_mm</th>\n",
       "      <th>body_mass_g</th>\n",
       "    </tr>\n",
       "  </thead>\n",
       "  <tbody>\n",
       "    <tr>\n",
       "      <th>count</th>\n",
       "      <td>333.000000</td>\n",
       "      <td>333.000000</td>\n",
       "      <td>333.000000</td>\n",
       "      <td>333.000000</td>\n",
       "    </tr>\n",
       "    <tr>\n",
       "      <th>mean</th>\n",
       "      <td>43.992793</td>\n",
       "      <td>17.164865</td>\n",
       "      <td>200.966967</td>\n",
       "      <td>4207.057057</td>\n",
       "    </tr>\n",
       "    <tr>\n",
       "      <th>std</th>\n",
       "      <td>5.468668</td>\n",
       "      <td>1.969235</td>\n",
       "      <td>14.015765</td>\n",
       "      <td>805.215802</td>\n",
       "    </tr>\n",
       "    <tr>\n",
       "      <th>min</th>\n",
       "      <td>32.100000</td>\n",
       "      <td>13.100000</td>\n",
       "      <td>172.000000</td>\n",
       "      <td>2700.000000</td>\n",
       "    </tr>\n",
       "    <tr>\n",
       "      <th>25%</th>\n",
       "      <td>39.500000</td>\n",
       "      <td>15.600000</td>\n",
       "      <td>190.000000</td>\n",
       "      <td>3550.000000</td>\n",
       "    </tr>\n",
       "    <tr>\n",
       "      <th>50%</th>\n",
       "      <td>44.500000</td>\n",
       "      <td>17.300000</td>\n",
       "      <td>197.000000</td>\n",
       "      <td>4050.000000</td>\n",
       "    </tr>\n",
       "    <tr>\n",
       "      <th>75%</th>\n",
       "      <td>48.600000</td>\n",
       "      <td>18.700000</td>\n",
       "      <td>213.000000</td>\n",
       "      <td>4775.000000</td>\n",
       "    </tr>\n",
       "    <tr>\n",
       "      <th>max</th>\n",
       "      <td>59.600000</td>\n",
       "      <td>21.500000</td>\n",
       "      <td>231.000000</td>\n",
       "      <td>6300.000000</td>\n",
       "    </tr>\n",
       "  </tbody>\n",
       "</table>\n",
       "</div>"
      ],
      "text/plain": [
       "       bill_length_mm  bill_depth_mm  flipper_length_mm  body_mass_g\n",
       "count      333.000000     333.000000         333.000000   333.000000\n",
       "mean        43.992793      17.164865         200.966967  4207.057057\n",
       "std          5.468668       1.969235          14.015765   805.215802\n",
       "min         32.100000      13.100000         172.000000  2700.000000\n",
       "25%         39.500000      15.600000         190.000000  3550.000000\n",
       "50%         44.500000      17.300000         197.000000  4050.000000\n",
       "75%         48.600000      18.700000         213.000000  4775.000000\n",
       "max         59.600000      21.500000         231.000000  6300.000000"
      ]
     },
     "execution_count": 227,
     "metadata": {},
     "output_type": "execute_result"
    }
   ],
   "source": [
    "df_clean.describe()"
   ]
  },
  {
   "cell_type": "code",
   "execution_count": 228,
   "id": "90b5696b",
   "metadata": {},
   "outputs": [
    {
     "data": {
      "image/png": "[encoded data removed]",
      "text/plain": [
       "<Figure size 1000x500 with 1 Axes>"
      ]
     },
     "metadata": {},
     "output_type": "display_data"
    }
   ],
   "source": [
    "sns.catplot(data=df_clean, \n",
    "            kind='box', \n",
    "            aspect=2)\n",
    "plt.show()"
   ]
  },
  {
   "cell_type": "markdown",
   "id": "0efb3b08",
   "metadata": {},
   "source": [
    "### Prepare the dataset by extracting our numeric features."
   ]
  },
  {
   "cell_type": "code",
   "execution_count": 229,
   "id": "be3e8e5e",
   "metadata": {},
   "outputs": [],
   "source": [
    "df_clean_features = df_clean.select_dtypes('number').\\\n",
    "                             copy()"
   ]
  },
  {
   "cell_type": "markdown",
   "id": "26ff147d",
   "metadata": {},
   "source": [
    "### Standardize the numeric features."
   ]
  },
  {
   "cell_type": "code",
   "execution_count": 230,
   "id": "648f58cd",
   "metadata": {},
   "outputs": [],
   "source": [
    "X = StandardScaler().fit_transform(df_clean_features)"
   ]
  },
  {
   "cell_type": "markdown",
   "id": "52804504",
   "metadata": {},
   "source": [
    "### Examine standarized numeric features magnitude and scale."
   ]
  },
  {
   "cell_type": "markdown",
   "id": "4ad8c2ab",
   "metadata": {},
   "source": [
    "After standardization, all numeric features (bill length, bill depth, flipper length, and body mass) have similar distributions centered around zero with comparable spread, indicating that differences in scale have been removed and the features are now suitable for clustering and other analyses that assume equal variance."
   ]
  },
  {
   "cell_type": "code",
   "execution_count": 231,
   "id": "846a156e",
   "metadata": {},
   "outputs": [
    {
     "data": {
      "image/png": "[encoded data removed]",
      "text/plain": [
       "<Figure size 1000x500 with 1 Axes>"
      ]
     },
     "metadata": {},
     "output_type": "display_data"
    }
   ],
   "source": [
    "sns.catplot(data=pd.DataFrame(X, \n",
    "                              columns=df_clean_features.columns), \n",
    "                              kind='box', \n",
    "                              aspect=2)\n",
    "plt.show()"
   ]
  },
  {
   "cell_type": "markdown",
   "id": "af68bc7c",
   "metadata": {},
   "source": [
    "## Simple Linear Regression - Fitting a Non-Linear Feature"
   ]
  },
  {
   "cell_type": "markdown",
   "id": "d03f4088",
   "metadata": {},
   "source": [
    "### We will fit a linear model between the input `flipper_length_mm` and the output `body_mass_g` assuming a non-linear relationship between the trend and the input."
   ]
  },
  {
   "cell_type": "markdown",
   "id": "ec06ba02",
   "metadata": {},
   "source": [
    "$\\mu = \\beta_0 + \\beta_1 \\times x^2$\n",
    "\n",
    "$\\mu$ **predicted trend**\n",
    "\n",
    "$\\beta_0$ **intercept**: value of $\\mu$ when $x = 0$\n",
    "\n",
    "$\\beta_1$ **quadratic effect**: change in $\\mu$ for a one-unit increase in $x^2$\n",
    "\n",
    "$x$ **feature** or **input variable**: independent variable used to predict $\\mu$"
   ]
  },
  {
   "cell_type": "markdown",
   "id": "e9dc8c67",
   "metadata": {},
   "source": [
    "Let's fit the quadratic where the mean output is a function of the quadratic."
   ]
  },
  {
   "cell_type": "code",
   "execution_count": 232,
   "id": "18548ba7",
   "metadata": {},
   "outputs": [],
   "source": [
    "lm_fit = smf.ols(formula='body_mass_g ~ I(flipper_length_mm ** 2)', \n",
    "                 data=df_clean). \\\n",
    "                 fit()"
   ]
  },
  {
   "cell_type": "code",
   "execution_count": 233,
   "id": "d64dbe93",
   "metadata": {},
   "outputs": [
    {
     "data": {
      "text/html": [
       "<table class=\"simpletable\">\n",
       "<caption>OLS Regression Results</caption>\n",
       "<tr>\n",
       "  <th>Dep. Variable:</th>       <td>body_mass_g</td>   <th>  R-squared:         </th> <td>   0.769</td> \n",
       "</tr>\n",
       "<tr>\n",
       "  <th>Model:</th>                   <td>OLS</td>       <th>  Adj. R-squared:    </th> <td>   0.768</td> \n",
       "</tr>\n",
       "<tr>\n",
       "  <th>Method:</th>             <td>Least Squares</td>  <th>  F-statistic:       </th> <td>   1099.</td> \n",
       "</tr>\n",
       "<tr>\n",
       "  <th>Date:</th>             <td>Sun, 24 Aug 2025</td> <th>  Prob (F-statistic):</th> <td>3.37e-107</td>\n",
       "</tr>\n",
       "<tr>\n",
       "  <th>Time:</th>                 <td>18:49:42</td>     <th>  Log-Likelihood:    </th> <td> -2456.5</td> \n",
       "</tr>\n",
       "<tr>\n",
       "  <th>No. Observations:</th>      <td>   333</td>      <th>  AIC:               </th> <td>   4917.</td> \n",
       "</tr>\n",
       "<tr>\n",
       "  <th>Df Residuals:</th>          <td>   331</td>      <th>  BIC:               </th> <td>   4925.</td> \n",
       "</tr>\n",
       "<tr>\n",
       "  <th>Df Model:</th>              <td>     1</td>      <th>                     </th>     <td> </td>    \n",
       "</tr>\n",
       "<tr>\n",
       "  <th>Covariance Type:</th>      <td>nonrobust</td>    <th>                     </th>     <td> </td>    \n",
       "</tr>\n",
       "</table>\n",
       "<table class=\"simpletable\">\n",
       "<tr>\n",
       "              <td></td>                 <th>coef</th>     <th>std err</th>      <th>t</th>      <th>P>|t|</th>  <th>[0.025</th>    <th>0.975]</th>  \n",
       "</tr>\n",
       "<tr>\n",
       "  <th>Intercept</th>                 <td> -812.8505</td> <td>  152.919</td> <td>   -5.316</td> <td> 0.000</td> <td>-1113.666</td> <td> -512.036</td>\n",
       "</tr>\n",
       "<tr>\n",
       "  <th>I(flipper_length_mm ** 2)</th> <td>    0.1237</td> <td>    0.004</td> <td>   33.149</td> <td> 0.000</td> <td>    0.116</td> <td>    0.131</td>\n",
       "</tr>\n",
       "</table>\n",
       "<table class=\"simpletable\">\n",
       "<tr>\n",
       "  <th>Omnibus:</th>       <td> 7.039</td> <th>  Durbin-Watson:     </th> <td>   2.126</td>\n",
       "</tr>\n",
       "<tr>\n",
       "  <th>Prob(Omnibus):</th> <td> 0.030</td> <th>  Jarque-Bera (JB):  </th> <td>   7.001</td>\n",
       "</tr>\n",
       "<tr>\n",
       "  <th>Skew:</th>          <td> 0.354</td> <th>  Prob(JB):          </th> <td>  0.0302</td>\n",
       "</tr>\n",
       "<tr>\n",
       "  <th>Kurtosis:</th>      <td> 3.063</td> <th>  Cond. No.          </th> <td>2.95e+05</td>\n",
       "</tr>\n",
       "</table><br/><br/>Notes:<br/>[1] Standard Errors assume that the covariance matrix of the errors is correctly specified.<br/>[2] The condition number is large, 2.95e+05. This might indicate that there are<br/>strong multicollinearity or other numerical problems."
      ],
      "text/latex": [
       "\\begin{center}\n",
       "\\begin{tabular}{lclc}\n",
       "\\toprule\n",
       "\\textbf{Dep. Variable:}              &  body\\_mass\\_g   & \\textbf{  R-squared:         } &     0.769   \\\\\n",
       "\\textbf{Model:}                      &       OLS        & \\textbf{  Adj. R-squared:    } &     0.768   \\\\\n",
       "\\textbf{Method:}                     &  Least Squares   & \\textbf{  F-statistic:       } &     1099.   \\\\\n",
       "\\textbf{Date:}                       & Sun, 24 Aug 2025 & \\textbf{  Prob (F-statistic):} & 3.37e-107   \\\\\n",
       "\\textbf{Time:}                       &     18:49:42     & \\textbf{  Log-Likelihood:    } &   -2456.5   \\\\\n",
       "\\textbf{No. Observations:}           &         333      & \\textbf{  AIC:               } &     4917.   \\\\\n",
       "\\textbf{Df Residuals:}               &         331      & \\textbf{  BIC:               } &     4925.   \\\\\n",
       "\\textbf{Df Model:}                   &           1      & \\textbf{                     } &             \\\\\n",
       "\\textbf{Covariance Type:}            &    nonrobust     & \\textbf{                     } &             \\\\\n",
       "\\bottomrule\n",
       "\\end{tabular}\n",
       "\\begin{tabular}{lcccccc}\n",
       "                                     & \\textbf{coef} & \\textbf{std err} & \\textbf{t} & \\textbf{P$> |$t$|$} & \\textbf{[0.025} & \\textbf{0.975]}  \\\\\n",
       "\\midrule\n",
       "\\textbf{Intercept}                   &    -812.8505  &      152.919     &    -5.316  &         0.000        &    -1113.666    &     -512.036     \\\\\n",
       "\\textbf{I(flipper\\_length\\_mm ** 2)} &       0.1237  &        0.004     &    33.149  &         0.000        &        0.116    &        0.131     \\\\\n",
       "\\bottomrule\n",
       "\\end{tabular}\n",
       "\\begin{tabular}{lclc}\n",
       "\\textbf{Omnibus:}       &  7.039 & \\textbf{  Durbin-Watson:     } &    2.126  \\\\\n",
       "\\textbf{Prob(Omnibus):} &  0.030 & \\textbf{  Jarque-Bera (JB):  } &    7.001  \\\\\n",
       "\\textbf{Skew:}          &  0.354 & \\textbf{  Prob(JB):          } &   0.0302  \\\\\n",
       "\\textbf{Kurtosis:}      &  3.063 & \\textbf{  Cond. No.          } & 2.95e+05  \\\\\n",
       "\\bottomrule\n",
       "\\end{tabular}\n",
       "%\\caption{OLS Regression Results}\n",
       "\\end{center}\n",
       "\n",
       "Notes: \\newline\n",
       " [1] Standard Errors assume that the covariance matrix of the errors is correctly specified. \\newline\n",
       " [2] The condition number is large, 2.95e+05. This might indicate that there are \\newline\n",
       " strong multicollinearity or other numerical problems."
      ],
      "text/plain": [
       "<class 'statsmodels.iolib.summary.Summary'>\n",
       "\"\"\"\n",
       "                            OLS Regression Results                            \n",
       "==============================================================================\n",
       "Dep. Variable:            body_mass_g   R-squared:                       0.769\n",
       "Model:                            OLS   Adj. R-squared:                  0.768\n",
       "Method:                 Least Squares   F-statistic:                     1099.\n",
       "Date:                Sun, 24 Aug 2025   Prob (F-statistic):          3.37e-107\n",
       "Time:                        18:49:42   Log-Likelihood:                -2456.5\n",
       "No. Observations:                 333   AIC:                             4917.\n",
       "Df Residuals:                     331   BIC:                             4925.\n",
       "Df Model:                           1                                         \n",
       "Covariance Type:            nonrobust                                         \n",
       "=============================================================================================\n",
       "                                coef    std err          t      P>|t|      [0.025      0.975]\n",
       "---------------------------------------------------------------------------------------------\n",
       "Intercept                  -812.8505    152.919     -5.316      0.000   -1113.666    -512.036\n",
       "I(flipper_length_mm ** 2)     0.1237      0.004     33.149      0.000       0.116       0.131\n",
       "==============================================================================\n",
       "Omnibus:                        7.039   Durbin-Watson:                   2.126\n",
       "Prob(Omnibus):                  0.030   Jarque-Bera (JB):                7.001\n",
       "Skew:                           0.354   Prob(JB):                       0.0302\n",
       "Kurtosis:                       3.063   Cond. No.                     2.95e+05\n",
       "==============================================================================\n",
       "\n",
       "Notes:\n",
       "[1] Standard Errors assume that the covariance matrix of the errors is correctly specified.\n",
       "[2] The condition number is large, 2.95e+05. This might indicate that there are\n",
       "strong multicollinearity or other numerical problems.\n",
       "\"\"\""
      ]
     },
     "execution_count": 233,
     "metadata": {},
     "output_type": "execute_result"
    }
   ],
   "source": [
    "lm_fit.summary()"
   ]
  },
  {
   "cell_type": "markdown",
   "id": "8129d9d3",
   "metadata": {},
   "source": [
    "### The `.params` attribute stores the coefficient estimates as they minimize the sum of squared errors."
   ]
  },
  {
   "cell_type": "markdown",
   "id": "19a84cb2",
   "metadata": {},
   "source": [
    "* The coefficient for the quadratic term (I(flipper_length_mm ** 2)), 0.124, describes how much the predicted body mass changes for each unit increase in the square of flipper length. This means as flipper length increases, the effect on body mass grows faster (nonlinearly).\n",
    "\n",
    "* The **intercept**, -812.85, is a mathematical result that helps position the curve but isn’t physically meaningful for penguins, since the data doesn’t include flipper lengths near zero (and a flipper length of zero isn’t realistic)."
   ]
  },
  {
   "cell_type": "code",
   "execution_count": 234,
   "id": "2c9f4e8a",
   "metadata": {},
   "outputs": [
    {
     "data": {
      "text/plain": [
       "Intercept                   -812.850523\n",
       "I(flipper_length_mm ** 2)      0.123693\n",
       "dtype: float64"
      ]
     },
     "execution_count": 234,
     "metadata": {},
     "output_type": "execute_result"
    }
   ],
   "source": [
    "lm_fit.params"
   ]
  },
  {
   "cell_type": "markdown",
   "id": "f4495e5d",
   "metadata": {},
   "source": [
    "### The standard error on the estimate is contained in the `.bse` attribute."
   ]
  },
  {
   "cell_type": "markdown",
   "id": "c9412aa6",
   "metadata": {},
   "source": [
    "* The **standard error** for the **intercept**, 152.92, indicates that if we repeatedly sampled penguins and fit the same quadratic model, the estimated starting body mass, -812.85 grams, would typically vary by about 153 grams between samples, reflecting the precision of this baseline estimate.\n",
    "\n",
    "* The **standard error** for the **quadratic coefficient** (I(flipper_length_mm ** 2)), 0.00373, means our estimate that each unit increase in the square of flipper length increases a penguin’s body mass by 0.124 grams is highly precise, with typical variation of only 0.00373 grams across samples.\n",
    "\n",
    "* These **standard errors** suggest that, for the penguins in the dataset, both the baseline body mass and the effect of the quadratic flipper length term are estimated with high **statistical confidence**.\n",
    "\n",
    "* They are considered to have high **statistical confidence** because the **standard errors** for both the **intercept**, 152.92 and the **quadratic coefficient**, 0.00373, are very small relative to their estimated values, -812.85 and 0.124, respectively.\n",
    "\n",
    "* This means that if you repeatedly sampled penguins and fit the same quadratic regression model, the estimates for the intercept and the quadratic term would vary only slightly from sample to sample."
   ]
  },
  {
   "cell_type": "code",
   "execution_count": 235,
   "id": "15a5eae4",
   "metadata": {},
   "outputs": [
    {
     "data": {
      "text/plain": [
       "Intercept                    152.918674\n",
       "I(flipper_length_mm ** 2)      0.003731\n",
       "dtype: float64"
      ]
     },
     "execution_count": 235,
     "metadata": {},
     "output_type": "execute_result"
    }
   ],
   "source": [
    "lm_fit.bse"
   ]
  },
  {
   "cell_type": "markdown",
   "id": "03b9a882",
   "metadata": {},
   "source": [
    "### We can use the $\\pm1$ and $\\pm2$ standard error intervals to know how trustworthy the estimate is."
   ]
  },
  {
   "cell_type": "markdown",
   "id": "ea6125fb",
   "metadata": {},
   "source": [
    "* The most common **standard error** interval is the $\\pm2$ **standard error** interval because that is approximately equal to the 95% confidence interval.\n",
    "\n",
    "* We are 95% confident that the **intercept** is somewhere between –1113.67 and –512.04 grams.\n",
    "\n",
    "* We are 95% confident that the **coefficient for the quadratic** term (I(flipper_length_mm ** 2)) is somewhere between 0.116 and 0.131.\n",
    "\n",
    "* These are exact confidence intervals calculated by `.conf_int()` rather than approximate intervals based on **standard errors**."
   ]
  },
  {
   "cell_type": "code",
   "execution_count": 236,
   "id": "1b369cae",
   "metadata": {},
   "outputs": [
    {
     "data": {
      "text/plain": [
       "Intercept                   -1118.68787\n",
       "I(flipper_length_mm ** 2)       0.11623\n",
       "dtype: float64"
      ]
     },
     "execution_count": 236,
     "metadata": {},
     "output_type": "execute_result"
    }
   ],
   "source": [
    "lm_fit.params - 2 * lm_fit.bse"
   ]
  },
  {
   "cell_type": "code",
   "execution_count": 237,
   "id": "005452af",
   "metadata": {},
   "outputs": [
    {
     "data": {
      "text/plain": [
       "Intercept                   -507.013175\n",
       "I(flipper_length_mm ** 2)      0.131156\n",
       "dtype: float64"
      ]
     },
     "execution_count": 237,
     "metadata": {},
     "output_type": "execute_result"
    }
   ],
   "source": [
    "lm_fit.params + 2 * lm_fit.bse"
   ]
  },
  {
   "cell_type": "code",
   "execution_count": 238,
   "id": "0592f109",
   "metadata": {},
   "outputs": [
    {
     "data": {
      "text/html": [
       "<div>\n",
       "<style scoped>\n",
       "    .dataframe tbody tr th:only-of-type {\n",
       "        vertical-align: middle;\n",
       "    }\n",
       "\n",
       "    .dataframe tbody tr th {\n",
       "        vertical-align: top;\n",
       "    }\n",
       "\n",
       "    .dataframe thead th {\n",
       "        text-align: right;\n",
       "    }\n",
       "</style>\n",
       "<table border=\"1\" class=\"dataframe\">\n",
       "  <thead>\n",
       "    <tr style=\"text-align: right;\">\n",
       "      <th></th>\n",
       "      <th>ci_lwr</th>\n",
       "      <th>ci_upr</th>\n",
       "    </tr>\n",
       "  </thead>\n",
       "  <tbody>\n",
       "    <tr>\n",
       "      <th>Intercept</th>\n",
       "      <td>-1113.665531</td>\n",
       "      <td>-512.035514</td>\n",
       "    </tr>\n",
       "    <tr>\n",
       "      <th>I(flipper_length_mm ** 2)</th>\n",
       "      <td>0.116353</td>\n",
       "      <td>0.131033</td>\n",
       "    </tr>\n",
       "  </tbody>\n",
       "</table>\n",
       "</div>"
      ],
      "text/plain": [
       "                                ci_lwr      ci_upr\n",
       "Intercept                 -1113.665531 -512.035514\n",
       "I(flipper_length_mm ** 2)     0.116353    0.131033"
      ]
     },
     "execution_count": 238,
     "metadata": {},
     "output_type": "execute_result"
    }
   ],
   "source": [
    "lm_fit.conf_int(). \\\n",
    "       rename(columns={0: 'ci_lwr',\n",
    "                       1: 'ci_upr'})"
   ]
  },
  {
   "cell_type": "markdown",
   "id": "c46a8977",
   "metadata": {},
   "source": [
    "### The P-values for the coefficients are used to identify the **statistically significant** of the input."
   ]
  },
  {
   "cell_type": "markdown",
   "id": "e74646ed",
   "metadata": {},
   "source": [
    "* A **statistically significent** input one that has a **p-value** less than 0.05 which means if this is the case, we have a **statistically significient** input or feature.\n",
    "\n",
    "* These values are extremely small and much lower than 0.05 so they indicate very strong **statistical significance** for both parameters. "
   ]
  },
  {
   "cell_type": "code",
   "execution_count": 239,
   "id": "7fd18408",
   "metadata": {},
   "outputs": [
    {
     "data": {
      "text/plain": [
       "Intercept                     1.958940e-07\n",
       "I(flipper_length_mm ** 2)    3.373763e-107\n",
       "dtype: float64"
      ]
     },
     "execution_count": 239,
     "metadata": {},
     "output_type": "execute_result"
    }
   ],
   "source": [
    "lm_fit.pvalues"
   ]
  },
  {
   "cell_type": "code",
   "execution_count": 240,
   "id": "dee983dd",
   "metadata": {},
   "outputs": [
    {
     "data": {
      "text/plain": [
       "Intercept                    True\n",
       "I(flipper_length_mm ** 2)    True\n",
       "dtype: bool"
      ]
     },
     "execution_count": 240,
     "metadata": {},
     "output_type": "execute_result"
    }
   ],
   "source": [
    "lm_fit.pvalues < 0.05"
   ]
  },
  {
   "cell_type": "markdown",
   "id": "2bcc3ebd",
   "metadata": {},
   "source": [
    "### Visualize the coefficient estimates as markers in a scatter plot and the confidence intervals as error bars. "
   ]
  },
  {
   "cell_type": "markdown",
   "id": "dfce87a3",
   "metadata": {},
   "source": [
    "* We are confident that the 95% confidence interval does NOT contain zero as both `flipper_length_mm` and the **intercept** are not touching the zero grey dotted line.\n",
    "\n",
    "* The **intercept** is **statistically significantly negative**; the **slope** is negative, and the `flipper_length_mm` is **statistically significantly positive**; the **slope** is positive.\n",
    "\n",
    "* **We are confident the slope is positive for the `flipper_length_mm`, therefore we are confident that the average output is increasing as the input or feature is increasing.**"
   ]
  },
  {
   "cell_type": "code",
   "execution_count": 241,
   "id": "235a25f3",
   "metadata": {},
   "outputs": [],
   "source": [
    "def my_coefplot(\n",
    "    model,\n",
    "    var,\n",
    "    xerr_mult=2,\n",
    "    color='k',\n",
    "    ecolor='k',\n",
    "    elinewidth=2,\n",
    "    ms=10,\n",
    "    vline=0,\n",
    "    xlabel='coefficient value',\n",
    "    title=None,\n",
    "    figsize=(7, 2.5),\n",
    "    xlim=None\n",
    "):\n",
    "    \"\"\"\n",
    "    Plots a single coefficient with error bars from a statsmodels model.\n",
    "\n",
    "    Params:\n",
    "        model: fitted statsmodels model\n",
    "        var: variable name (str), e.g. 'Intercept' or 'I(flipper_length_mm ** 2)'\n",
    "        xerr_mult: multiplier for error bars (default 2)\n",
    "        color: marker color\n",
    "        ecolor: error bar color\n",
    "        elinewidth: error bar line width\n",
    "        ms: marker size\n",
    "        vline: where to draw the vertical reference line (default 0)\n",
    "        xlabel: x-axis label (default 'coefficient value')\n",
    "        title: figure title (default None, uses variable name)\n",
    "        figsize: tuple, figure size\n",
    "        xlim: tuple, x-axis limits (optional, auto if None)\n",
    "    \"\"\"\n",
    "    # Get coefficient and error values\n",
    "    coef = model.params[var]\n",
    "    err = xerr_mult * model.bse[var]\n",
    "\n",
    "    # Create the plot\n",
    "    _, ax = plt.subplots(figsize=figsize)\n",
    "    ax.errorbar(\n",
    "        y = [var],\n",
    "        x = [coef],\n",
    "        xerr = [err],\n",
    "        fmt='o',\n",
    "        color=color,\n",
    "        ecolor=ecolor,\n",
    "        elinewidth=elinewidth,\n",
    "        ms=ms\n",
    "    )\n",
    "\n",
    "    # Add vertical line for reference\n",
    "    ax.axvline(x=vline, linestyle='--', linewidth=4, color='grey')\n",
    "    ax.set_xlabel(xlabel)\n",
    "    if title is None:\n",
    "        title = f\"Coefficient Plot for '{var}'\"\n",
    "    ax.set_title(title)\n",
    "\n",
    "    # Always include zero in xlim, and add padding around error bar\n",
    "    bar_left = min(coef - err, vline)\n",
    "    bar_right = max(coef + err, vline)\n",
    "    pad = (bar_right - bar_left) * 0.15 if (bar_right - bar_left) > 0 else 1\n",
    "    auto_xlim = (bar_left - pad, bar_right + pad)\n",
    "\n",
    "    # Set x-axis limits\n",
    "    if xlim is not None:\n",
    "        ax.set_xlim(*xlim)\n",
    "    else:\n",
    "        ax.set_xlim(*auto_xlim)\n",
    "\n",
    "    # Show the plot\n",
    "    plt.show()"
   ]
  },
  {
   "cell_type": "code",
   "execution_count": 242,
   "id": "977672c7",
   "metadata": {},
   "outputs": [
    {
     "data": {
      "image/png": "[encoded data removed]",
      "text/plain": [
       "<Figure size 700x250 with 1 Axes>"
      ]
     },
     "metadata": {},
     "output_type": "display_data"
    }
   ],
   "source": [
    "my_coefplot(lm_fit, var='Intercept')"
   ]
  },
  {
   "cell_type": "code",
   "execution_count": 243,
   "id": "0ff07702",
   "metadata": {},
   "outputs": [
    {
     "data": {
      "image/png": "[encoded data removed]",
      "text/plain": [
       "<Figure size 700x250 with 1 Axes>"
      ]
     },
     "metadata": {},
     "output_type": "display_data"
    }
   ],
   "source": [
    "my_coefplot(lm_fit, var='I(flipper_length_mm ** 2)')"
   ]
  }
 ],
 "metadata": {
  "kernelspec": {
   "display_name": "prod",
   "language": "python",
   "name": "python3"
  },
  "language_info": {
   "codemirror_mode": {
    "name": "ipython",
    "version": 3
   },
   "file_extension": ".py",
   "mimetype": "text/x-python",
   "name": "python",
   "nbconvert_exporter": "python",
   "pygments_lexer": "ipython3",
   "version": "3.12.7"
  }
 },
 "nbformat": 4,
 "nbformat_minor": 5
}
